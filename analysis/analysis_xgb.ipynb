{
 "cells": [
  {
   "cell_type": "markdown",
   "metadata": {},
   "source": [
    "# Enviroment Setup"
   ]
  },
  {
   "cell_type": "code",
   "execution_count": 3,
   "metadata": {},
   "outputs": [],
   "source": [
    "import xgboost as xgb\n",
    "import numpy as np\n",
    "from sklearn.metrics import accuracy_score\n",
    "import pandas as pd\n",
    "from datetime import datetime\n",
    "from collections import Counter"
   ]
  },
  {
   "cell_type": "code",
   "execution_count": 4,
   "metadata": {},
   "outputs": [],
   "source": [
    "from sklearn.preprocessing import MinMaxScaler\n",
    "from xgboost import XGBRegressor\n",
    "from sklearn.metrics import r2_score\n",
    "from sklearn.model_selection import GridSearchCV\n",
    "import joblib\n",
    "import matplotlib.pyplot as plt\n",
    "from wordcloud import WordCloud"
   ]
  },
  {
   "cell_type": "markdown",
   "metadata": {},
   "source": [
    "# Sample Data Loading"
   ]
  },
  {
   "cell_type": "code",
   "execution_count": 5,
   "metadata": {},
   "outputs": [
    {
     "name": "stderr",
     "output_type": "stream",
     "text": [
      "C:\\Users\\QiZheng\\anaconda3\\envs\\PythonData\\lib\\site-packages\\IPython\\core\\interactiveshell.py:3146: DtypeWarning: Columns (3) have mixed types.Specify dtype option on import or set low_memory=False.\n",
      "  has_raised = await self.run_ast_nodes(code_ast.body, cell_name,\n",
      "<ipython-input-5-307ec6053615>:8: UserWarning: Boolean Series key will be reindexed to match DataFrame index.\n",
      "  sample_df=sample_df[clean_movie_df[\"worlwide_gross_income\"].str.startswith(\"$\")]\n"
     ]
    },
    {
     "data": {
      "text/html": [
       "<div>\n",
       "<style scoped>\n",
       "    .dataframe tbody tr th:only-of-type {\n",
       "        vertical-align: middle;\n",
       "    }\n",
       "\n",
       "    .dataframe tbody tr th {\n",
       "        vertical-align: top;\n",
       "    }\n",
       "\n",
       "    .dataframe thead th {\n",
       "        text-align: right;\n",
       "    }\n",
       "</style>\n",
       "<table border=\"1\" class=\"dataframe\">\n",
       "  <thead>\n",
       "    <tr style=\"text-align: right;\">\n",
       "      <th></th>\n",
       "      <th>original_title</th>\n",
       "      <th>year</th>\n",
       "      <th>date_published</th>\n",
       "      <th>language</th>\n",
       "      <th>genre</th>\n",
       "      <th>duration</th>\n",
       "      <th>country</th>\n",
       "      <th>director</th>\n",
       "      <th>writer</th>\n",
       "      <th>production_company</th>\n",
       "      <th>actors</th>\n",
       "      <th>avg_vote</th>\n",
       "      <th>votes</th>\n",
       "      <th>budget</th>\n",
       "      <th>worlwide_gross_income</th>\n",
       "    </tr>\n",
       "  </thead>\n",
       "  <tbody>\n",
       "    <tr>\n",
       "      <th>165</th>\n",
       "      <td>Das Cabinet des Dr. Caligari</td>\n",
       "      <td>1920</td>\n",
       "      <td>1920-02-27</td>\n",
       "      <td>German</td>\n",
       "      <td>Fantasy, Horror, Mystery</td>\n",
       "      <td>76</td>\n",
       "      <td>Germany</td>\n",
       "      <td>Robert Wiene</td>\n",
       "      <td>Carl Mayer, Hans Janowitz</td>\n",
       "      <td>Decla-Bioscop AG</td>\n",
       "      <td>Werner Krauss, Conrad Veidt, Friedrich Feher, ...</td>\n",
       "      <td>8.1</td>\n",
       "      <td>55601</td>\n",
       "      <td>18000</td>\n",
       "      <td>8811</td>\n",
       "    </tr>\n",
       "    <tr>\n",
       "      <th>245</th>\n",
       "      <td>The Four Horsemen of the Apocalypse</td>\n",
       "      <td>1921</td>\n",
       "      <td>1923-04-16</td>\n",
       "      <td>None</td>\n",
       "      <td>Drama, Romance, War</td>\n",
       "      <td>150</td>\n",
       "      <td>USA</td>\n",
       "      <td>Rex Ingram</td>\n",
       "      <td>Vicente Blasco Ibáñez, June Mathis</td>\n",
       "      <td>Metro Pictures Corporation</td>\n",
       "      <td>Pomeroy Cannon, Josef Swickard, Bridgetta Clar...</td>\n",
       "      <td>7.2</td>\n",
       "      <td>3058</td>\n",
       "      <td>800000</td>\n",
       "      <td>9183673</td>\n",
       "    </tr>\n",
       "    <tr>\n",
       "      <th>251</th>\n",
       "      <td>The Kid</td>\n",
       "      <td>1921</td>\n",
       "      <td>1923-11-26</td>\n",
       "      <td>English, None</td>\n",
       "      <td>Comedy, Drama, Family</td>\n",
       "      <td>68</td>\n",
       "      <td>USA</td>\n",
       "      <td>Charles Chaplin</td>\n",
       "      <td>Charles Chaplin</td>\n",
       "      <td>Charles Chaplin Productions</td>\n",
       "      <td>Carl Miller, Edna Purviance, Jackie Coogan, Ch...</td>\n",
       "      <td>8.3</td>\n",
       "      <td>109038</td>\n",
       "      <td>250000</td>\n",
       "      <td>26916</td>\n",
       "    </tr>\n",
       "    <tr>\n",
       "      <th>348</th>\n",
       "      <td>A Woman of Paris: A Drama of Fate</td>\n",
       "      <td>1923</td>\n",
       "      <td>1927-06-06</td>\n",
       "      <td>None, English</td>\n",
       "      <td>Drama, Romance</td>\n",
       "      <td>82</td>\n",
       "      <td>USA</td>\n",
       "      <td>Charles Chaplin</td>\n",
       "      <td>Charles Chaplin</td>\n",
       "      <td>Charles Chaplin Productions</td>\n",
       "      <td>Edna Purviance, Clarence Geldart, Carl Miller,...</td>\n",
       "      <td>7.0</td>\n",
       "      <td>4735</td>\n",
       "      <td>351000</td>\n",
       "      <td>11233</td>\n",
       "    </tr>\n",
       "    <tr>\n",
       "      <th>415</th>\n",
       "      <td>The Gold Rush</td>\n",
       "      <td>1925</td>\n",
       "      <td>1925-10-23</td>\n",
       "      <td>English, None</td>\n",
       "      <td>Adventure, Comedy, Drama</td>\n",
       "      <td>95</td>\n",
       "      <td>USA</td>\n",
       "      <td>Charles Chaplin</td>\n",
       "      <td>Charles Chaplin</td>\n",
       "      <td>Charles Chaplin Productions</td>\n",
       "      <td>Charles Chaplin, Mack Swain, Tom Murray, Henry...</td>\n",
       "      <td>8.2</td>\n",
       "      <td>97480</td>\n",
       "      <td>923000</td>\n",
       "      <td>26916</td>\n",
       "    </tr>\n",
       "  </tbody>\n",
       "</table>\n",
       "</div>"
      ],
      "text/plain": [
       "                          original_title  year date_published       language  \\\n",
       "165         Das Cabinet des Dr. Caligari  1920     1920-02-27         German   \n",
       "245  The Four Horsemen of the Apocalypse  1921     1923-04-16           None   \n",
       "251                              The Kid  1921     1923-11-26  English, None   \n",
       "348    A Woman of Paris: A Drama of Fate  1923     1927-06-06  None, English   \n",
       "415                        The Gold Rush  1925     1925-10-23  English, None   \n",
       "\n",
       "                        genre  duration  country         director  \\\n",
       "165  Fantasy, Horror, Mystery        76  Germany     Robert Wiene   \n",
       "245       Drama, Romance, War       150      USA       Rex Ingram   \n",
       "251     Comedy, Drama, Family        68      USA  Charles Chaplin   \n",
       "348            Drama, Romance        82      USA  Charles Chaplin   \n",
       "415  Adventure, Comedy, Drama        95      USA  Charles Chaplin   \n",
       "\n",
       "                                 writer           production_company  \\\n",
       "165           Carl Mayer, Hans Janowitz             Decla-Bioscop AG   \n",
       "245  Vicente Blasco Ibáñez, June Mathis   Metro Pictures Corporation   \n",
       "251                     Charles Chaplin  Charles Chaplin Productions   \n",
       "348                     Charles Chaplin  Charles Chaplin Productions   \n",
       "415                     Charles Chaplin  Charles Chaplin Productions   \n",
       "\n",
       "                                                actors  avg_vote   votes  \\\n",
       "165  Werner Krauss, Conrad Veidt, Friedrich Feher, ...       8.1   55601   \n",
       "245  Pomeroy Cannon, Josef Swickard, Bridgetta Clar...       7.2    3058   \n",
       "251  Carl Miller, Edna Purviance, Jackie Coogan, Ch...       8.3  109038   \n",
       "348  Edna Purviance, Clarence Geldart, Carl Miller,...       7.0    4735   \n",
       "415  Charles Chaplin, Mack Swain, Tom Murray, Henry...       8.2   97480   \n",
       "\n",
       "     budget  worlwide_gross_income  \n",
       "165   18000                   8811  \n",
       "245  800000                9183673  \n",
       "251  250000                  26916  \n",
       "348  351000                  11233  \n",
       "415  923000                  26916  "
      ]
     },
     "execution_count": 5,
     "metadata": {},
     "output_type": "execute_result"
    }
   ],
   "source": [
    "movie_df = pd.read_csv('../data/IMDb movies.csv') \n",
    "reduced_df = movie_df[['original_title', 'year', 'date_published','language',\n",
    "       'genre', 'duration', 'country', 'director', 'writer',\n",
    "       'production_company', 'actors', 'avg_vote', 'votes',\n",
    "       'budget', 'worlwide_gross_income']]\n",
    "clean_movie_df = reduced_df.dropna()\n",
    "sample_df=clean_movie_df[clean_movie_df[\"budget\"].str.startswith(\"$\")]\n",
    "sample_df=sample_df[clean_movie_df[\"worlwide_gross_income\"].str.startswith(\"$\")]\n",
    "sample_df['budget'] = sample_df['budget'].str.replace('$','')\n",
    "sample_df['worlwide_gross_income'] = sample_df['worlwide_gross_income'].str.replace('$','')\n",
    "sample_df['budget'] = sample_df['budget'].astype(np.int64)\n",
    "sample_df['worlwide_gross_income'] = sample_df['worlwide_gross_income'].astype(np.int64)\n",
    "sample_df['year'] = sample_df['year'].astype(np.int64)\n",
    "sample_df.head()"
   ]
  },
  {
   "cell_type": "code",
   "execution_count": 6,
   "metadata": {},
   "outputs": [],
   "source": [
    "def extract_day(film_date):\n",
    "    try:\n",
    "        datetime_object = datetime.strptime(film_date, '%Y-%m-%d')\n",
    "        film_day = datetime_object.timetuple().tm_yday\n",
    "        return film_day\n",
    "    except:\n",
    "        return 0"
   ]
  },
  {
   "cell_type": "code",
   "execution_count": 7,
   "metadata": {},
   "outputs": [
    {
     "data": {
      "text/html": [
       "<div>\n",
       "<style scoped>\n",
       "    .dataframe tbody tr th:only-of-type {\n",
       "        vertical-align: middle;\n",
       "    }\n",
       "\n",
       "    .dataframe tbody tr th {\n",
       "        vertical-align: top;\n",
       "    }\n",
       "\n",
       "    .dataframe thead th {\n",
       "        text-align: right;\n",
       "    }\n",
       "</style>\n",
       "<table border=\"1\" class=\"dataframe\">\n",
       "  <thead>\n",
       "    <tr style=\"text-align: right;\">\n",
       "      <th></th>\n",
       "      <th>original_title</th>\n",
       "      <th>year</th>\n",
       "      <th>language</th>\n",
       "      <th>genre</th>\n",
       "      <th>duration</th>\n",
       "      <th>country</th>\n",
       "      <th>director</th>\n",
       "      <th>writer</th>\n",
       "      <th>production_company</th>\n",
       "      <th>actors</th>\n",
       "      <th>avg_vote</th>\n",
       "      <th>votes</th>\n",
       "      <th>budget</th>\n",
       "      <th>worlwide_gross_income</th>\n",
       "      <th>day</th>\n",
       "    </tr>\n",
       "  </thead>\n",
       "  <tbody>\n",
       "    <tr>\n",
       "      <th>165</th>\n",
       "      <td>Das Cabinet des Dr. Caligari</td>\n",
       "      <td>1920</td>\n",
       "      <td>German</td>\n",
       "      <td>Fantasy, Horror, Mystery</td>\n",
       "      <td>76</td>\n",
       "      <td>Germany</td>\n",
       "      <td>Robert Wiene</td>\n",
       "      <td>Carl Mayer, Hans Janowitz</td>\n",
       "      <td>Decla-Bioscop AG</td>\n",
       "      <td>Werner Krauss, Conrad Veidt, Friedrich Feher, ...</td>\n",
       "      <td>8.1</td>\n",
       "      <td>55601</td>\n",
       "      <td>18000</td>\n",
       "      <td>8811</td>\n",
       "      <td>58</td>\n",
       "    </tr>\n",
       "    <tr>\n",
       "      <th>245</th>\n",
       "      <td>The Four Horsemen of the Apocalypse</td>\n",
       "      <td>1921</td>\n",
       "      <td>None</td>\n",
       "      <td>Drama, Romance, War</td>\n",
       "      <td>150</td>\n",
       "      <td>USA</td>\n",
       "      <td>Rex Ingram</td>\n",
       "      <td>Vicente Blasco Ibáñez, June Mathis</td>\n",
       "      <td>Metro Pictures Corporation</td>\n",
       "      <td>Pomeroy Cannon, Josef Swickard, Bridgetta Clar...</td>\n",
       "      <td>7.2</td>\n",
       "      <td>3058</td>\n",
       "      <td>800000</td>\n",
       "      <td>9183673</td>\n",
       "      <td>106</td>\n",
       "    </tr>\n",
       "    <tr>\n",
       "      <th>251</th>\n",
       "      <td>The Kid</td>\n",
       "      <td>1921</td>\n",
       "      <td>English, None</td>\n",
       "      <td>Comedy, Drama, Family</td>\n",
       "      <td>68</td>\n",
       "      <td>USA</td>\n",
       "      <td>Charles Chaplin</td>\n",
       "      <td>Charles Chaplin</td>\n",
       "      <td>Charles Chaplin Productions</td>\n",
       "      <td>Carl Miller, Edna Purviance, Jackie Coogan, Ch...</td>\n",
       "      <td>8.3</td>\n",
       "      <td>109038</td>\n",
       "      <td>250000</td>\n",
       "      <td>26916</td>\n",
       "      <td>330</td>\n",
       "    </tr>\n",
       "    <tr>\n",
       "      <th>348</th>\n",
       "      <td>A Woman of Paris: A Drama of Fate</td>\n",
       "      <td>1923</td>\n",
       "      <td>None, English</td>\n",
       "      <td>Drama, Romance</td>\n",
       "      <td>82</td>\n",
       "      <td>USA</td>\n",
       "      <td>Charles Chaplin</td>\n",
       "      <td>Charles Chaplin</td>\n",
       "      <td>Charles Chaplin Productions</td>\n",
       "      <td>Edna Purviance, Clarence Geldart, Carl Miller,...</td>\n",
       "      <td>7.0</td>\n",
       "      <td>4735</td>\n",
       "      <td>351000</td>\n",
       "      <td>11233</td>\n",
       "      <td>157</td>\n",
       "    </tr>\n",
       "    <tr>\n",
       "      <th>415</th>\n",
       "      <td>The Gold Rush</td>\n",
       "      <td>1925</td>\n",
       "      <td>English, None</td>\n",
       "      <td>Adventure, Comedy, Drama</td>\n",
       "      <td>95</td>\n",
       "      <td>USA</td>\n",
       "      <td>Charles Chaplin</td>\n",
       "      <td>Charles Chaplin</td>\n",
       "      <td>Charles Chaplin Productions</td>\n",
       "      <td>Charles Chaplin, Mack Swain, Tom Murray, Henry...</td>\n",
       "      <td>8.2</td>\n",
       "      <td>97480</td>\n",
       "      <td>923000</td>\n",
       "      <td>26916</td>\n",
       "      <td>296</td>\n",
       "    </tr>\n",
       "  </tbody>\n",
       "</table>\n",
       "</div>"
      ],
      "text/plain": [
       "                          original_title  year       language  \\\n",
       "165         Das Cabinet des Dr. Caligari  1920         German   \n",
       "245  The Four Horsemen of the Apocalypse  1921           None   \n",
       "251                              The Kid  1921  English, None   \n",
       "348    A Woman of Paris: A Drama of Fate  1923  None, English   \n",
       "415                        The Gold Rush  1925  English, None   \n",
       "\n",
       "                        genre  duration  country         director  \\\n",
       "165  Fantasy, Horror, Mystery        76  Germany     Robert Wiene   \n",
       "245       Drama, Romance, War       150      USA       Rex Ingram   \n",
       "251     Comedy, Drama, Family        68      USA  Charles Chaplin   \n",
       "348            Drama, Romance        82      USA  Charles Chaplin   \n",
       "415  Adventure, Comedy, Drama        95      USA  Charles Chaplin   \n",
       "\n",
       "                                 writer           production_company  \\\n",
       "165           Carl Mayer, Hans Janowitz             Decla-Bioscop AG   \n",
       "245  Vicente Blasco Ibáñez, June Mathis   Metro Pictures Corporation   \n",
       "251                     Charles Chaplin  Charles Chaplin Productions   \n",
       "348                     Charles Chaplin  Charles Chaplin Productions   \n",
       "415                     Charles Chaplin  Charles Chaplin Productions   \n",
       "\n",
       "                                                actors  avg_vote   votes  \\\n",
       "165  Werner Krauss, Conrad Veidt, Friedrich Feher, ...       8.1   55601   \n",
       "245  Pomeroy Cannon, Josef Swickard, Bridgetta Clar...       7.2    3058   \n",
       "251  Carl Miller, Edna Purviance, Jackie Coogan, Ch...       8.3  109038   \n",
       "348  Edna Purviance, Clarence Geldart, Carl Miller,...       7.0    4735   \n",
       "415  Charles Chaplin, Mack Swain, Tom Murray, Henry...       8.2   97480   \n",
       "\n",
       "     budget  worlwide_gross_income  day  \n",
       "165   18000                   8811   58  \n",
       "245  800000                9183673  106  \n",
       "251  250000                  26916  330  \n",
       "348  351000                  11233  157  \n",
       "415  923000                  26916  296  "
      ]
     },
     "execution_count": 7,
     "metadata": {},
     "output_type": "execute_result"
    }
   ],
   "source": [
    "sample_df['day']=sample_df['date_published'].apply(lambda x: extract_day(x))\n",
    "sample_df=sample_df[sample_df['day']>0]\n",
    "sample_df=sample_df.drop(['date_published'],axis=1)\n",
    "sample_df.head()"
   ]
  },
  {
   "cell_type": "code",
   "execution_count": 44,
   "metadata": {},
   "outputs": [
    {
     "data": {
      "image/png": "[encoded data removed]",
      "text/plain": [
       "<Figure size 864x576 with 1 Axes>"
      ]
     },
     "metadata": {
      "needs_background": "light"
     },
     "output_type": "display_data"
    }
   ],
   "source": [
    "ax = sample_df.hist(column='duration', bins=25, grid=True, figsize=(12,8), zorder=2, rwidth=0.9)"
   ]
  },
  {
   "cell_type": "code",
   "execution_count": 8,
   "metadata": {},
   "outputs": [],
   "source": [
    "list_of_languages = list(sample_df['language'].apply(lambda x:  [i for i in x.split(', ')]).values)\n",
    "list_of_genres = list(sample_df['genre'].apply(lambda x:  [i for i in x.split(', ')]).values)\n",
    "list_of_countries = list(sample_df['country'].apply(lambda x:  [i for i in x.split(', ')]).values)\n",
    "list_of_actors = list(sample_df['actors'].apply(lambda x:  [i for i in x.split(', ')]).values)\n",
    "list_of_directors = list(sample_df['director'].apply(lambda x:  [i for i in x.split(', ')]).values)\n",
    "list_of_writers = list(sample_df['writer'].apply(lambda x:  [i for i in x.split(', ')]).values)\n",
    "list_of_companies = list(sample_df['production_company'].apply(lambda x:  [i for i in x.split(', ')]).values)"
   ]
  },
  {
   "cell_type": "code",
   "execution_count": 9,
   "metadata": {},
   "outputs": [
    {
     "data": {
      "image/png": "[encoded data removed]",
      "text/plain": [
       "<Figure size 864x576 with 1 Axes>"
      ]
     },
     "metadata": {
      "needs_background": "light"
     },
     "output_type": "display_data"
    }
   ],
   "source": [
    "plt.figure(figsize = (12, 8))\n",
    "text = ' '.join([i for j in list_of_genres for i in j])\n",
    "wordcloud = WordCloud(max_font_size=None, background_color='white', collocations=False,\n",
    "                      width=1200, height=1000).generate(text)\n",
    "plt.imshow(wordcloud)\n",
    "plt.title('Top genres')\n",
    "plt.axis(\"off\")\n",
    "plt.show()"
   ]
  },
  {
   "cell_type": "code",
   "execution_count": 25,
   "metadata": {},
   "outputs": [
    {
     "data": {
      "text/html": [
       "<div>\n",
       "<style scoped>\n",
       "    .dataframe tbody tr th:only-of-type {\n",
       "        vertical-align: middle;\n",
       "    }\n",
       "\n",
       "    .dataframe tbody tr th {\n",
       "        vertical-align: top;\n",
       "    }\n",
       "\n",
       "    .dataframe thead th {\n",
       "        text-align: right;\n",
       "    }\n",
       "</style>\n",
       "<table border=\"1\" class=\"dataframe\">\n",
       "  <thead>\n",
       "    <tr style=\"text-align: right;\">\n",
       "      <th></th>\n",
       "      <th>feature</th>\n",
       "      <th>importance</th>\n",
       "    </tr>\n",
       "  </thead>\n",
       "  <tbody>\n",
       "    <tr>\n",
       "      <th>0</th>\n",
       "      <td>year</td>\n",
       "      <td>0.002332</td>\n",
       "    </tr>\n",
       "    <tr>\n",
       "      <th>1</th>\n",
       "      <td>duration</td>\n",
       "      <td>0.001710</td>\n",
       "    </tr>\n",
       "    <tr>\n",
       "      <th>2</th>\n",
       "      <td>votes</td>\n",
       "      <td>0.025174</td>\n",
       "    </tr>\n",
       "    <tr>\n",
       "      <th>3</th>\n",
       "      <td>budget</td>\n",
       "      <td>0.080473</td>\n",
       "    </tr>\n",
       "    <tr>\n",
       "      <th>4</th>\n",
       "      <td>day</td>\n",
       "      <td>0.002321</td>\n",
       "    </tr>\n",
       "  </tbody>\n",
       "</table>\n",
       "</div>"
      ],
      "text/plain": [
       "    feature  importance\n",
       "0      year    0.002332\n",
       "1  duration    0.001710\n",
       "2     votes    0.025174\n",
       "3    budget    0.080473\n",
       "4       day    0.002321"
      ]
     },
     "execution_count": 25,
     "metadata": {},
     "output_type": "execute_result"
    }
   ],
   "source": [
    "rev_feature_df = pd.read_csv(\"../model/encoded_data/feature_importance_rev_xgb.csv\")\n",
    "rat_feature_df = pd.read_csv(\"../model/encoded_data/feature_importance_rate_xgb.csv\")\n",
    "rev_feature_df.head()"
   ]
  },
  {
   "cell_type": "code",
   "execution_count": 40,
   "metadata": {},
   "outputs": [
    {
     "data": {
      "text/html": [
       "<div>\n",
       "<style scoped>\n",
       "    .dataframe tbody tr th:only-of-type {\n",
       "        vertical-align: middle;\n",
       "    }\n",
       "\n",
       "    .dataframe tbody tr th {\n",
       "        vertical-align: top;\n",
       "    }\n",
       "\n",
       "    .dataframe thead th {\n",
       "        text-align: right;\n",
       "    }\n",
       "</style>\n",
       "<table border=\"1\" class=\"dataframe\">\n",
       "  <thead>\n",
       "    <tr style=\"text-align: right;\">\n",
       "      <th></th>\n",
       "      <th>feature</th>\n",
       "      <th>importance</th>\n",
       "    </tr>\n",
       "  </thead>\n",
       "  <tbody>\n",
       "    <tr>\n",
       "      <th>3</th>\n",
       "      <td>budget</td>\n",
       "      <td>0.080473</td>\n",
       "    </tr>\n",
       "    <tr>\n",
       "      <th>30</th>\n",
       "      <td>genre_Adventure</td>\n",
       "      <td>0.027131</td>\n",
       "    </tr>\n",
       "    <tr>\n",
       "      <th>2</th>\n",
       "      <td>votes</td>\n",
       "      <td>0.025174</td>\n",
       "    </tr>\n",
       "    <tr>\n",
       "      <th>22</th>\n",
       "      <td>language_Afrikaans</td>\n",
       "      <td>0.024645</td>\n",
       "    </tr>\n",
       "    <tr>\n",
       "      <th>38</th>\n",
       "      <td>genre_Animation</td>\n",
       "      <td>0.022773</td>\n",
       "    </tr>\n",
       "    <tr>\n",
       "      <th>245</th>\n",
       "      <td>company_Lucasfilm</td>\n",
       "      <td>0.018542</td>\n",
       "    </tr>\n",
       "    <tr>\n",
       "      <th>364</th>\n",
       "      <td>actor_Josh Gad</td>\n",
       "      <td>0.017618</td>\n",
       "    </tr>\n",
       "    <tr>\n",
       "      <th>312</th>\n",
       "      <td>actor_James McAvoy</td>\n",
       "      <td>0.016852</td>\n",
       "    </tr>\n",
       "    <tr>\n",
       "      <th>83</th>\n",
       "      <td>director_Bill Condon</td>\n",
       "      <td>0.016790</td>\n",
       "    </tr>\n",
       "    <tr>\n",
       "      <th>355</th>\n",
       "      <td>actor_Chris Pratt</td>\n",
       "      <td>0.016640</td>\n",
       "    </tr>\n",
       "  </tbody>\n",
       "</table>\n",
       "</div>"
      ],
      "text/plain": [
       "                  feature  importance\n",
       "3                  budget    0.080473\n",
       "30        genre_Adventure    0.027131\n",
       "2                   votes    0.025174\n",
       "22     language_Afrikaans    0.024645\n",
       "38        genre_Animation    0.022773\n",
       "245     company_Lucasfilm    0.018542\n",
       "364        actor_Josh Gad    0.017618\n",
       "312    actor_James McAvoy    0.016852\n",
       "83   director_Bill Condon    0.016790\n",
       "355     actor_Chris Pratt    0.016640"
      ]
     },
     "execution_count": 40,
     "metadata": {},
     "output_type": "execute_result"
    }
   ],
   "source": [
    "rev_topfeature_df=rev_feature_df.sort_values(by=['importance'], ascending=False).head(10)\n",
    "rev_topfeature_df"
   ]
  },
  {
   "cell_type": "code",
   "execution_count": 41,
   "metadata": {},
   "outputs": [
    {
     "data": {
      "image/png": "[encoded data removed]",
      "text/plain": [
       "<Figure size 432x288 with 1 Axes>"
      ]
     },
     "metadata": {
      "needs_background": "light"
     },
     "output_type": "display_data"
    }
   ],
   "source": [
    "ax = rev_topfeature_df.plot.bar(x='feature', y='importance', rot=90)"
   ]
  },
  {
   "cell_type": "code",
   "execution_count": 37,
   "metadata": {},
   "outputs": [
    {
     "data": {
      "text/html": [
       "<div>\n",
       "<style scoped>\n",
       "    .dataframe tbody tr th:only-of-type {\n",
       "        vertical-align: middle;\n",
       "    }\n",
       "\n",
       "    .dataframe tbody tr th {\n",
       "        vertical-align: top;\n",
       "    }\n",
       "\n",
       "    .dataframe thead th {\n",
       "        text-align: right;\n",
       "    }\n",
       "</style>\n",
       "<table border=\"1\" class=\"dataframe\">\n",
       "  <thead>\n",
       "    <tr style=\"text-align: right;\">\n",
       "      <th></th>\n",
       "      <th>feature</th>\n",
       "      <th>importance</th>\n",
       "    </tr>\n",
       "  </thead>\n",
       "  <tbody>\n",
       "    <tr>\n",
       "      <th>28</th>\n",
       "      <td>genre_Drama</td>\n",
       "      <td>0.079796</td>\n",
       "    </tr>\n",
       "    <tr>\n",
       "      <th>40</th>\n",
       "      <td>genre_Biography</td>\n",
       "      <td>0.020958</td>\n",
       "    </tr>\n",
       "    <tr>\n",
       "      <th>327</th>\n",
       "      <td>actor_Sam Neill</td>\n",
       "      <td>0.017833</td>\n",
       "    </tr>\n",
       "    <tr>\n",
       "      <th>122</th>\n",
       "      <td>director_Aaron Seltzer</td>\n",
       "      <td>0.016295</td>\n",
       "    </tr>\n",
       "    <tr>\n",
       "      <th>2</th>\n",
       "      <td>votes</td>\n",
       "      <td>0.015619</td>\n",
       "    </tr>\n",
       "    <tr>\n",
       "      <th>266</th>\n",
       "      <td>company_Boll Kino Beteiligungs GmbH &amp; Co. KG</td>\n",
       "      <td>0.013655</td>\n",
       "    </tr>\n",
       "    <tr>\n",
       "      <th>49</th>\n",
       "      <td>country_USA</td>\n",
       "      <td>0.013213</td>\n",
       "    </tr>\n",
       "    <tr>\n",
       "      <th>64</th>\n",
       "      <td>country_Turkey</td>\n",
       "      <td>0.012922</td>\n",
       "    </tr>\n",
       "    <tr>\n",
       "      <th>35</th>\n",
       "      <td>genre_Horror</td>\n",
       "      <td>0.012060</td>\n",
       "    </tr>\n",
       "    <tr>\n",
       "      <th>433</th>\n",
       "      <td>actor_Alicia Silverstone</td>\n",
       "      <td>0.010304</td>\n",
       "    </tr>\n",
       "  </tbody>\n",
       "</table>\n",
       "</div>"
      ],
      "text/plain": [
       "                                          feature  importance\n",
       "28                                    genre_Drama    0.079796\n",
       "40                                genre_Biography    0.020958\n",
       "327                               actor_Sam Neill    0.017833\n",
       "122                        director_Aaron Seltzer    0.016295\n",
       "2                                           votes    0.015619\n",
       "266  company_Boll Kino Beteiligungs GmbH & Co. KG    0.013655\n",
       "49                                    country_USA    0.013213\n",
       "64                                 country_Turkey    0.012922\n",
       "35                                   genre_Horror    0.012060\n",
       "433                      actor_Alicia Silverstone    0.010304"
      ]
     },
     "execution_count": 37,
     "metadata": {},
     "output_type": "execute_result"
    }
   ],
   "source": [
    "rat_topfeature_df=rat_feature_df.sort_values(by=['importance'], ascending=False).head(10)\n",
    "rat_topfeature_df"
   ]
  },
  {
   "cell_type": "code",
   "execution_count": 39,
   "metadata": {
    "scrolled": true
   },
   "outputs": [
    {
     "data": {
      "image/png": "[encoded data removed]",
      "text/plain": [
       "<Figure size 432x288 with 1 Axes>"
      ]
     },
     "metadata": {
      "needs_background": "light"
     },
     "output_type": "display_data"
    }
   ],
   "source": [
    "ax = rat_topfeature_df.plot.bar(x='feature', y='importance', rot=90)"
   ]
  },
  {
   "cell_type": "code",
   "execution_count": 26,
   "metadata": {},
   "outputs": [
    {
     "name": "stderr",
     "output_type": "stream",
     "text": [
      "<ipython-input-26-0e4f77a6d63c>:2: SettingWithCopyWarning: \n",
      "A value is trying to be set on a copy of a slice from a DataFrame.\n",
      "Try using .loc[row_indexer,col_indexer] = value instead\n",
      "\n",
      "See the caveats in the documentation: https://pandas.pydata.org/pandas-docs/stable/user_guide/indexing.html#returning-a-view-versus-a-copy\n",
      "  rev_genre_df['feature'] = rev_genre_df['feature'].str.replace('genre_','')\n",
      "<ipython-input-26-0e4f77a6d63c>:4: SettingWithCopyWarning: \n",
      "A value is trying to be set on a copy of a slice from a DataFrame.\n",
      "Try using .loc[row_indexer,col_indexer] = value instead\n",
      "\n",
      "See the caveats in the documentation: https://pandas.pydata.org/pandas-docs/stable/user_guide/indexing.html#returning-a-view-versus-a-copy\n",
      "  rat_genre_df['feature'] = rat_genre_df['feature'].str.replace('genre_','')\n"
     ]
    }
   ],
   "source": [
    "rev_genre_df=rev_feature_df[rev_feature_df[\"feature\"].str.startswith(\"genre_\")]\n",
    "rev_genre_df['feature'] = rev_genre_df['feature'].str.replace('genre_','')\n",
    "rat_genre_df=rat_feature_df[rat_feature_df[\"feature\"].str.startswith(\"genre_\")]\n",
    "rat_genre_df['feature'] = rat_genre_df['feature'].str.replace('genre_','')"
   ]
  },
  {
   "cell_type": "code",
   "execution_count": 27,
   "metadata": {},
   "outputs": [
    {
     "data": {
      "image/png": "[encoded data removed]",
      "text/plain": [
       "<Figure size 432x288 with 1 Axes>"
      ]
     },
     "metadata": {
      "needs_background": "light"
     },
     "output_type": "display_data"
    }
   ],
   "source": [
    "ax = rev_genre_df.plot.bar(x='feature', y='importance', rot=90)"
   ]
  },
  {
   "cell_type": "code",
   "execution_count": 28,
   "metadata": {},
   "outputs": [
    {
     "data": {
      "image/png": "[encoded data removed]",
      "text/plain": [
       "<Figure size 432x288 with 1 Axes>"
      ]
     },
     "metadata": {
      "needs_background": "light"
     },
     "output_type": "display_data"
    }
   ],
   "source": [
    "ax = rat_genre_df.plot.bar(x='feature', y='importance', rot=90)"
   ]
  },
  {
   "cell_type": "code",
   "execution_count": null,
   "metadata": {},
   "outputs": [],
   "source": []
  },
  {
   "cell_type": "code",
   "execution_count": 43,
   "metadata": {},
   "outputs": [
    {
     "data": {
      "image/png": "[encoded data removed]",
      "text/plain": [
       "<Figure size 864x576 with 1 Axes>"
      ]
     },
     "metadata": {
      "needs_background": "light"
     },
     "output_type": "display_data"
    }
   ],
   "source": []
  },
  {
   "cell_type": "code",
   "execution_count": null,
   "metadata": {},
   "outputs": [],
   "source": []
  },
  {
   "cell_type": "code",
   "execution_count": null,
   "metadata": {},
   "outputs": [],
   "source": []
  },
  {
   "cell_type": "code",
   "execution_count": 3,
   "metadata": {},
   "outputs": [],
   "source": [
    "rev_select_sample_df = pd.read_csv(\"model/encoded_data/select_sample_data_rev_xgb.csv\")\n",
    "revenue_y = pd.read_csv(\"model/encoded_data/revenue_xgb.csv\")\n",
    "rat_select_sample_df = pd.read_csv(\"model/encoded_data/select_sample_data_rate_xgb.csv\")\n",
    "rate_y = pd.read_csv(\"model/encoded_data/rating_xgb.csv\")"
   ]
  },
  {
   "cell_type": "code",
   "execution_count": 4,
   "metadata": {},
   "outputs": [
    {
     "data": {
      "text/html": [
       "<div>\n",
       "<style scoped>\n",
       "    .dataframe tbody tr th:only-of-type {\n",
       "        vertical-align: middle;\n",
       "    }\n",
       "\n",
       "    .dataframe tbody tr th {\n",
       "        vertical-align: top;\n",
       "    }\n",
       "\n",
       "    .dataframe thead th {\n",
       "        text-align: right;\n",
       "    }\n",
       "</style>\n",
       "<table border=\"1\" class=\"dataframe\">\n",
       "  <thead>\n",
       "    <tr style=\"text-align: right;\">\n",
       "      <th></th>\n",
       "      <th>year</th>\n",
       "      <th>duration</th>\n",
       "      <th>votes</th>\n",
       "      <th>budget</th>\n",
       "      <th>day</th>\n",
       "      <th>language_Spanish</th>\n",
       "      <th>language_French</th>\n",
       "      <th>language_Russian</th>\n",
       "      <th>language_German</th>\n",
       "      <th>language_Italian</th>\n",
       "      <th>...</th>\n",
       "      <th>actor_Daniel Stern</th>\n",
       "      <th>actor_Blythe Danner</th>\n",
       "      <th>actor_Catherine O'Hara</th>\n",
       "      <th>actor_Allison Janney</th>\n",
       "      <th>actor_Karl Urban</th>\n",
       "      <th>actor_Vanessa Hudgens</th>\n",
       "      <th>actor_Christoph Waltz</th>\n",
       "      <th>actor_Tyler Perry</th>\n",
       "      <th>actor_Octavia Spencer</th>\n",
       "      <th>actor_Dave Bautista</th>\n",
       "    </tr>\n",
       "  </thead>\n",
       "  <tbody>\n",
       "    <tr>\n",
       "      <th>0</th>\n",
       "      <td>1920</td>\n",
       "      <td>76</td>\n",
       "      <td>55601</td>\n",
       "      <td>18000</td>\n",
       "      <td>58</td>\n",
       "      <td>0</td>\n",
       "      <td>0</td>\n",
       "      <td>0</td>\n",
       "      <td>1</td>\n",
       "      <td>0</td>\n",
       "      <td>...</td>\n",
       "      <td>0</td>\n",
       "      <td>0</td>\n",
       "      <td>0</td>\n",
       "      <td>0</td>\n",
       "      <td>0</td>\n",
       "      <td>0</td>\n",
       "      <td>0</td>\n",
       "      <td>0</td>\n",
       "      <td>0</td>\n",
       "      <td>0</td>\n",
       "    </tr>\n",
       "    <tr>\n",
       "      <th>1</th>\n",
       "      <td>1921</td>\n",
       "      <td>150</td>\n",
       "      <td>3058</td>\n",
       "      <td>800000</td>\n",
       "      <td>106</td>\n",
       "      <td>0</td>\n",
       "      <td>0</td>\n",
       "      <td>0</td>\n",
       "      <td>0</td>\n",
       "      <td>0</td>\n",
       "      <td>...</td>\n",
       "      <td>0</td>\n",
       "      <td>0</td>\n",
       "      <td>0</td>\n",
       "      <td>0</td>\n",
       "      <td>0</td>\n",
       "      <td>0</td>\n",
       "      <td>0</td>\n",
       "      <td>0</td>\n",
       "      <td>0</td>\n",
       "      <td>0</td>\n",
       "    </tr>\n",
       "    <tr>\n",
       "      <th>2</th>\n",
       "      <td>1921</td>\n",
       "      <td>68</td>\n",
       "      <td>109038</td>\n",
       "      <td>250000</td>\n",
       "      <td>330</td>\n",
       "      <td>0</td>\n",
       "      <td>0</td>\n",
       "      <td>0</td>\n",
       "      <td>0</td>\n",
       "      <td>0</td>\n",
       "      <td>...</td>\n",
       "      <td>0</td>\n",
       "      <td>0</td>\n",
       "      <td>0</td>\n",
       "      <td>0</td>\n",
       "      <td>0</td>\n",
       "      <td>0</td>\n",
       "      <td>0</td>\n",
       "      <td>0</td>\n",
       "      <td>0</td>\n",
       "      <td>0</td>\n",
       "    </tr>\n",
       "    <tr>\n",
       "      <th>3</th>\n",
       "      <td>1923</td>\n",
       "      <td>82</td>\n",
       "      <td>4735</td>\n",
       "      <td>351000</td>\n",
       "      <td>157</td>\n",
       "      <td>0</td>\n",
       "      <td>0</td>\n",
       "      <td>0</td>\n",
       "      <td>0</td>\n",
       "      <td>0</td>\n",
       "      <td>...</td>\n",
       "      <td>0</td>\n",
       "      <td>0</td>\n",
       "      <td>0</td>\n",
       "      <td>0</td>\n",
       "      <td>0</td>\n",
       "      <td>0</td>\n",
       "      <td>0</td>\n",
       "      <td>0</td>\n",
       "      <td>0</td>\n",
       "      <td>0</td>\n",
       "    </tr>\n",
       "    <tr>\n",
       "      <th>4</th>\n",
       "      <td>1925</td>\n",
       "      <td>95</td>\n",
       "      <td>97480</td>\n",
       "      <td>923000</td>\n",
       "      <td>296</td>\n",
       "      <td>0</td>\n",
       "      <td>0</td>\n",
       "      <td>0</td>\n",
       "      <td>0</td>\n",
       "      <td>0</td>\n",
       "      <td>...</td>\n",
       "      <td>0</td>\n",
       "      <td>0</td>\n",
       "      <td>0</td>\n",
       "      <td>0</td>\n",
       "      <td>0</td>\n",
       "      <td>0</td>\n",
       "      <td>0</td>\n",
       "      <td>0</td>\n",
       "      <td>0</td>\n",
       "      <td>0</td>\n",
       "    </tr>\n",
       "  </tbody>\n",
       "</table>\n",
       "<p>5 rows × 381 columns</p>\n",
       "</div>"
      ],
      "text/plain": [
       "   year  duration   votes  budget  day  language_Spanish  language_French  \\\n",
       "0  1920        76   55601   18000   58                 0                0   \n",
       "1  1921       150    3058  800000  106                 0                0   \n",
       "2  1921        68  109038  250000  330                 0                0   \n",
       "3  1923        82    4735  351000  157                 0                0   \n",
       "4  1925        95   97480  923000  296                 0                0   \n",
       "\n",
       "   language_Russian  language_German  language_Italian  ...  \\\n",
       "0                 0                1                 0  ...   \n",
       "1                 0                0                 0  ...   \n",
       "2                 0                0                 0  ...   \n",
       "3                 0                0                 0  ...   \n",
       "4                 0                0                 0  ...   \n",
       "\n",
       "   actor_Daniel Stern  actor_Blythe Danner  actor_Catherine O'Hara  \\\n",
       "0                   0                    0                       0   \n",
       "1                   0                    0                       0   \n",
       "2                   0                    0                       0   \n",
       "3                   0                    0                       0   \n",
       "4                   0                    0                       0   \n",
       "\n",
       "   actor_Allison Janney  actor_Karl Urban  actor_Vanessa Hudgens  \\\n",
       "0                     0                 0                      0   \n",
       "1                     0                 0                      0   \n",
       "2                     0                 0                      0   \n",
       "3                     0                 0                      0   \n",
       "4                     0                 0                      0   \n",
       "\n",
       "   actor_Christoph Waltz  actor_Tyler Perry  actor_Octavia Spencer  \\\n",
       "0                      0                  0                      0   \n",
       "1                      0                  0                      0   \n",
       "2                      0                  0                      0   \n",
       "3                      0                  0                      0   \n",
       "4                      0                  0                      0   \n",
       "\n",
       "   actor_Dave Bautista  \n",
       "0                    0  \n",
       "1                    0  \n",
       "2                    0  \n",
       "3                    0  \n",
       "4                    0  \n",
       "\n",
       "[5 rows x 381 columns]"
      ]
     },
     "execution_count": 4,
     "metadata": {},
     "output_type": "execute_result"
    }
   ],
   "source": [
    "rev_select_sample_df.head()"
   ]
  },
  {
   "cell_type": "code",
   "execution_count": 5,
   "metadata": {},
   "outputs": [
    {
     "data": {
      "text/plain": [
       "25100977.97102593"
      ]
     },
     "execution_count": 5,
     "metadata": {},
     "output_type": "execute_result"
    }
   ],
   "source": [
    "rev_select_sample_df[\"budget\"].mean()"
   ]
  },
  {
   "cell_type": "code",
   "execution_count": 6,
   "metadata": {},
   "outputs": [],
   "source": [
    "X_rev = rev_select_sample_df\n",
    "X_rat = rat_select_sample_df"
   ]
  },
  {
   "cell_type": "markdown",
   "metadata": {},
   "source": [
    "# Data Scaler"
   ]
  },
  {
   "cell_type": "code",
   "execution_count": 7,
   "metadata": {},
   "outputs": [],
   "source": [
    "duration_scaler=MinMaxScaler().fit(X_rev[[\"duration\"]])\n",
    "day_scaler=MinMaxScaler().fit(X_rev[[\"day\"]])"
   ]
  },
  {
   "cell_type": "markdown",
   "metadata": {},
   "source": [
    "# Revenue Predictor Load"
   ]
  },
  {
   "cell_type": "code",
   "execution_count": 8,
   "metadata": {},
   "outputs": [],
   "source": [
    "revenue_filename = 'model/revenue_xgboost_model.sav'\n",
    "revenue_regressor = joblib.load(revenue_filename)"
   ]
  },
  {
   "cell_type": "code",
   "execution_count": 9,
   "metadata": {},
   "outputs": [],
   "source": [
    "revenue_inputs={\n",
    "    # Compulsory inputs\n",
    "    \"comp\":{},\n",
    "    # Optional inputs\n",
    "    \"opt\":{}}\n",
    "revenue_inputs[\"comp\"][\"year\"]=2021\n",
    "revenue_inputs[\"comp\"][\"day\"]=355\n",
    "revenue_inputs[\"comp\"][\"duration\"]=120\n",
    "revenue_inputs[\"comp\"][\"votes\"]=500000\n",
    "revenue_inputs[\"comp\"][\"budget\"]=25000000\n",
    "revenue_inputs[\"opt\"][\"language_\"]=[] # Spanish/French/Russian etc.\n",
    "revenue_inputs[\"opt\"][\"genre_\"]=[] # Drama/Action/Comedy etc.\n",
    "revenue_inputs[\"opt\"][\"country_\"]=[] # UK/China/France/Australia etc. \n",
    "revenue_inputs[\"opt\"][\"director_\"]=[] # Woody Allen/Renny Harlin/Paul Schrader etc.\n",
    "revenue_inputs[\"opt\"][\"writer_\"]=[] # Zak Penn/Tyler Perry/Christopher Nolan etc.\n",
    "revenue_inputs[\"opt\"][\"company_\"]=[] # Warner Bros./Columbia Pictures/Paramount Pictures etc.\n",
    "revenue_inputs[\"opt\"][\"actor_\"]=[] # Tom Hanks/Bruce Willis/Tom Cruise etc."
   ]
  },
  {
   "cell_type": "code",
   "execution_count": 10,
   "metadata": {},
   "outputs": [],
   "source": [
    "rev_features=rev_select_sample_df.columns.tolist()"
   ]
  },
  {
   "cell_type": "code",
   "execution_count": 11,
   "metadata": {},
   "outputs": [
    {
     "data": {
      "text/html": [
       "<div>\n",
       "<style scoped>\n",
       "    .dataframe tbody tr th:only-of-type {\n",
       "        vertical-align: middle;\n",
       "    }\n",
       "\n",
       "    .dataframe tbody tr th {\n",
       "        vertical-align: top;\n",
       "    }\n",
       "\n",
       "    .dataframe thead th {\n",
       "        text-align: right;\n",
       "    }\n",
       "</style>\n",
       "<table border=\"1\" class=\"dataframe\">\n",
       "  <thead>\n",
       "    <tr style=\"text-align: right;\">\n",
       "      <th></th>\n",
       "      <th>year</th>\n",
       "      <th>duration</th>\n",
       "      <th>votes</th>\n",
       "      <th>budget</th>\n",
       "      <th>day</th>\n",
       "      <th>language_Spanish</th>\n",
       "      <th>language_French</th>\n",
       "      <th>language_Russian</th>\n",
       "      <th>language_German</th>\n",
       "      <th>language_Italian</th>\n",
       "      <th>...</th>\n",
       "      <th>actor_Daniel Stern</th>\n",
       "      <th>actor_Blythe Danner</th>\n",
       "      <th>actor_Catherine O'Hara</th>\n",
       "      <th>actor_Allison Janney</th>\n",
       "      <th>actor_Karl Urban</th>\n",
       "      <th>actor_Vanessa Hudgens</th>\n",
       "      <th>actor_Christoph Waltz</th>\n",
       "      <th>actor_Tyler Perry</th>\n",
       "      <th>actor_Octavia Spencer</th>\n",
       "      <th>actor_Dave Bautista</th>\n",
       "    </tr>\n",
       "  </thead>\n",
       "  <tbody>\n",
       "    <tr>\n",
       "      <th>0</th>\n",
       "      <td>0</td>\n",
       "      <td>0</td>\n",
       "      <td>0</td>\n",
       "      <td>0</td>\n",
       "      <td>0</td>\n",
       "      <td>0</td>\n",
       "      <td>0</td>\n",
       "      <td>0</td>\n",
       "      <td>0</td>\n",
       "      <td>0</td>\n",
       "      <td>...</td>\n",
       "      <td>0</td>\n",
       "      <td>0</td>\n",
       "      <td>0</td>\n",
       "      <td>0</td>\n",
       "      <td>0</td>\n",
       "      <td>0</td>\n",
       "      <td>0</td>\n",
       "      <td>0</td>\n",
       "      <td>0</td>\n",
       "      <td>0</td>\n",
       "    </tr>\n",
       "  </tbody>\n",
       "</table>\n",
       "<p>1 rows × 381 columns</p>\n",
       "</div>"
      ],
      "text/plain": [
       "   year  duration  votes  budget  day  language_Spanish  language_French  \\\n",
       "0     0         0      0       0    0                 0                0   \n",
       "\n",
       "   language_Russian  language_German  language_Italian  ...  \\\n",
       "0                 0                0                 0  ...   \n",
       "\n",
       "   actor_Daniel Stern  actor_Blythe Danner  actor_Catherine O'Hara  \\\n",
       "0                   0                    0                       0   \n",
       "\n",
       "   actor_Allison Janney  actor_Karl Urban  actor_Vanessa Hudgens  \\\n",
       "0                     0                 0                      0   \n",
       "\n",
       "   actor_Christoph Waltz  actor_Tyler Perry  actor_Octavia Spencer  \\\n",
       "0                      0                  0                      0   \n",
       "\n",
       "   actor_Dave Bautista  \n",
       "0                    0  \n",
       "\n",
       "[1 rows x 381 columns]"
      ]
     },
     "execution_count": 11,
     "metadata": {},
     "output_type": "execute_result"
    }
   ],
   "source": [
    "emp_dict = {}\n",
    "for feature in rev_features:\n",
    "    emp_dict[feature] = [0]\n",
    "test_df =pd.DataFrame.from_dict(emp_dict)\n",
    "test_df"
   ]
  },
  {
   "cell_type": "code",
   "execution_count": 12,
   "metadata": {},
   "outputs": [],
   "source": [
    "# Language Input\n",
    "revenue_inputs[\"opt\"][\"language_\"].append(\"Spanish\") # English/Spanish/French/Russian etc.\n",
    "# Genre Input\n",
    "revenue_inputs[\"opt\"][\"genre_\"].append(\"Drama\") # Drama/Action/Comedy etc.\n",
    "# Country Input\n",
    "revenue_inputs[\"opt\"][\"country_\"].append(\"UK\") # UK/China/France/Australia etc. \n",
    "# Director Input\n",
    "revenue_inputs[\"opt\"][\"director_\"].append(\"Woody Allen\") # Woody Allen/Renny Harlin/Paul Schrader etc.\n",
    "# Writer Input\n",
    "revenue_inputs[\"opt\"][\"writer_\"].append(\"Zak Penn\") # Zak Penn/Tyler Perry/Christopher Nolan etc.\n",
    "# Company Input\n",
    "revenue_inputs[\"opt\"][\"company_\"].append(\"Warner Bros.\") # Warner Bros./Columbia Pictures/Paramount Pictures etc.\n",
    "# Actor Input\n",
    "revenue_inputs[\"opt\"][\"actor_\"].append(\"Tom Hanks\") # Tom Hanks/Bruce Willis/Tom Cruise etc."
   ]
  },
  {
   "cell_type": "code",
   "execution_count": 13,
   "metadata": {},
   "outputs": [],
   "source": [
    "for rev_comp_key in revenue_inputs[\"comp\"].keys():\n",
    "    test_df[rev_comp_key]=revenue_inputs[\"comp\"][rev_comp_key]\n",
    "for rev_opt_key in revenue_inputs[\"opt\"].keys():\n",
    "    for x in revenue_inputs[\"opt\"][rev_opt_key]:\n",
    "        feature = rev_opt_key + x\n",
    "        if feature in rev_features:\n",
    "            test_df[feature]=1"
   ]
  },
  {
   "cell_type": "code",
   "execution_count": 14,
   "metadata": {},
   "outputs": [],
   "source": [
    "test_df[\"duration\"]=duration_scaler.transform(test_df[[\"duration\"]])\n",
    "test_df[\"day\"]=day_scaler.transform(test_df[[\"day\"]])"
   ]
  },
  {
   "cell_type": "code",
   "execution_count": 15,
   "metadata": {},
   "outputs": [
    {
     "data": {
      "text/html": [
       "<div>\n",
       "<style scoped>\n",
       "    .dataframe tbody tr th:only-of-type {\n",
       "        vertical-align: middle;\n",
       "    }\n",
       "\n",
       "    .dataframe tbody tr th {\n",
       "        vertical-align: top;\n",
       "    }\n",
       "\n",
       "    .dataframe thead th {\n",
       "        text-align: right;\n",
       "    }\n",
       "</style>\n",
       "<table border=\"1\" class=\"dataframe\">\n",
       "  <thead>\n",
       "    <tr style=\"text-align: right;\">\n",
       "      <th></th>\n",
       "      <th>year</th>\n",
       "      <th>duration</th>\n",
       "      <th>votes</th>\n",
       "      <th>budget</th>\n",
       "      <th>day</th>\n",
       "      <th>language_Spanish</th>\n",
       "      <th>language_French</th>\n",
       "      <th>language_Russian</th>\n",
       "      <th>language_German</th>\n",
       "      <th>language_Italian</th>\n",
       "      <th>...</th>\n",
       "      <th>actor_Daniel Stern</th>\n",
       "      <th>actor_Blythe Danner</th>\n",
       "      <th>actor_Catherine O'Hara</th>\n",
       "      <th>actor_Allison Janney</th>\n",
       "      <th>actor_Karl Urban</th>\n",
       "      <th>actor_Vanessa Hudgens</th>\n",
       "      <th>actor_Christoph Waltz</th>\n",
       "      <th>actor_Tyler Perry</th>\n",
       "      <th>actor_Octavia Spencer</th>\n",
       "      <th>actor_Dave Bautista</th>\n",
       "    </tr>\n",
       "  </thead>\n",
       "  <tbody>\n",
       "    <tr>\n",
       "      <th>0</th>\n",
       "      <td>2021</td>\n",
       "      <td>0.274038</td>\n",
       "      <td>500000</td>\n",
       "      <td>25000000</td>\n",
       "      <td>0.969863</td>\n",
       "      <td>1</td>\n",
       "      <td>0</td>\n",
       "      <td>0</td>\n",
       "      <td>0</td>\n",
       "      <td>0</td>\n",
       "      <td>...</td>\n",
       "      <td>0</td>\n",
       "      <td>0</td>\n",
       "      <td>0</td>\n",
       "      <td>0</td>\n",
       "      <td>0</td>\n",
       "      <td>0</td>\n",
       "      <td>0</td>\n",
       "      <td>0</td>\n",
       "      <td>0</td>\n",
       "      <td>0</td>\n",
       "    </tr>\n",
       "  </tbody>\n",
       "</table>\n",
       "<p>1 rows × 381 columns</p>\n",
       "</div>"
      ],
      "text/plain": [
       "   year  duration   votes    budget       day  language_Spanish  \\\n",
       "0  2021  0.274038  500000  25000000  0.969863                 1   \n",
       "\n",
       "   language_French  language_Russian  language_German  language_Italian  ...  \\\n",
       "0                0                 0                0                 0  ...   \n",
       "\n",
       "   actor_Daniel Stern  actor_Blythe Danner  actor_Catherine O'Hara  \\\n",
       "0                   0                    0                       0   \n",
       "\n",
       "   actor_Allison Janney  actor_Karl Urban  actor_Vanessa Hudgens  \\\n",
       "0                     0                 0                      0   \n",
       "\n",
       "   actor_Christoph Waltz  actor_Tyler Perry  actor_Octavia Spencer  \\\n",
       "0                      0                  0                      0   \n",
       "\n",
       "   actor_Dave Bautista  \n",
       "0                    0  \n",
       "\n",
       "[1 rows x 381 columns]"
      ]
     },
     "execution_count": 15,
     "metadata": {},
     "output_type": "execute_result"
    }
   ],
   "source": [
    "test_df"
   ]
  },
  {
   "cell_type": "code",
   "execution_count": 16,
   "metadata": {},
   "outputs": [
    {
     "name": "stdout",
     "output_type": "stream",
     "text": [
      "$ 295511776\n"
     ]
    }
   ],
   "source": [
    "revenue_pred = revenue_regressor.predict(test_df)\n",
    "print(\"$ %d\"%(revenue_pred))"
   ]
  },
  {
   "cell_type": "markdown",
   "metadata": {},
   "source": [
    "# Rating Predictor Load"
   ]
  },
  {
   "cell_type": "code",
   "execution_count": 17,
   "metadata": {},
   "outputs": [],
   "source": [
    "rate_filename = 'model/rating_xgboost_model.sav'\n",
    "rate_regressor = joblib.load(rate_filename)"
   ]
  },
  {
   "cell_type": "code",
   "execution_count": 18,
   "metadata": {},
   "outputs": [],
   "source": [
    "rate_inputs={\n",
    "    # Compulsory inputs\n",
    "    \"comp\":{},\n",
    "    # Optional inputs\n",
    "    \"opt\":{}}\n",
    "rate_inputs[\"comp\"][\"year\"]=2021\n",
    "rate_inputs[\"comp\"][\"day\"]=355\n",
    "rate_inputs[\"comp\"][\"duration\"]=120\n",
    "rate_inputs[\"comp\"][\"votes\"]=500000\n",
    "rate_inputs[\"comp\"][\"budget\"]=25000000\n",
    "rate_inputs[\"opt\"][\"language_\"]=[] # English/Spanish/French/Russian etc.\n",
    "rate_inputs[\"opt\"][\"genre_\"]=[] # Drama/Action/Comedy etc.\n",
    "rate_inputs[\"opt\"][\"country_\"]=[] # USA/UK/China/France/Australia etc. \n",
    "rate_inputs[\"opt\"][\"director_\"]=[] # Woody Allen/Renny Harlin/Paul Schrader etc.\n",
    "rate_inputs[\"opt\"][\"writer_\"]=[] # Zak Penn/Tyler Perry/Christopher Nolan etc.\n",
    "rate_inputs[\"opt\"][\"company_\"]=[] # Warner Bros./Columbia Pictures/Paramount Pictures etc.\n",
    "rate_inputs[\"opt\"][\"actor_\"]=[] # Nicolas Cage/Bruce Willis/Tom Cruise etc."
   ]
  },
  {
   "cell_type": "code",
   "execution_count": 19,
   "metadata": {},
   "outputs": [],
   "source": [
    "rate_features=rat_select_sample_df.columns.tolist()"
   ]
  },
  {
   "cell_type": "code",
   "execution_count": 20,
   "metadata": {},
   "outputs": [
    {
     "data": {
      "text/html": [
       "<div>\n",
       "<style scoped>\n",
       "    .dataframe tbody tr th:only-of-type {\n",
       "        vertical-align: middle;\n",
       "    }\n",
       "\n",
       "    .dataframe tbody tr th {\n",
       "        vertical-align: top;\n",
       "    }\n",
       "\n",
       "    .dataframe thead th {\n",
       "        text-align: right;\n",
       "    }\n",
       "</style>\n",
       "<table border=\"1\" class=\"dataframe\">\n",
       "  <thead>\n",
       "    <tr style=\"text-align: right;\">\n",
       "      <th></th>\n",
       "      <th>year</th>\n",
       "      <th>duration</th>\n",
       "      <th>votes</th>\n",
       "      <th>budget</th>\n",
       "      <th>day</th>\n",
       "      <th>language_English</th>\n",
       "      <th>language_Spanish</th>\n",
       "      <th>language_French</th>\n",
       "      <th>language_Russian</th>\n",
       "      <th>language_German</th>\n",
       "      <th>...</th>\n",
       "      <th>actor_Queen Latifah</th>\n",
       "      <th>actor_Demián Bichir</th>\n",
       "      <th>actor_Natascha McElhone</th>\n",
       "      <th>actor_Johnathon Schaech</th>\n",
       "      <th>actor_Emily Watson</th>\n",
       "      <th>actor_Michael Angarano</th>\n",
       "      <th>actor_Kate Mara</th>\n",
       "      <th>actor_Diane Kruger</th>\n",
       "      <th>actor_Vanessa Hudgens</th>\n",
       "      <th>actor_Michael Ealy</th>\n",
       "    </tr>\n",
       "  </thead>\n",
       "  <tbody>\n",
       "    <tr>\n",
       "      <th>0</th>\n",
       "      <td>0</td>\n",
       "      <td>0</td>\n",
       "      <td>0</td>\n",
       "      <td>0</td>\n",
       "      <td>0</td>\n",
       "      <td>0</td>\n",
       "      <td>0</td>\n",
       "      <td>0</td>\n",
       "      <td>0</td>\n",
       "      <td>0</td>\n",
       "      <td>...</td>\n",
       "      <td>0</td>\n",
       "      <td>0</td>\n",
       "      <td>0</td>\n",
       "      <td>0</td>\n",
       "      <td>0</td>\n",
       "      <td>0</td>\n",
       "      <td>0</td>\n",
       "      <td>0</td>\n",
       "      <td>0</td>\n",
       "      <td>0</td>\n",
       "    </tr>\n",
       "  </tbody>\n",
       "</table>\n",
       "<p>1 rows × 445 columns</p>\n",
       "</div>"
      ],
      "text/plain": [
       "   year  duration  votes  budget  day  language_English  language_Spanish  \\\n",
       "0     0         0      0       0    0                 0                 0   \n",
       "\n",
       "   language_French  language_Russian  language_German  ...  \\\n",
       "0                0                 0                0  ...   \n",
       "\n",
       "   actor_Queen Latifah  actor_Demián Bichir  actor_Natascha McElhone  \\\n",
       "0                    0                    0                        0   \n",
       "\n",
       "   actor_Johnathon Schaech  actor_Emily Watson  actor_Michael Angarano  \\\n",
       "0                        0                   0                       0   \n",
       "\n",
       "   actor_Kate Mara  actor_Diane Kruger  actor_Vanessa Hudgens  \\\n",
       "0                0                   0                      0   \n",
       "\n",
       "   actor_Michael Ealy  \n",
       "0                   0  \n",
       "\n",
       "[1 rows x 445 columns]"
      ]
     },
     "execution_count": 20,
     "metadata": {},
     "output_type": "execute_result"
    }
   ],
   "source": [
    "emp_dict = {}\n",
    "for feature in rate_features:\n",
    "    emp_dict[feature] = [0]\n",
    "rate_test_df =pd.DataFrame.from_dict(emp_dict)\n",
    "rate_test_df"
   ]
  },
  {
   "cell_type": "code",
   "execution_count": 21,
   "metadata": {},
   "outputs": [],
   "source": [
    "# Language Input\n",
    "rate_inputs[\"opt\"][\"language_\"].append(\"English\") # English/Spanish/French/Russian etc.\n",
    "# Genre Input\n",
    "rate_inputs[\"opt\"][\"genre_\"].append(\"Drama\") # Drama/Action/Comedy etc.\n",
    "# Country Input\n",
    "rate_inputs[\"opt\"][\"country_\"].append(\"USA\") # UK/China/France/Australia etc. \n",
    "# Director Input\n",
    "rate_inputs[\"opt\"][\"director_\"].append(\"Woody Allen\") # Woody Allen/Renny Harlin/Paul Schrader etc.\n",
    "# Writer Input\n",
    "rate_inputs[\"opt\"][\"writer_\"].append(\"Zak Penn\") # Zak Penn/Tyler Perry/Christopher Nolan etc.\n",
    "# Company Input\n",
    "rate_inputs[\"opt\"][\"company_\"].append(\"Warner Bros.\") # Warner Bros./Columbia Pictures/Paramount Pictures etc.\n",
    "# Actor Input\n",
    "rate_inputs[\"opt\"][\"actor_\"].append(\"Nicolas Cage\") # Nicolas Cage/Bruce Willis/Tom Cruise etc."
   ]
  },
  {
   "cell_type": "code",
   "execution_count": 22,
   "metadata": {},
   "outputs": [],
   "source": [
    "for rate_comp_key in rate_inputs[\"comp\"].keys():\n",
    "    rate_test_df[rate_comp_key]=rate_inputs[\"comp\"][rate_comp_key]\n",
    "for rate_opt_key in rate_inputs[\"opt\"].keys():\n",
    "    for x in rate_inputs[\"opt\"][rate_opt_key]:\n",
    "        feature = rate_opt_key + x\n",
    "        if feature in rate_features:\n",
    "            rate_test_df[feature]=1"
   ]
  },
  {
   "cell_type": "code",
   "execution_count": 23,
   "metadata": {},
   "outputs": [],
   "source": [
    "rate_test_df[\"duration\"]=duration_scaler.transform(rate_test_df[[\"duration\"]])\n",
    "rate_test_df[\"day\"]=day_scaler.transform(rate_test_df[[\"day\"]])"
   ]
  },
  {
   "cell_type": "code",
   "execution_count": 24,
   "metadata": {},
   "outputs": [
    {
     "data": {
      "text/html": [
       "<div>\n",
       "<style scoped>\n",
       "    .dataframe tbody tr th:only-of-type {\n",
       "        vertical-align: middle;\n",
       "    }\n",
       "\n",
       "    .dataframe tbody tr th {\n",
       "        vertical-align: top;\n",
       "    }\n",
       "\n",
       "    .dataframe thead th {\n",
       "        text-align: right;\n",
       "    }\n",
       "</style>\n",
       "<table border=\"1\" class=\"dataframe\">\n",
       "  <thead>\n",
       "    <tr style=\"text-align: right;\">\n",
       "      <th></th>\n",
       "      <th>year</th>\n",
       "      <th>duration</th>\n",
       "      <th>votes</th>\n",
       "      <th>budget</th>\n",
       "      <th>day</th>\n",
       "      <th>language_English</th>\n",
       "      <th>language_Spanish</th>\n",
       "      <th>language_French</th>\n",
       "      <th>language_Russian</th>\n",
       "      <th>language_German</th>\n",
       "      <th>...</th>\n",
       "      <th>actor_Queen Latifah</th>\n",
       "      <th>actor_Demián Bichir</th>\n",
       "      <th>actor_Natascha McElhone</th>\n",
       "      <th>actor_Johnathon Schaech</th>\n",
       "      <th>actor_Emily Watson</th>\n",
       "      <th>actor_Michael Angarano</th>\n",
       "      <th>actor_Kate Mara</th>\n",
       "      <th>actor_Diane Kruger</th>\n",
       "      <th>actor_Vanessa Hudgens</th>\n",
       "      <th>actor_Michael Ealy</th>\n",
       "    </tr>\n",
       "  </thead>\n",
       "  <tbody>\n",
       "    <tr>\n",
       "      <th>0</th>\n",
       "      <td>2021</td>\n",
       "      <td>0.274038</td>\n",
       "      <td>500000</td>\n",
       "      <td>25000000</td>\n",
       "      <td>0.969863</td>\n",
       "      <td>1</td>\n",
       "      <td>0</td>\n",
       "      <td>0</td>\n",
       "      <td>0</td>\n",
       "      <td>0</td>\n",
       "      <td>...</td>\n",
       "      <td>0</td>\n",
       "      <td>0</td>\n",
       "      <td>0</td>\n",
       "      <td>0</td>\n",
       "      <td>0</td>\n",
       "      <td>0</td>\n",
       "      <td>0</td>\n",
       "      <td>0</td>\n",
       "      <td>0</td>\n",
       "      <td>0</td>\n",
       "    </tr>\n",
       "  </tbody>\n",
       "</table>\n",
       "<p>1 rows × 445 columns</p>\n",
       "</div>"
      ],
      "text/plain": [
       "   year  duration   votes    budget       day  language_English  \\\n",
       "0  2021  0.274038  500000  25000000  0.969863                 1   \n",
       "\n",
       "   language_Spanish  language_French  language_Russian  language_German  ...  \\\n",
       "0                 0                0                 0                0  ...   \n",
       "\n",
       "   actor_Queen Latifah  actor_Demián Bichir  actor_Natascha McElhone  \\\n",
       "0                    0                    0                        0   \n",
       "\n",
       "   actor_Johnathon Schaech  actor_Emily Watson  actor_Michael Angarano  \\\n",
       "0                        0                   0                       0   \n",
       "\n",
       "   actor_Kate Mara  actor_Diane Kruger  actor_Vanessa Hudgens  \\\n",
       "0                0                   0                      0   \n",
       "\n",
       "   actor_Michael Ealy  \n",
       "0                   0  \n",
       "\n",
       "[1 rows x 445 columns]"
      ]
     },
     "execution_count": 24,
     "metadata": {},
     "output_type": "execute_result"
    }
   ],
   "source": [
    "rate_test_df"
   ]
  },
  {
   "cell_type": "code",
   "execution_count": 25,
   "metadata": {},
   "outputs": [
    {
     "name": "stdout",
     "output_type": "stream",
     "text": [
      "8.10\n"
     ]
    }
   ],
   "source": [
    "rate_pred = rate_regressor.predict(rate_test_df)\n",
    "print(\"%.2f\" %rate_pred)"
   ]
  },
  {
   "cell_type": "code",
   "execution_count": null,
   "metadata": {},
   "outputs": [],
   "source": []
  }
 ],
 "metadata": {
  "kernelspec": {
   "display_name": "Python 3",
   "language": "python",
   "name": "python3"
  },
  "language_info": {
   "codemirror_mode": {
    "name": "ipython",
    "version": 3
   },
   "file_extension": ".py",
   "mimetype": "text/x-python",
   "name": "python",
   "nbconvert_exporter": "python",
   "pygments_lexer": "ipython3",
   "version": "3.8.5"
  }
 },
 "nbformat": 4,
 "nbformat_minor": 4
}
