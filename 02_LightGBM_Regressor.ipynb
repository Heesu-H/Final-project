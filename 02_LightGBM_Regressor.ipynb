{
 "cells": [
  {
   "cell_type": "markdown",
   "metadata": {
    "id": "ojyeVJUwzTsd"
   },
   "source": [
    "# **Environment Setup**"
   ]
  },
  {
   "cell_type": "code",
   "execution_count": 1,
   "metadata": {
    "colab": {
     "base_uri": "https://localhost:8080/"
    },
    "id": "WpsT7vX5zfWZ",
    "outputId": "6fdeb9e1-0021-4c48-87c6-cb8ba4c8fe95"
   },
   "outputs": [],
   "source": [
    "# !pip install wordcloud"
   ]
  },
  {
   "cell_type": "code",
   "execution_count": 2,
   "metadata": {},
   "outputs": [],
   "source": [
    "# !pip install lightgbm"
   ]
  },
  {
   "cell_type": "markdown",
   "metadata": {
    "id": "oIehffhMzSVL"
   },
   "source": [
    "# Data Pre-processing"
   ]
  },
  {
   "cell_type": "code",
   "execution_count": 3,
   "metadata": {
    "id": "wbrwlDUL2Np8"
   },
   "outputs": [],
   "source": [
    "# In case you get an import error, run again notebook cell number 3, \n",
    "# to install again miniconda and RAPIDS dependencies. If the problem persists,\n",
    "# Go to Runtime -> Reset all runtimes and then run again the noebook cells (two \n",
    "# times the one for installing miniconda and RAPIDS dependencies)\n",
    "\n",
    "# Dependencies\n",
    "\n",
    "# from sklearn.model_selection import cross_val_score\n",
    "# from sklearn.model_selection import RepeatedKFold\n",
    "# from sklearn.datasets import make_classification\n",
    "\n",
    "from sklearn.model_selection import train_test_split\n",
    "from sklearn.preprocessing import MinMaxScaler\n",
    "from sklearn.metrics import r2_score\n",
    "from sklearn.metrics import accuracy_score\n",
    "from sklearn.model_selection import GridSearchCV\n",
    "\n",
    "from matplotlib import pyplot\n",
    "import pandas as pd\n",
    "import numpy as np\n",
    "\n",
    "from numpy import mean\n",
    "from numpy import std\n",
    "\n",
    "# Light GBM Regressor Machine Learning Model\n",
    "from lightgbm import LGBMRegressor\n",
    "\n",
    "# Machine Learning Model Exporter\n",
    "import joblib"
   ]
  },
  {
   "cell_type": "code",
   "execution_count": 4,
   "metadata": {
    "colab": {
     "base_uri": "https://localhost:8080/",
     "height": 265
    },
    "id": "_K6t2mq12SQw",
    "outputId": "64c73549-30b1-4e7a-b629-1b71e65ecf14"
   },
   "outputs": [
    {
     "data": {
      "text/html": [
       "<div>\n",
       "<style scoped>\n",
       "    .dataframe tbody tr th:only-of-type {\n",
       "        vertical-align: middle;\n",
       "    }\n",
       "\n",
       "    .dataframe tbody tr th {\n",
       "        vertical-align: top;\n",
       "    }\n",
       "\n",
       "    .dataframe thead th {\n",
       "        text-align: right;\n",
       "    }\n",
       "</style>\n",
       "<table border=\"1\" class=\"dataframe\">\n",
       "  <thead>\n",
       "    <tr style=\"text-align: right;\">\n",
       "      <th></th>\n",
       "      <th>Unnamed: 0</th>\n",
       "      <th>year</th>\n",
       "      <th>duration</th>\n",
       "      <th>avg_vote</th>\n",
       "      <th>votes</th>\n",
       "      <th>budget</th>\n",
       "      <th>worlwide_gross_income</th>\n",
       "      <th>day</th>\n",
       "      <th>language_English</th>\n",
       "      <th>language_Spanish</th>\n",
       "      <th>...</th>\n",
       "      <th>actor_Matthew Goode</th>\n",
       "      <th>actor_Edgar Ramírez</th>\n",
       "      <th>actor_Tyler Perry</th>\n",
       "      <th>actor_Sebastian Stan</th>\n",
       "      <th>actor_Rebecca Hall</th>\n",
       "      <th>actor_Cam Gigandet</th>\n",
       "      <th>actor_Miles Teller</th>\n",
       "      <th>actor_Scott Adkins</th>\n",
       "      <th>actor_Octavia Spencer</th>\n",
       "      <th>actor_Dave Bautista</th>\n",
       "    </tr>\n",
       "  </thead>\n",
       "  <tbody>\n",
       "    <tr>\n",
       "      <th>0</th>\n",
       "      <td>0</td>\n",
       "      <td>1920</td>\n",
       "      <td>76</td>\n",
       "      <td>8.1</td>\n",
       "      <td>55601</td>\n",
       "      <td>18000</td>\n",
       "      <td>8811</td>\n",
       "      <td>58</td>\n",
       "      <td>0</td>\n",
       "      <td>0</td>\n",
       "      <td>...</td>\n",
       "      <td>0</td>\n",
       "      <td>0</td>\n",
       "      <td>0</td>\n",
       "      <td>0</td>\n",
       "      <td>0</td>\n",
       "      <td>0</td>\n",
       "      <td>0</td>\n",
       "      <td>0</td>\n",
       "      <td>0</td>\n",
       "      <td>0</td>\n",
       "    </tr>\n",
       "    <tr>\n",
       "      <th>1</th>\n",
       "      <td>1</td>\n",
       "      <td>1921</td>\n",
       "      <td>150</td>\n",
       "      <td>7.2</td>\n",
       "      <td>3058</td>\n",
       "      <td>800000</td>\n",
       "      <td>9183673</td>\n",
       "      <td>106</td>\n",
       "      <td>0</td>\n",
       "      <td>0</td>\n",
       "      <td>...</td>\n",
       "      <td>0</td>\n",
       "      <td>0</td>\n",
       "      <td>0</td>\n",
       "      <td>0</td>\n",
       "      <td>0</td>\n",
       "      <td>0</td>\n",
       "      <td>0</td>\n",
       "      <td>0</td>\n",
       "      <td>0</td>\n",
       "      <td>0</td>\n",
       "    </tr>\n",
       "    <tr>\n",
       "      <th>2</th>\n",
       "      <td>2</td>\n",
       "      <td>1921</td>\n",
       "      <td>68</td>\n",
       "      <td>8.3</td>\n",
       "      <td>109038</td>\n",
       "      <td>250000</td>\n",
       "      <td>26916</td>\n",
       "      <td>330</td>\n",
       "      <td>1</td>\n",
       "      <td>0</td>\n",
       "      <td>...</td>\n",
       "      <td>0</td>\n",
       "      <td>0</td>\n",
       "      <td>0</td>\n",
       "      <td>0</td>\n",
       "      <td>0</td>\n",
       "      <td>0</td>\n",
       "      <td>0</td>\n",
       "      <td>0</td>\n",
       "      <td>0</td>\n",
       "      <td>0</td>\n",
       "    </tr>\n",
       "    <tr>\n",
       "      <th>3</th>\n",
       "      <td>3</td>\n",
       "      <td>1923</td>\n",
       "      <td>82</td>\n",
       "      <td>7.0</td>\n",
       "      <td>4735</td>\n",
       "      <td>351000</td>\n",
       "      <td>11233</td>\n",
       "      <td>157</td>\n",
       "      <td>1</td>\n",
       "      <td>0</td>\n",
       "      <td>...</td>\n",
       "      <td>0</td>\n",
       "      <td>0</td>\n",
       "      <td>0</td>\n",
       "      <td>0</td>\n",
       "      <td>0</td>\n",
       "      <td>0</td>\n",
       "      <td>0</td>\n",
       "      <td>0</td>\n",
       "      <td>0</td>\n",
       "      <td>0</td>\n",
       "    </tr>\n",
       "    <tr>\n",
       "      <th>4</th>\n",
       "      <td>4</td>\n",
       "      <td>1925</td>\n",
       "      <td>95</td>\n",
       "      <td>8.2</td>\n",
       "      <td>97480</td>\n",
       "      <td>923000</td>\n",
       "      <td>26916</td>\n",
       "      <td>296</td>\n",
       "      <td>1</td>\n",
       "      <td>0</td>\n",
       "      <td>...</td>\n",
       "      <td>0</td>\n",
       "      <td>0</td>\n",
       "      <td>0</td>\n",
       "      <td>0</td>\n",
       "      <td>0</td>\n",
       "      <td>0</td>\n",
       "      <td>0</td>\n",
       "      <td>0</td>\n",
       "      <td>0</td>\n",
       "      <td>0</td>\n",
       "    </tr>\n",
       "  </tbody>\n",
       "</table>\n",
       "<p>5 rows × 1873 columns</p>\n",
       "</div>"
      ],
      "text/plain": [
       "   Unnamed: 0  year  duration  avg_vote   votes  budget  \\\n",
       "0           0  1920        76       8.1   55601   18000   \n",
       "1           1  1921       150       7.2    3058  800000   \n",
       "2           2  1921        68       8.3  109038  250000   \n",
       "3           3  1923        82       7.0    4735  351000   \n",
       "4           4  1925        95       8.2   97480  923000   \n",
       "\n",
       "   worlwide_gross_income  day  language_English  language_Spanish  ...  \\\n",
       "0                   8811   58                 0                 0  ...   \n",
       "1                9183673  106                 0                 0  ...   \n",
       "2                  26916  330                 1                 0  ...   \n",
       "3                  11233  157                 1                 0  ...   \n",
       "4                  26916  296                 1                 0  ...   \n",
       "\n",
       "   actor_Matthew Goode  actor_Edgar Ramírez  actor_Tyler Perry  \\\n",
       "0                    0                    0                  0   \n",
       "1                    0                    0                  0   \n",
       "2                    0                    0                  0   \n",
       "3                    0                    0                  0   \n",
       "4                    0                    0                  0   \n",
       "\n",
       "   actor_Sebastian Stan  actor_Rebecca Hall  actor_Cam Gigandet  \\\n",
       "0                     0                   0                   0   \n",
       "1                     0                   0                   0   \n",
       "2                     0                   0                   0   \n",
       "3                     0                   0                   0   \n",
       "4                     0                   0                   0   \n",
       "\n",
       "   actor_Miles Teller  actor_Scott Adkins  actor_Octavia Spencer  \\\n",
       "0                   0                   0                      0   \n",
       "1                   0                   0                      0   \n",
       "2                   0                   0                      0   \n",
       "3                   0                   0                      0   \n",
       "4                   0                   0                      0   \n",
       "\n",
       "   actor_Dave Bautista  \n",
       "0                    0  \n",
       "1                    0  \n",
       "2                    0  \n",
       "3                    0  \n",
       "4                    0  \n",
       "\n",
       "[5 rows x 1873 columns]"
      ]
     },
     "execution_count": 4,
     "metadata": {},
     "output_type": "execute_result"
    }
   ],
   "source": [
    "# Import Cleaned Dataset as CSV\n",
    "\n",
    "# Google Colab import with Google Drive mounted:\n",
    "# df = pd.read_csv('/content/drive/MyDrive/MonashDataBootcamp/Final_Project/movie_sample.csv') \n",
    "\n",
    "df = pd.read_csv('data/movie_sample.csv') \n",
    "\n",
    "df.head()"
   ]
  },
  {
   "cell_type": "code",
   "execution_count": 5,
   "metadata": {
    "colab": {
     "base_uri": "https://localhost:8080/"
    },
    "id": "KVXejAvU2k5d",
    "outputId": "d6b8a1ce-1e2c-4b67-f80c-58f2aee41622"
   },
   "outputs": [
    {
     "data": {
      "text/plain": [
       "Unnamed: 0                 int64\n",
       "year                       int64\n",
       "duration                   int64\n",
       "avg_vote                 float64\n",
       "votes                      int64\n",
       "                          ...   \n",
       "actor_Cam Gigandet         int64\n",
       "actor_Miles Teller         int64\n",
       "actor_Scott Adkins         int64\n",
       "actor_Octavia Spencer      int64\n",
       "actor_Dave Bautista        int64\n",
       "Length: 1873, dtype: object"
      ]
     },
     "execution_count": 5,
     "metadata": {},
     "output_type": "execute_result"
    }
   ],
   "source": [
    "# Confirm all columns are numerical datatypes\n",
    "df.dtypes"
   ]
  },
  {
   "cell_type": "code",
   "execution_count": 6,
   "metadata": {
    "colab": {
     "base_uri": "https://localhost:8080/"
    },
    "id": "qtDvOIL8w79T",
    "outputId": "37561b20-2173-43d4-f3c0-e5347642931a"
   },
   "outputs": [
    {
     "data": {
      "text/plain": [
       "(8870, 1873)"
      ]
     },
     "execution_count": 6,
     "metadata": {},
     "output_type": "execute_result"
    }
   ],
   "source": [
    "df.shape"
   ]
  },
  {
   "cell_type": "markdown",
   "metadata": {
    "id": "72YrFt7qIuW6"
   },
   "source": [
    "# Model test"
   ]
  },
  {
   "cell_type": "code",
   "execution_count": 7,
   "metadata": {
    "id": "_ntkubkt4_MU"
   },
   "outputs": [],
   "source": [
    "# Drop superfluous index column\n",
    "sample_df = df.drop([\"Unnamed: 0\"], axis=1)"
   ]
  },
  {
   "cell_type": "code",
   "execution_count": 8,
   "metadata": {
    "colab": {
     "base_uri": "https://localhost:8080/",
     "height": 270
    },
    "id": "S03XQmuBIyQD",
    "outputId": "0a5869a1-3430-4b99-aa9d-7d96916c63ee"
   },
   "outputs": [
    {
     "data": {
      "text/html": [
       "<div>\n",
       "<style scoped>\n",
       "    .dataframe tbody tr th:only-of-type {\n",
       "        vertical-align: middle;\n",
       "    }\n",
       "\n",
       "    .dataframe tbody tr th {\n",
       "        vertical-align: top;\n",
       "    }\n",
       "\n",
       "    .dataframe thead th {\n",
       "        text-align: right;\n",
       "    }\n",
       "</style>\n",
       "<table border=\"1\" class=\"dataframe\">\n",
       "  <thead>\n",
       "    <tr style=\"text-align: right;\">\n",
       "      <th></th>\n",
       "      <th>year</th>\n",
       "      <th>duration</th>\n",
       "      <th>avg_vote</th>\n",
       "      <th>votes</th>\n",
       "      <th>budget</th>\n",
       "      <th>worlwide_gross_income</th>\n",
       "      <th>day</th>\n",
       "      <th>language_English</th>\n",
       "      <th>language_Spanish</th>\n",
       "      <th>language_French</th>\n",
       "      <th>...</th>\n",
       "      <th>actor_Matthew Goode</th>\n",
       "      <th>actor_Edgar Ramírez</th>\n",
       "      <th>actor_Tyler Perry</th>\n",
       "      <th>actor_Sebastian Stan</th>\n",
       "      <th>actor_Rebecca Hall</th>\n",
       "      <th>actor_Cam Gigandet</th>\n",
       "      <th>actor_Miles Teller</th>\n",
       "      <th>actor_Scott Adkins</th>\n",
       "      <th>actor_Octavia Spencer</th>\n",
       "      <th>actor_Dave Bautista</th>\n",
       "    </tr>\n",
       "  </thead>\n",
       "  <tbody>\n",
       "    <tr>\n",
       "      <th>0</th>\n",
       "      <td>1920</td>\n",
       "      <td>76</td>\n",
       "      <td>8.1</td>\n",
       "      <td>55601</td>\n",
       "      <td>18000</td>\n",
       "      <td>8811</td>\n",
       "      <td>58</td>\n",
       "      <td>0</td>\n",
       "      <td>0</td>\n",
       "      <td>0</td>\n",
       "      <td>...</td>\n",
       "      <td>0</td>\n",
       "      <td>0</td>\n",
       "      <td>0</td>\n",
       "      <td>0</td>\n",
       "      <td>0</td>\n",
       "      <td>0</td>\n",
       "      <td>0</td>\n",
       "      <td>0</td>\n",
       "      <td>0</td>\n",
       "      <td>0</td>\n",
       "    </tr>\n",
       "    <tr>\n",
       "      <th>1</th>\n",
       "      <td>1921</td>\n",
       "      <td>150</td>\n",
       "      <td>7.2</td>\n",
       "      <td>3058</td>\n",
       "      <td>800000</td>\n",
       "      <td>9183673</td>\n",
       "      <td>106</td>\n",
       "      <td>0</td>\n",
       "      <td>0</td>\n",
       "      <td>0</td>\n",
       "      <td>...</td>\n",
       "      <td>0</td>\n",
       "      <td>0</td>\n",
       "      <td>0</td>\n",
       "      <td>0</td>\n",
       "      <td>0</td>\n",
       "      <td>0</td>\n",
       "      <td>0</td>\n",
       "      <td>0</td>\n",
       "      <td>0</td>\n",
       "      <td>0</td>\n",
       "    </tr>\n",
       "    <tr>\n",
       "      <th>2</th>\n",
       "      <td>1921</td>\n",
       "      <td>68</td>\n",
       "      <td>8.3</td>\n",
       "      <td>109038</td>\n",
       "      <td>250000</td>\n",
       "      <td>26916</td>\n",
       "      <td>330</td>\n",
       "      <td>1</td>\n",
       "      <td>0</td>\n",
       "      <td>0</td>\n",
       "      <td>...</td>\n",
       "      <td>0</td>\n",
       "      <td>0</td>\n",
       "      <td>0</td>\n",
       "      <td>0</td>\n",
       "      <td>0</td>\n",
       "      <td>0</td>\n",
       "      <td>0</td>\n",
       "      <td>0</td>\n",
       "      <td>0</td>\n",
       "      <td>0</td>\n",
       "    </tr>\n",
       "    <tr>\n",
       "      <th>3</th>\n",
       "      <td>1923</td>\n",
       "      <td>82</td>\n",
       "      <td>7.0</td>\n",
       "      <td>4735</td>\n",
       "      <td>351000</td>\n",
       "      <td>11233</td>\n",
       "      <td>157</td>\n",
       "      <td>1</td>\n",
       "      <td>0</td>\n",
       "      <td>0</td>\n",
       "      <td>...</td>\n",
       "      <td>0</td>\n",
       "      <td>0</td>\n",
       "      <td>0</td>\n",
       "      <td>0</td>\n",
       "      <td>0</td>\n",
       "      <td>0</td>\n",
       "      <td>0</td>\n",
       "      <td>0</td>\n",
       "      <td>0</td>\n",
       "      <td>0</td>\n",
       "    </tr>\n",
       "    <tr>\n",
       "      <th>4</th>\n",
       "      <td>1925</td>\n",
       "      <td>95</td>\n",
       "      <td>8.2</td>\n",
       "      <td>97480</td>\n",
       "      <td>923000</td>\n",
       "      <td>26916</td>\n",
       "      <td>296</td>\n",
       "      <td>1</td>\n",
       "      <td>0</td>\n",
       "      <td>0</td>\n",
       "      <td>...</td>\n",
       "      <td>0</td>\n",
       "      <td>0</td>\n",
       "      <td>0</td>\n",
       "      <td>0</td>\n",
       "      <td>0</td>\n",
       "      <td>0</td>\n",
       "      <td>0</td>\n",
       "      <td>0</td>\n",
       "      <td>0</td>\n",
       "      <td>0</td>\n",
       "    </tr>\n",
       "  </tbody>\n",
       "</table>\n",
       "<p>5 rows × 1872 columns</p>\n",
       "</div>"
      ],
      "text/plain": [
       "   year  duration  avg_vote   votes  budget  worlwide_gross_income  day  \\\n",
       "0  1920        76       8.1   55601   18000                   8811   58   \n",
       "1  1921       150       7.2    3058  800000                9183673  106   \n",
       "2  1921        68       8.3  109038  250000                  26916  330   \n",
       "3  1923        82       7.0    4735  351000                  11233  157   \n",
       "4  1925        95       8.2   97480  923000                  26916  296   \n",
       "\n",
       "   language_English  language_Spanish  language_French  ...  \\\n",
       "0                 0                 0                0  ...   \n",
       "1                 0                 0                0  ...   \n",
       "2                 1                 0                0  ...   \n",
       "3                 1                 0                0  ...   \n",
       "4                 1                 0                0  ...   \n",
       "\n",
       "   actor_Matthew Goode  actor_Edgar Ramírez  actor_Tyler Perry  \\\n",
       "0                    0                    0                  0   \n",
       "1                    0                    0                  0   \n",
       "2                    0                    0                  0   \n",
       "3                    0                    0                  0   \n",
       "4                    0                    0                  0   \n",
       "\n",
       "   actor_Sebastian Stan  actor_Rebecca Hall  actor_Cam Gigandet  \\\n",
       "0                     0                   0                   0   \n",
       "1                     0                   0                   0   \n",
       "2                     0                   0                   0   \n",
       "3                     0                   0                   0   \n",
       "4                     0                   0                   0   \n",
       "\n",
       "   actor_Miles Teller  actor_Scott Adkins  actor_Octavia Spencer  \\\n",
       "0                   0                   0                      0   \n",
       "1                   0                   0                      0   \n",
       "2                   0                   0                      0   \n",
       "3                   0                   0                      0   \n",
       "4                   0                   0                      0   \n",
       "\n",
       "   actor_Dave Bautista  \n",
       "0                    0  \n",
       "1                    0  \n",
       "2                    0  \n",
       "3                    0  \n",
       "4                    0  \n",
       "\n",
       "[5 rows x 1872 columns]"
      ]
     },
     "execution_count": 8,
     "metadata": {},
     "output_type": "execute_result"
    }
   ],
   "source": [
    "sample_df.head()"
   ]
  },
  {
   "cell_type": "code",
   "execution_count": 9,
   "metadata": {
    "id": "XV2SWnHTJSCU"
   },
   "outputs": [],
   "source": [
    "# Assign X variables by dropping Y targets\n",
    "X = sample_df.drop([\"avg_vote\",\"worlwide_gross_income\"], axis=1)"
   ]
  },
  {
   "cell_type": "code",
   "execution_count": 10,
   "metadata": {
    "colab": {
     "base_uri": "https://localhost:8080/",
     "height": 265
    },
    "id": "DbBq0-tkLDn7",
    "outputId": "a3e34b45-ec66-42de-e2c2-f19f9a994c4b"
   },
   "outputs": [
    {
     "data": {
      "text/html": [
       "<div>\n",
       "<style scoped>\n",
       "    .dataframe tbody tr th:only-of-type {\n",
       "        vertical-align: middle;\n",
       "    }\n",
       "\n",
       "    .dataframe tbody tr th {\n",
       "        vertical-align: top;\n",
       "    }\n",
       "\n",
       "    .dataframe thead th {\n",
       "        text-align: right;\n",
       "    }\n",
       "</style>\n",
       "<table border=\"1\" class=\"dataframe\">\n",
       "  <thead>\n",
       "    <tr style=\"text-align: right;\">\n",
       "      <th></th>\n",
       "      <th>year</th>\n",
       "      <th>duration</th>\n",
       "      <th>votes</th>\n",
       "      <th>budget</th>\n",
       "      <th>day</th>\n",
       "      <th>language_English</th>\n",
       "      <th>language_Spanish</th>\n",
       "      <th>language_French</th>\n",
       "      <th>language_Russian</th>\n",
       "      <th>language_German</th>\n",
       "      <th>...</th>\n",
       "      <th>actor_Matthew Goode</th>\n",
       "      <th>actor_Edgar Ramírez</th>\n",
       "      <th>actor_Tyler Perry</th>\n",
       "      <th>actor_Sebastian Stan</th>\n",
       "      <th>actor_Rebecca Hall</th>\n",
       "      <th>actor_Cam Gigandet</th>\n",
       "      <th>actor_Miles Teller</th>\n",
       "      <th>actor_Scott Adkins</th>\n",
       "      <th>actor_Octavia Spencer</th>\n",
       "      <th>actor_Dave Bautista</th>\n",
       "    </tr>\n",
       "  </thead>\n",
       "  <tbody>\n",
       "    <tr>\n",
       "      <th>0</th>\n",
       "      <td>1920</td>\n",
       "      <td>76</td>\n",
       "      <td>55601</td>\n",
       "      <td>18000</td>\n",
       "      <td>58</td>\n",
       "      <td>0</td>\n",
       "      <td>0</td>\n",
       "      <td>0</td>\n",
       "      <td>0</td>\n",
       "      <td>1</td>\n",
       "      <td>...</td>\n",
       "      <td>0</td>\n",
       "      <td>0</td>\n",
       "      <td>0</td>\n",
       "      <td>0</td>\n",
       "      <td>0</td>\n",
       "      <td>0</td>\n",
       "      <td>0</td>\n",
       "      <td>0</td>\n",
       "      <td>0</td>\n",
       "      <td>0</td>\n",
       "    </tr>\n",
       "    <tr>\n",
       "      <th>1</th>\n",
       "      <td>1921</td>\n",
       "      <td>150</td>\n",
       "      <td>3058</td>\n",
       "      <td>800000</td>\n",
       "      <td>106</td>\n",
       "      <td>0</td>\n",
       "      <td>0</td>\n",
       "      <td>0</td>\n",
       "      <td>0</td>\n",
       "      <td>0</td>\n",
       "      <td>...</td>\n",
       "      <td>0</td>\n",
       "      <td>0</td>\n",
       "      <td>0</td>\n",
       "      <td>0</td>\n",
       "      <td>0</td>\n",
       "      <td>0</td>\n",
       "      <td>0</td>\n",
       "      <td>0</td>\n",
       "      <td>0</td>\n",
       "      <td>0</td>\n",
       "    </tr>\n",
       "    <tr>\n",
       "      <th>2</th>\n",
       "      <td>1921</td>\n",
       "      <td>68</td>\n",
       "      <td>109038</td>\n",
       "      <td>250000</td>\n",
       "      <td>330</td>\n",
       "      <td>1</td>\n",
       "      <td>0</td>\n",
       "      <td>0</td>\n",
       "      <td>0</td>\n",
       "      <td>0</td>\n",
       "      <td>...</td>\n",
       "      <td>0</td>\n",
       "      <td>0</td>\n",
       "      <td>0</td>\n",
       "      <td>0</td>\n",
       "      <td>0</td>\n",
       "      <td>0</td>\n",
       "      <td>0</td>\n",
       "      <td>0</td>\n",
       "      <td>0</td>\n",
       "      <td>0</td>\n",
       "    </tr>\n",
       "    <tr>\n",
       "      <th>3</th>\n",
       "      <td>1923</td>\n",
       "      <td>82</td>\n",
       "      <td>4735</td>\n",
       "      <td>351000</td>\n",
       "      <td>157</td>\n",
       "      <td>1</td>\n",
       "      <td>0</td>\n",
       "      <td>0</td>\n",
       "      <td>0</td>\n",
       "      <td>0</td>\n",
       "      <td>...</td>\n",
       "      <td>0</td>\n",
       "      <td>0</td>\n",
       "      <td>0</td>\n",
       "      <td>0</td>\n",
       "      <td>0</td>\n",
       "      <td>0</td>\n",
       "      <td>0</td>\n",
       "      <td>0</td>\n",
       "      <td>0</td>\n",
       "      <td>0</td>\n",
       "    </tr>\n",
       "    <tr>\n",
       "      <th>4</th>\n",
       "      <td>1925</td>\n",
       "      <td>95</td>\n",
       "      <td>97480</td>\n",
       "      <td>923000</td>\n",
       "      <td>296</td>\n",
       "      <td>1</td>\n",
       "      <td>0</td>\n",
       "      <td>0</td>\n",
       "      <td>0</td>\n",
       "      <td>0</td>\n",
       "      <td>...</td>\n",
       "      <td>0</td>\n",
       "      <td>0</td>\n",
       "      <td>0</td>\n",
       "      <td>0</td>\n",
       "      <td>0</td>\n",
       "      <td>0</td>\n",
       "      <td>0</td>\n",
       "      <td>0</td>\n",
       "      <td>0</td>\n",
       "      <td>0</td>\n",
       "    </tr>\n",
       "  </tbody>\n",
       "</table>\n",
       "<p>5 rows × 1870 columns</p>\n",
       "</div>"
      ],
      "text/plain": [
       "   year  duration   votes  budget  day  language_English  language_Spanish  \\\n",
       "0  1920        76   55601   18000   58                 0                 0   \n",
       "1  1921       150    3058  800000  106                 0                 0   \n",
       "2  1921        68  109038  250000  330                 1                 0   \n",
       "3  1923        82    4735  351000  157                 1                 0   \n",
       "4  1925        95   97480  923000  296                 1                 0   \n",
       "\n",
       "   language_French  language_Russian  language_German  ...  \\\n",
       "0                0                 0                1  ...   \n",
       "1                0                 0                0  ...   \n",
       "2                0                 0                0  ...   \n",
       "3                0                 0                0  ...   \n",
       "4                0                 0                0  ...   \n",
       "\n",
       "   actor_Matthew Goode  actor_Edgar Ramírez  actor_Tyler Perry  \\\n",
       "0                    0                    0                  0   \n",
       "1                    0                    0                  0   \n",
       "2                    0                    0                  0   \n",
       "3                    0                    0                  0   \n",
       "4                    0                    0                  0   \n",
       "\n",
       "   actor_Sebastian Stan  actor_Rebecca Hall  actor_Cam Gigandet  \\\n",
       "0                     0                   0                   0   \n",
       "1                     0                   0                   0   \n",
       "2                     0                   0                   0   \n",
       "3                     0                   0                   0   \n",
       "4                     0                   0                   0   \n",
       "\n",
       "   actor_Miles Teller  actor_Scott Adkins  actor_Octavia Spencer  \\\n",
       "0                   0                   0                      0   \n",
       "1                   0                   0                      0   \n",
       "2                   0                   0                      0   \n",
       "3                   0                   0                      0   \n",
       "4                   0                   0                      0   \n",
       "\n",
       "   actor_Dave Bautista  \n",
       "0                    0  \n",
       "1                    0  \n",
       "2                    0  \n",
       "3                    0  \n",
       "4                    0  \n",
       "\n",
       "[5 rows x 1870 columns]"
      ]
     },
     "execution_count": 10,
     "metadata": {},
     "output_type": "execute_result"
    }
   ],
   "source": [
    "X.head()"
   ]
  },
  {
   "cell_type": "code",
   "execution_count": 11,
   "metadata": {
    "id": "poEs_0M6LP9O"
   },
   "outputs": [],
   "source": [
    "# Assign two separate Y targets:\n",
    "# film review score set as vote_y\n",
    "# film worldwide gross income set as revenue_y\n",
    "\n",
    "vote_y = sample_df[\"avg_vote\"]\n",
    "\n",
    "revenue_y = sample_df[\"worlwide_gross_income\"]"
   ]
  },
  {
   "cell_type": "code",
   "execution_count": 12,
   "metadata": {
    "id": "cngJrtibLqe_"
   },
   "outputs": [],
   "source": [
    "# Function to train an LGBM Model\n",
    "\n",
    "def LightGBM_Model(Variable, variable_scaled, target, rand_state=42):\n",
    "    \n",
    "    # Split the data to train and test\n",
    "    X_train, X_test, y_train, y_test = \\\n",
    "    train_test_split(variable_scaled, target, test_size=0.2, random_state=rand_state)\n",
    "\n",
    "    print('X_train dimensions: ', X_train.shape, 'y_train: ', y_train.shape)\n",
    "    print('X_test dimensions:', X_test.shape, 'y_test: ', y_test.shape)\n",
    "\n",
    "    # Scale only duration and day columns using Min Max Scaler\n",
    "    duration_scaler = MinMaxScaler().fit(Variable[[\"duration\"]])\n",
    "    day_scaler = MinMaxScaler().fit(Variable[[\"day\"]])\n",
    "\n",
    "    # Duplicate X_train and X_test for scaling purposes\n",
    "    X_train_scaled = X_train\n",
    "    X_test_scaled = X_test\n",
    "    \n",
    "    # Use Scaler to transform relevant X_train and X_test columns\n",
    "    X_train_scaled[\"duration\"] = duration_scaler.transform(X_train_scaled[[\"duration\"]])\n",
    "    X_train_scaled[\"day\"] = day_scaler.transform(X_train_scaled[[\"day\"]])\n",
    "\n",
    "    X_test_scaled[\"duration\"] = duration_scaler.transform(X_test_scaled[[\"duration\"]])\n",
    "    X_test_scaled[\"day\"] = day_scaler.transform(X_test_scaled[[\"day\"]])\n",
    "    \n",
    "    # Set the model to LGBM Regressor\n",
    "    regressor = LGBMRegressor()\n",
    "    \n",
    "    # Train the model \n",
    "    regressed = regressor.fit(X_train_scaled,y_train) \n",
    "    return regressed, X_train_scaled, X_test_scaled, y_test"
   ]
  },
  {
   "cell_type": "markdown",
   "metadata": {},
   "source": [
    "## Revenue Predictor\n",
    "### All Variables\n",
    "<hr>\n",
    "Light GBM Regression Model for Revenue Prediction"
   ]
  },
  {
   "cell_type": "code",
   "execution_count": 13,
   "metadata": {},
   "outputs": [
    {
     "name": "stdout",
     "output_type": "stream",
     "text": [
      "X_train dimensions:  (7096, 1870) y_train:  (7096,)\n",
      "X_test dimensions: (1774, 1870) y_test:  (1774,)\n"
     ]
    },
    {
     "name": "stderr",
     "output_type": "stream",
     "text": [
      "C:\\Users\\WelanR_01\\anaconda3\\envs\\PythonData\\lib\\site-packages\\ipykernel_launcher.py:21: SettingWithCopyWarning: \n",
      "A value is trying to be set on a copy of a slice from a DataFrame.\n",
      "Try using .loc[row_indexer,col_indexer] = value instead\n",
      "\n",
      "See the caveats in the documentation: https://pandas.pydata.org/pandas-docs/stable/user_guide/indexing.html#returning-a-view-versus-a-copy\n",
      "C:\\Users\\WelanR_01\\anaconda3\\envs\\PythonData\\lib\\site-packages\\ipykernel_launcher.py:22: SettingWithCopyWarning: \n",
      "A value is trying to be set on a copy of a slice from a DataFrame.\n",
      "Try using .loc[row_indexer,col_indexer] = value instead\n",
      "\n",
      "See the caveats in the documentation: https://pandas.pydata.org/pandas-docs/stable/user_guide/indexing.html#returning-a-view-versus-a-copy\n",
      "C:\\Users\\WelanR_01\\anaconda3\\envs\\PythonData\\lib\\site-packages\\ipykernel_launcher.py:24: SettingWithCopyWarning: \n",
      "A value is trying to be set on a copy of a slice from a DataFrame.\n",
      "Try using .loc[row_indexer,col_indexer] = value instead\n",
      "\n",
      "See the caveats in the documentation: https://pandas.pydata.org/pandas-docs/stable/user_guide/indexing.html#returning-a-view-versus-a-copy\n",
      "C:\\Users\\WelanR_01\\anaconda3\\envs\\PythonData\\lib\\site-packages\\ipykernel_launcher.py:25: SettingWithCopyWarning: \n",
      "A value is trying to be set on a copy of a slice from a DataFrame.\n",
      "Try using .loc[row_indexer,col_indexer] = value instead\n",
      "\n",
      "See the caveats in the documentation: https://pandas.pydata.org/pandas-docs/stable/user_guide/indexing.html#returning-a-view-versus-a-copy\n"
     ]
    }
   ],
   "source": [
    "# Create and train a LightGBM model for revenue prediction\n",
    "revenue_y_regressor, revenue_X_train_scaled, revenue_X_test_scaled, revenue_y_test = LightGBM_Model(X, X, revenue_y, rand_state=42)"
   ]
  },
  {
   "cell_type": "code",
   "execution_count": 14,
   "metadata": {
    "colab": {
     "base_uri": "https://localhost:8080/"
    },
    "id": "Fe-9aXPZAPoU",
    "outputId": "fc298a98-c664-4cb4-81cd-5417170e1795"
   },
   "outputs": [
    {
     "name": "stdout",
     "output_type": "stream",
     "text": [
      "R-squared Score: 0.7701690631865028\n"
     ]
    }
   ],
   "source": [
    "# Make prediction using test data\n",
    "revenue_y_pred = revenue_y_regressor.predict(revenue_X_test_scaled)\n",
    "\n",
    "# Calculate R-squared score\n",
    "revenue_score = r2_score(revenue_y_test, revenue_y_pred)\n",
    "print(f\"R-squared Score: {revenue_score}\")"
   ]
  },
  {
   "cell_type": "markdown",
   "metadata": {},
   "source": [
    "## Revenue Predictor\n",
    "### Selected Features / Feature Importances\n",
    "<hr>\n",
    "select the most important features to train a new model"
   ]
  },
  {
   "cell_type": "code",
   "execution_count": 15,
   "metadata": {},
   "outputs": [],
   "source": [
    "# Function to find most important features and train a refined model\n",
    "\n",
    "def important_features(X_train_scaled, y_regressor):\n",
    "    # Train a new model using only the most important features using .feature_importance_ \n",
    "    # Save important features in a list select_features\n",
    "    select_features=[]\n",
    "\n",
    "    for col,score in zip(X_train_scaled.columns, y_regressor.feature_importances_):\n",
    "      if score > 1:\n",
    "        select_features.append(col)\n",
    "        print(col,score)\n",
    "        \n",
    "    print(f\"Number of features: {len(select_features)}\")\n",
    "    \n",
    "    # Set new DataFrame with only important features\n",
    "    select_sample_df = sample_df[select_features]\n",
    "    \n",
    "    return select_sample_df"
   ]
  },
  {
   "cell_type": "code",
   "execution_count": 16,
   "metadata": {},
   "outputs": [
    {
     "name": "stdout",
     "output_type": "stream",
     "text": [
      "year 325\n",
      "duration 308\n",
      "votes 599\n",
      "budget 535\n",
      "day 319\n",
      "language_English 2\n",
      "language_Spanish 11\n",
      "language_French 8\n",
      "language_Russian 3\n",
      "language_German 8\n",
      "language_Italian 9\n",
      "language_Japanese 3\n",
      "language_Mandarin 13\n",
      "language_Korean 3\n",
      "language_Cantonese 3\n",
      "language_Hindi 6\n",
      "language_Hebrew 4\n",
      "language_Greek 4\n",
      "language_Hungarian 2\n",
      "language_Thai 5\n",
      "language_Vietnamese 5\n",
      "genre_Drama 37\n",
      "genre_Comedy 33\n",
      "genre_Action 30\n",
      "genre_Crime 19\n",
      "genre_Romance 20\n",
      "genre_Adventure 39\n",
      "genre_Thriller 4\n",
      "genre_Horror 6\n",
      "genre_Mystery 4\n",
      "genre_Fantasy 19\n",
      "genre_Sci-Fi 35\n",
      "genre_Family 38\n",
      "genre_Biography 13\n",
      "genre_Animation 48\n",
      "genre_Music 5\n",
      "genre_War 2\n",
      "genre_Musical 2\n",
      "country_USA 2\n",
      "country_UK 15\n",
      "country_France 3\n",
      "country_Canada 5\n",
      "country_Germany 7\n",
      "country_China 15\n",
      "country_Australia 10\n",
      "country_Spain 2\n",
      "country_New Zealand 3\n",
      "country_Denmark 3\n",
      "director_Woody Allen 5\n",
      "director_Clint Eastwood 4\n",
      "director_Steven Spielberg 12\n",
      "director_Martin Scorsese 12\n",
      "writer_Stephen King 2\n",
      "company_Universal Pictures 23\n",
      "company_Warner Bros. 4\n",
      "company_Columbia Pictures 3\n",
      "company_Paramount Pictures 15\n",
      "company_Twentieth Century Fox 8\n",
      "company_New Line Cinema 8\n",
      "company_Touchstone Pictures 5\n",
      "company_Walt Disney Pictures 5\n",
      "company_Screen Gems 3\n",
      "company_Fox 2000 Pictures 7\n",
      "company_Focus Features 7\n",
      "company_Hollywood Pictures 3\n",
      "company_United Artists 2\n",
      "actor_Nicolas Cage 5\n",
      "actor_Bruce Willis 6\n",
      "actor_Woody Harrelson 4\n",
      "actor_Tom Hanks 2\n",
      "actor_Robert Downey Jr. 2\n",
      "actor_Jeff Bridges 2\n",
      "actor_John Cusack 2\n",
      "actor_Liam Neeson 4\n",
      "actor_Johnny Depp 10\n",
      "actor_Harrison Ford 9\n",
      "actor_John Travolta 5\n",
      "actor_Meryl Streep 4\n",
      "actor_Tom Cruise 6\n",
      "actor_Anthony Hopkins 4\n",
      "actor_Eddie Murphy 13\n",
      "actor_Matt Damon 4\n",
      "actor_Val Kilmer 2\n",
      "actor_John Goodman 2\n",
      "actor_Antonio Banderas 3\n",
      "actor_Julia Roberts 12\n",
      "actor_Brad Pitt 14\n",
      "actor_Ewan McGregor 9\n",
      "actor_Al Pacino 4\n",
      "actor_Scarlett Johansson 3\n",
      "actor_Ben Kingsley 6\n",
      "actor_Jackie Chan 2\n",
      "actor_Adam Sandler 5\n",
      "actor_Michael Douglas 5\n",
      "actor_Michael Keaton 2\n",
      "actor_Christian Bale 10\n",
      "actor_Pierce Brosnan 4\n",
      "actor_Sandra Bullock 12\n",
      "actor_Charlize Theron 8\n",
      "actor_James Franco 3\n",
      "actor_Jason Statham 4\n",
      "actor_Dustin Hoffman 3\n",
      "actor_Bill Murray 3\n",
      "actor_Gary Oldman 3\n",
      "actor_John C. Reilly 7\n",
      "actor_Jack Black 4\n",
      "actor_Will Ferrell 2\n",
      "actor_Dwayne Johnson 8\n",
      "actor_James Woods 3\n",
      "actor_Ben Affleck 4\n",
      "actor_Will Smith 9\n",
      "actor_Alfred Molina 4\n",
      "actor_Jeff Goldblum 3\n",
      "actor_Sigourney Weaver 4\n",
      "actor_Rosario Dawson 7\n",
      "actor_Mark Ruffalo 2\n",
      "Number of features: 116\n"
     ]
    },
    {
     "ename": "NameError",
     "evalue": "name 'X_selected' is not defined",
     "output_type": "error",
     "traceback": [
      "\u001b[1;31m---------------------------------------------------------------------------\u001b[0m",
      "\u001b[1;31mNameError\u001b[0m                                 Traceback (most recent call last)",
      "\u001b[1;32m<ipython-input-16-c2f79fe2cddc>\u001b[0m in \u001b[0;36m<module>\u001b[1;34m\u001b[0m\n\u001b[0;32m      4\u001b[0m \u001b[1;31m#Train a Light GBM Model\u001b[0m\u001b[1;33m\u001b[0m\u001b[1;33m\u001b[0m\u001b[1;33m\u001b[0m\u001b[0m\n\u001b[0;32m      5\u001b[0m \u001b[0mrevenue_y_s_regressor\u001b[0m\u001b[1;33m,\u001b[0m \u001b[0mrevenue_X_s_train_scaled\u001b[0m\u001b[1;33m,\u001b[0m \u001b[0mrevenue_X_s_test_scaled\u001b[0m\u001b[1;33m,\u001b[0m \u001b[0mrevenue_y_s_test\u001b[0m \u001b[1;33m=\u001b[0m\u001b[0;31m \u001b[0m\u001b[0;31m\\\u001b[0m\u001b[1;33m\u001b[0m\u001b[1;33m\u001b[0m\u001b[0m\n\u001b[1;32m----> 6\u001b[1;33m \u001b[0mLightGBM_Model\u001b[0m\u001b[1;33m(\u001b[0m\u001b[0mX\u001b[0m\u001b[1;33m,\u001b[0m \u001b[0mX_selected\u001b[0m\u001b[1;33m,\u001b[0m \u001b[0mrevenue_y\u001b[0m\u001b[1;33m,\u001b[0m \u001b[0mrand_state\u001b[0m\u001b[1;33m=\u001b[0m\u001b[1;36m42\u001b[0m\u001b[1;33m)\u001b[0m\u001b[1;33m\u001b[0m\u001b[1;33m\u001b[0m\u001b[0m\n\u001b[0m\u001b[0;32m      7\u001b[0m \u001b[1;33m\u001b[0m\u001b[0m\n\u001b[0;32m      8\u001b[0m \u001b[1;31m# Make prediction using test data\u001b[0m\u001b[1;33m\u001b[0m\u001b[1;33m\u001b[0m\u001b[1;33m\u001b[0m\u001b[0m\n",
      "\u001b[1;31mNameError\u001b[0m: name 'X_selected' is not defined"
     ]
    }
   ],
   "source": [
    "# Set X_Selected variables on important features DataFrame\n",
    "revenue_X_selected = important_features(revenue_X_train_scaled, revenue_y_regressor)\n",
    "\n",
    "#Train a Light GBM Model\n",
    "revenue_y_s_regressor, revenue_X_s_train_scaled, revenue_X_s_test_scaled, revenue_y_s_test = \\\n",
    "LightGBM_Model(X, revenue_X_selected, revenue_y, rand_state=42)\n",
    "\n",
    "# Make prediction using test data\n",
    "revenue_y_s_pred = revenue_y_s_regressor.predict(X_s_test_scaled)\n",
    "\n",
    "# Calculate R-squared score\n",
    "revenue_s_score = r2_score(revenue_y_s_test, revenue_y_s_pred)\n",
    "print(f\"R-squared Score: {revenue_s_score}\")"
   ]
  },
  {
   "cell_type": "markdown",
   "metadata": {},
   "source": [
    "## Revenue Models Export\n",
    "<hr>\n",
    "Export revenue model as .sav and .h5 formats"
   ]
  },
  {
   "cell_type": "code",
   "execution_count": null,
   "metadata": {},
   "outputs": [],
   "source": [
    "filename = 'Model/light_gbm_revenue_model.sav'\n",
    "joblib.dump(revenue_y_regressor, filename)"
   ]
  },
  {
   "cell_type": "code",
   "execution_count": null,
   "metadata": {},
   "outputs": [],
   "source": [
    "filename = 'Model/light_gbm_revenue_model.h5'\n",
    "joblib.dump(revenue_y_regressor, filename)"
   ]
  },
  {
   "cell_type": "code",
   "execution_count": null,
   "metadata": {},
   "outputs": [],
   "source": [
    "filename = 'Model/light_gbm_revenue_model.sav'\n",
    "joblib.dump(revenue_y_s_regressor, filename)"
   ]
  },
  {
   "cell_type": "code",
   "execution_count": null,
   "metadata": {},
   "outputs": [],
   "source": [
    "filename = 'Model/light_gbm_revenue_model.h5'\n",
    "joblib.dump(revenue_y_s_regressor, filename)"
   ]
  },
  {
   "cell_type": "markdown",
   "metadata": {
    "id": "hPzXjobd8RMh"
   },
   "source": [
    "## Review Score Predictor\n",
    "### All Variables\n",
    "<hr>\n",
    "Light GBM Regression Model for Review Score Prediction"
   ]
  },
  {
   "cell_type": "code",
   "execution_count": null,
   "metadata": {},
   "outputs": [],
   "source": [
    "vote_y_regressor, vote_X_train_scaled, vote_X_test_scaled, vote_y_test = LightGBM_Model(X, X, vote_y, rand_state=42)"
   ]
  },
  {
   "cell_type": "code",
   "execution_count": null,
   "metadata": {},
   "outputs": [],
   "source": [
    "# Make prediction using test data\n",
    "vote_y_pred = vote_y_regressor.predict(vote_X_test_scaled)\n",
    "\n",
    "# Calculate R-squared score\n",
    "vote_score = r2_score(vote_y_test, vote_y_pred)\n",
    "print(f\"R-squared Score: {vote_score}\")"
   ]
  },
  {
   "cell_type": "markdown",
   "metadata": {},
   "source": [
    "## Review Score Predictor\n",
    "### Selected Features / Feature Importances\n",
    "<hr>\n",
    "select the most important features to train a new model"
   ]
  },
  {
   "cell_type": "code",
   "execution_count": null,
   "metadata": {},
   "outputs": [],
   "source": [
    "# Set X_Selected variables on important features DataFrame\n",
    "vote_X_selected = important_features(vote_X_train_scaled, vote_y_regressor)\n",
    "\n",
    "#Train a Light GBM Model\n",
    "vote_y_s_regressor, vote_X_s_train_scaled, vote_X_s_test_scaled, vote_y_s_test = \\\n",
    "LightGBM_Model(X, vote_X_selected, vote_y, rand_state=42)\n",
    "\n",
    "# Make prediction using test data\n",
    "vote_y_s_pred = vote_y_s_regressor.predict(vote_X_s_test_scaled)\n",
    "\n",
    "# Calculate R-squared score\n",
    "vote_s_score = r2_score(vote_y_s_test, vote_y_s_pred)\n",
    "print(f\"R-squared Score: {vote_s_score}\")"
   ]
  },
  {
   "cell_type": "markdown",
   "metadata": {},
   "source": [
    "## Review Score Models Export\n",
    "<hr>\n",
    "Export review score model as .sav and .h5 formats"
   ]
  },
  {
   "cell_type": "code",
   "execution_count": null,
   "metadata": {},
   "outputs": [],
   "source": [
    "filename = 'Model/light_gbm_vote_model.sav'\n",
    "joblib.dump(vote_y_regressor, filename)"
   ]
  },
  {
   "cell_type": "code",
   "execution_count": null,
   "metadata": {},
   "outputs": [],
   "source": [
    "filename_s = 'Model/light_gbm_vote_model.h5'\n",
    "joblib.dump(vote_y_regressor, filename)"
   ]
  },
  {
   "cell_type": "code",
   "execution_count": null,
   "metadata": {},
   "outputs": [],
   "source": [
    "filename_s = 'Model/light_gbm_vote_model.sav'\n",
    "joblib.dump(vote_y_s_regressor, filename)"
   ]
  },
  {
   "cell_type": "code",
   "execution_count": null,
   "metadata": {},
   "outputs": [],
   "source": [
    "filename_s = 'Model/light_gbm_vote_model.h5'\n",
    "joblib.dump(vote_y_s_regressor, filename)"
   ]
  },
  {
   "cell_type": "code",
   "execution_count": 84,
   "metadata": {
    "colab": {
     "base_uri": "https://localhost:8080/"
    },
    "id": "YDpeyfoN7jKK",
    "outputId": "b0abaffc-1fa6-4b7c-905e-193b686eaee0"
   },
   "outputs": [
    {
     "name": "stdout",
     "output_type": "stream",
     "text": [
      "MAE: -30785080.589 (2127300.619)\n"
     ]
    }
   ],
   "source": [
    "# # get a list of models to evaluate\n",
    "# def get_models():\n",
    "# \tmodels = dict()\n",
    "# \ttrees = [10, 50, 100, 500, 1000, 5000]\n",
    "# \tfor n in trees:\n",
    "# \t\tmodels[str(n)] = LGBMClassifier(n_estimators=n)\n",
    "# \treturn models\n",
    "\n",
    "# # get the models to evaluate\n",
    "# models = get_models()\n",
    "\n",
    "# # evaluate a give model using cross-validation\n",
    "# def evaluate_model(model):\n",
    "# \tcv = RepeatedStratifiedKFold(n_splits=2, n_repeats=5, random_state=1)\n",
    "# \tscores = cross_val_score(model, X_rev_train, revenue_y_train, scoring='accuracy', cv=cv, n_jobs=-1)\n",
    "# \treturn scores\n",
    "\n",
    "# # evaluate the models and store results\n",
    "# results, names = list(), list()\n",
    "# for name, model in models.items():\n",
    "# \tscores = evaluate_model(model)\n",
    "# \tresults.append(scores)\n",
    "# \tnames.append(name)\n",
    "# \tprint('>%s %.3f (%.3f)' % (name, mean(scores), std(scores)))\n",
    "# # plot model performance for comparison\n",
    "# pyplot.boxplot(results, labels=names, showmeans=True)\n",
    "# pyplot.show()\n",
    "\n",
    "# # evaluate the model\n",
    "# cv = RepeatedKFold(n_splits=10, n_repeats=3, random_state=1)\n",
    "# n_scores = cross_val_score(model, X_train_scaled, revenue_y_train, scoring='neg_mean_absolute_error', cv=cv, n_jobs=-1, error_score='raise')\n",
    "# # report performance\n",
    "# print('MAE: %.3f (%.3f)' % (mean(n_scores), std(n_scores)))"
   ]
  },
  {
   "cell_type": "markdown",
   "metadata": {},
   "source": [
    "# Hyper Tuning\n",
    "<hr>\n",
    "Using GridSearchCV to hyper tune model"
   ]
  },
  {
   "cell_type": "code",
   "execution_count": 30,
   "metadata": {
    "id": "SXx7IZSw7f91"
   },
   "outputs": [],
   "source": [
    "param_grid = {\n",
    "    'max_depth': [2,63],\n",
    "    'num_leaves': [7, 4095],\n",
    "    'learning_rate': [0.06,0.08,0.1],\n",
    "    'n_estimators': [500,1000,2000],\n",
    "    'min_child_weight': [0.01, 8.87],\n",
    "    'scale_pos_weight': [1, 10000], \n",
    "    'subsample': [0.4, 0.1],\n",
    "    'colsample_bytree': [0.1,0.2]\n",
    "    \n",
    "#    'max_delta_step': [0, 0.2, 0.6, 1, 2],\n",
    "#    'reg_alpha': [0, 0.25, 0.5, 0.75, 1],\n",
    "#    'reg_lambda': [0.2, 0.4, 0.6, 0.8, 1],\n",
    "    # 'gamma': [0.1, 0.3],\n",
    "#    'scale_pos_weight': [0.2, 0.4, 0.6, 0.8, 1]\n",
    "}"
   ]
  },
  {
   "cell_type": "code",
   "execution_count": 31,
   "metadata": {
    "colab": {
     "base_uri": "https://localhost:8080/"
    },
    "id": "Ik-1y0Zd8RHm",
    "outputId": "c1b6524e-e6d9-4bc1-de77-9c225e89f788"
   },
   "outputs": [
    {
     "name": "stdout",
     "output_type": "stream",
     "text": [
      "Fitting 5 folds for each of 576 candidates, totalling 2880 fits\n"
     ]
    },
    {
     "name": "stderr",
     "output_type": "stream",
     "text": [
      "[Parallel(n_jobs=-1)]: Using backend LokyBackend with 4 concurrent workers.\n",
      "[Parallel(n_jobs=-1)]: Done  24 tasks      | elapsed:   12.7s\n",
      "[Parallel(n_jobs=-1)]: Done 120 tasks      | elapsed:  1.9min\n",
      "[Parallel(n_jobs=-1)]: Done 280 tasks      | elapsed:  3.4min\n",
      "[Parallel(n_jobs=-1)]: Done 504 tasks      | elapsed: 10.3min\n",
      "[Parallel(n_jobs=-1)]: Done 792 tasks      | elapsed: 12.8min\n",
      "[Parallel(n_jobs=-1)]: Done 1144 tasks      | elapsed: 18.2min\n",
      "[Parallel(n_jobs=-1)]: Done 1560 tasks      | elapsed: 24.8min\n",
      "[Parallel(n_jobs=-1)]: Done 2040 tasks      | elapsed: 33.9min\n",
      "[Parallel(n_jobs=-1)]: Done 2584 tasks      | elapsed: 42.9min\n",
      "[Parallel(n_jobs=-1)]: Done 2880 out of 2880 | elapsed: 51.1min finished\n"
     ]
    },
    {
     "data": {
      "text/plain": [
       "GridSearchCV(estimator=LGBMRegressor(), n_jobs=-1,\n",
       "             param_grid={'colsample_bytree': [0.1, 0.2],\n",
       "                         'learning_rate': [0.06, 0.08, 0.1],\n",
       "                         'max_depth': [2, 63], 'min_child_weight': [0.01, 8.87],\n",
       "                         'n_estimators': [500, 1000, 2000],\n",
       "                         'num_leaves': [7, 4095],\n",
       "                         'scale_pos_weight': [1, 10000],\n",
       "                         'subsample': [0.4, 0.1]},\n",
       "             verbose=3)"
      ]
     },
     "execution_count": 31,
     "metadata": {},
     "output_type": "execute_result"
    }
   ],
   "source": [
    "gsearch = GridSearchCV(model_selected, param_grid=param_grid,verbose=3, n_jobs=-1)\n",
    "gsearch.fit(X_selected_train_scaled,revenue_y_train)"
   ]
  },
  {
   "cell_type": "code",
   "execution_count": 32,
   "metadata": {
    "id": "VOx8XqN28RKD"
   },
   "outputs": [
    {
     "name": "stdout",
     "output_type": "stream",
     "text": [
      "{'colsample_bytree': 0.2, 'learning_rate': 0.06, 'max_depth': 63, 'min_child_weight': 0.01, 'n_estimators': 2000, 'num_leaves': 7, 'scale_pos_weight': 1, 'subsample': 0.4}\n",
      "0.7419403930457946\n"
     ]
    }
   ],
   "source": [
    "print(gsearch.best_params_)\n",
    "print(gsearch.best_score_)"
   ]
  }
 ],
 "metadata": {
  "accelerator": "GPU",
  "colab": {
   "collapsed_sections": [],
   "name": "01_Data_Processing_LightGBM_CPU.ipynb",
   "provenance": []
  },
  "kernelspec": {
   "display_name": "Python [conda env:PythonData] *",
   "language": "python",
   "name": "conda-env-PythonData-py"
  },
  "language_info": {
   "codemirror_mode": {
    "name": "ipython",
    "version": 3
   },
   "file_extension": ".py",
   "mimetype": "text/x-python",
   "name": "python",
   "nbconvert_exporter": "python",
   "pygments_lexer": "ipython3",
   "version": "3.6.10"
  }
 },
 "nbformat": 4,
 "nbformat_minor": 1
}
