{
 "cells": [
  {
   "cell_type": "markdown",
   "metadata": {
    "id": "ojyeVJUwzTsd"
   },
   "source": [
    "# **Environment Setup**"
   ]
  },
  {
   "cell_type": "code",
   "execution_count": 1,
   "metadata": {
    "id": "wbrwlDUL2Np8"
   },
   "outputs": [],
   "source": [
    "from sklearn.model_selection import train_test_split\n",
    "from sklearn.preprocessing import MinMaxScaler\n",
    "from sklearn.metrics import r2_score\n",
    "from sklearn.metrics import accuracy_score\n",
    "from sklearn.model_selection import GridSearchCV\n",
    "from sklearn.metrics import mean_absolute_error\n",
    "\n",
    "from matplotlib import pyplot\n",
    "import pandas as pd\n",
    "import numpy as np\n",
    "import lightgbm as lgb\n",
    "import seaborn as sns\n",
    "\n",
    "from numpy import mean\n",
    "from numpy import std\n",
    "\n",
    "# Light GBM Regressor Machine Learning Model\n",
    "from lightgbm import LGBMRegressor\n",
    "\n",
    "# Machine Learning Model Exporter\n",
    "import joblib"
   ]
  },
  {
   "cell_type": "markdown",
   "metadata": {
    "id": "oIehffhMzSVL"
   },
   "source": [
    "# Sample Data Loading"
   ]
  },
  {
   "cell_type": "code",
   "execution_count": 2,
   "metadata": {},
   "outputs": [],
   "source": [
    "rev_select_sample_df = pd.read_csv(\"encoded_data/select_sample_data_rev_xgb.csv\")\n",
    "revenue_y = pd.read_csv(\"encoded_data/revenue_xgb.csv\")\n",
    "rat_select_sample_df = pd.read_csv(\"encoded_data/select_sample_data_rate_xgb.csv\")\n",
    "rate_y = pd.read_csv(\"encoded_data/rating_xgb.csv\")"
   ]
  },
  {
   "cell_type": "code",
   "execution_count": 3,
   "metadata": {},
   "outputs": [],
   "source": [
    "X_rev = rev_select_sample_df\n",
    "X_rat = rat_select_sample_df"
   ]
  },
  {
   "cell_type": "markdown",
   "metadata": {
    "id": "72YrFt7qIuW6"
   },
   "source": [
    "# Data Scaling"
   ]
  },
  {
   "cell_type": "code",
   "execution_count": 5,
   "metadata": {
    "id": "cngJrtibLqe_"
   },
   "outputs": [],
   "source": [
    "# Function to train an LGBM Model\n",
    "\n",
    "def data_scaling(Variable, target, rand_state=42):\n",
    "    \n",
    "    # Split the data to train and test\n",
    "    X_train, X_test, y_train, y_test = \\\n",
    "    train_test_split(Variable, target, test_size=0.2, random_state=rand_state)\n",
    "\n",
    "    print('X_train dimensions: ', X_train.shape, 'y_train: ', y_train.shape)\n",
    "    print('X_test dimensions:', X_test.shape, 'y_test: ', y_test.shape)\n",
    "\n",
    "    # Scale only duration and day columns using Min Max Scaler\n",
    "    duration_scaler = MinMaxScaler().fit(Variable[[\"duration\"]])\n",
    "    day_scaler = MinMaxScaler().fit(Variable[[\"day\"]])\n",
    "\n",
    "    # Duplicate X_train and X_test for scaling purposes\n",
    "    X_train_scaled = X_train\n",
    "    X_test_scaled = X_test\n",
    "    \n",
    "    # Use Scaler to transform relevant X_train and X_test columns\n",
    "    X_train_scaled[\"duration\"] = duration_scaler.transform(X_train_scaled[[\"duration\"]])\n",
    "    X_train_scaled[\"day\"] = day_scaler.transform(X_train_scaled[[\"day\"]])\n",
    "\n",
    "    X_test_scaled[\"duration\"] = duration_scaler.transform(X_test_scaled[[\"duration\"]])\n",
    "    X_test_scaled[\"day\"] = day_scaler.transform(X_test_scaled[[\"day\"]])\n",
    "    return X_train_scaled, X_test_scaled, y_train, y_test"
   ]
  },
  {
   "cell_type": "markdown",
   "metadata": {},
   "source": [
    "## Revenue Predictor\n",
    "<hr>\n",
    "Light GBM Regression Model for Revenue Prediction"
   ]
  },
  {
   "cell_type": "code",
   "execution_count": 7,
   "metadata": {},
   "outputs": [
    {
     "name": "stdout",
     "output_type": "stream",
     "text": [
      "X_train dimensions:  (7096, 426) y_train:  (7096, 1)\n",
      "X_test dimensions: (1774, 426) y_test:  (1774, 1)\n"
     ]
    },
    {
     "name": "stderr",
     "output_type": "stream",
     "text": [
      "<ipython-input-5-f13bb0f374a7>:21: SettingWithCopyWarning: \n",
      "A value is trying to be set on a copy of a slice from a DataFrame.\n",
      "Try using .loc[row_indexer,col_indexer] = value instead\n",
      "\n",
      "See the caveats in the documentation: https://pandas.pydata.org/pandas-docs/stable/user_guide/indexing.html#returning-a-view-versus-a-copy\n",
      "  X_train_scaled[\"duration\"] = duration_scaler.transform(X_train_scaled[[\"duration\"]])\n",
      "<ipython-input-5-f13bb0f374a7>:22: SettingWithCopyWarning: \n",
      "A value is trying to be set on a copy of a slice from a DataFrame.\n",
      "Try using .loc[row_indexer,col_indexer] = value instead\n",
      "\n",
      "See the caveats in the documentation: https://pandas.pydata.org/pandas-docs/stable/user_guide/indexing.html#returning-a-view-versus-a-copy\n",
      "  X_train_scaled[\"day\"] = day_scaler.transform(X_train_scaled[[\"day\"]])\n",
      "<ipython-input-5-f13bb0f374a7>:24: SettingWithCopyWarning: \n",
      "A value is trying to be set on a copy of a slice from a DataFrame.\n",
      "Try using .loc[row_indexer,col_indexer] = value instead\n",
      "\n",
      "See the caveats in the documentation: https://pandas.pydata.org/pandas-docs/stable/user_guide/indexing.html#returning-a-view-versus-a-copy\n",
      "  X_test_scaled[\"duration\"] = duration_scaler.transform(X_test_scaled[[\"duration\"]])\n",
      "<ipython-input-5-f13bb0f374a7>:25: SettingWithCopyWarning: \n",
      "A value is trying to be set on a copy of a slice from a DataFrame.\n",
      "Try using .loc[row_indexer,col_indexer] = value instead\n",
      "\n",
      "See the caveats in the documentation: https://pandas.pydata.org/pandas-docs/stable/user_guide/indexing.html#returning-a-view-versus-a-copy\n",
      "  X_test_scaled[\"day\"] = day_scaler.transform(X_test_scaled[[\"day\"]])\n"
     ]
    },
    {
     "data": {
      "text/plain": [
       "LGBMRegressor()"
      ]
     },
     "execution_count": 7,
     "metadata": {},
     "output_type": "execute_result"
    }
   ],
   "source": [
    "# Create and train a LightGBM model for revenue prediction\n",
    "revenue_X_train_scaled, revenue_X_test_scaled, revenue_y_train, revenue_y_test = \\\n",
    "data_scaling(X_rev, revenue_y, rand_state=42)\n",
    "\n",
    "# Set up LightGBM regressor model using default settings\n",
    "revenue_y_regressor = LGBMRegressor()\n",
    "\n",
    "# Train model using training data\n",
    "revenue_y_regressor.fit(revenue_X_train_scaled,revenue_y_train)"
   ]
  },
  {
   "cell_type": "code",
   "execution_count": 8,
   "metadata": {
    "colab": {
     "base_uri": "https://localhost:8080/"
    },
    "id": "Fe-9aXPZAPoU",
    "outputId": "fc298a98-c664-4cb4-81cd-5417170e1795"
   },
   "outputs": [
    {
     "name": "stdout",
     "output_type": "stream",
     "text": [
      "R-squared Score: 0.7694747402648999\n"
     ]
    }
   ],
   "source": [
    "# Make prediction using test data\n",
    "revenue_y_pred = revenue_y_regressor.predict(revenue_X_test_scaled)\n",
    "\n",
    "# Calculate R-squared score\n",
    "revenue_score = r2_score(revenue_y_test, revenue_y_pred)\n",
    "print(f\"R-squared Score: {revenue_score}\")"
   ]
  },
  {
   "cell_type": "code",
   "execution_count": 11,
   "metadata": {
    "id": "SXx7IZSw7f91"
   },
   "outputs": [],
   "source": [
    "# Parameters for GridsearchCV\n",
    "param_grid = {\n",
    "    'max_depth': [3, 5, 7],\n",
    "    'num_leaves': [3,7,15,31,63,127],\n",
    "    'learning_rate': [0.03,0.1,0.3],\n",
    "    'n_estimators': [200, 500],\n",
    "    'bagging_fraction ': [0.1, 0.4, 0.7, 1.0],\n",
    "    'feature_fraction': [0.6, 0.8, 1.0],\n",
    "    'max_bin':[63,127,255]\n",
    "}"
   ]
  },
  {
   "cell_type": "code",
   "execution_count": 12,
   "metadata": {
    "colab": {
     "base_uri": "https://localhost:8080/"
    },
    "id": "Ik-1y0Zd8RHm",
    "outputId": "c1b6524e-e6d9-4bc1-de77-9c225e89f788",
    "scrolled": false
   },
   "outputs": [
    {
     "name": "stdout",
     "output_type": "stream",
     "text": [
      "Fitting 5 folds for each of 4536 candidates, totalling 22680 fits\n"
     ]
    },
    {
     "name": "stderr",
     "output_type": "stream",
     "text": [
      "[Parallel(n_jobs=-1)]: Using backend LokyBackend with 8 concurrent workers.\n",
      "[Parallel(n_jobs=-1)]: Done  16 tasks      | elapsed:    7.1s\n",
      "[Parallel(n_jobs=-1)]: Done 112 tasks      | elapsed:   13.5s\n",
      "[Parallel(n_jobs=-1)]: Done 272 tasks      | elapsed:   25.4s\n",
      "[Parallel(n_jobs=-1)]: Done 496 tasks      | elapsed:   40.6s\n",
      "[Parallel(n_jobs=-1)]: Done 784 tasks      | elapsed:  1.0min\n",
      "[Parallel(n_jobs=-1)]: Done 1136 tasks      | elapsed:  1.4min\n",
      "[Parallel(n_jobs=-1)]: Done 1552 tasks      | elapsed:  1.9min\n",
      "[Parallel(n_jobs=-1)]: Done 2032 tasks      | elapsed:  2.4min\n",
      "[Parallel(n_jobs=-1)]: Done 2576 tasks      | elapsed:  2.9min\n",
      "[Parallel(n_jobs=-1)]: Done 3184 tasks      | elapsed:  3.5min\n",
      "[Parallel(n_jobs=-1)]: Done 3856 tasks      | elapsed:  4.1min\n",
      "[Parallel(n_jobs=-1)]: Done 4592 tasks      | elapsed:  4.8min\n",
      "[Parallel(n_jobs=-1)]: Done 5392 tasks      | elapsed:  5.5min\n",
      "[Parallel(n_jobs=-1)]: Done 6256 tasks      | elapsed:  6.4min\n",
      "[Parallel(n_jobs=-1)]: Done 7184 tasks      | elapsed:  7.5min\n",
      "[Parallel(n_jobs=-1)]: Done 8176 tasks      | elapsed:  8.5min\n",
      "[Parallel(n_jobs=-1)]: Done 9232 tasks      | elapsed:  9.5min\n",
      "[Parallel(n_jobs=-1)]: Done 10352 tasks      | elapsed: 10.5min\n",
      "[Parallel(n_jobs=-1)]: Done 11536 tasks      | elapsed: 11.6min\n",
      "[Parallel(n_jobs=-1)]: Done 12784 tasks      | elapsed: 13.1min\n",
      "[Parallel(n_jobs=-1)]: Done 14096 tasks      | elapsed: 14.4min\n",
      "[Parallel(n_jobs=-1)]: Done 15472 tasks      | elapsed: 15.7min\n",
      "[Parallel(n_jobs=-1)]: Done 16912 tasks      | elapsed: 17.0min\n",
      "[Parallel(n_jobs=-1)]: Done 18416 tasks      | elapsed: 18.8min\n",
      "[Parallel(n_jobs=-1)]: Done 19984 tasks      | elapsed: 20.3min\n",
      "[Parallel(n_jobs=-1)]: Done 21616 tasks      | elapsed: 21.8min\n",
      "[Parallel(n_jobs=-1)]: Done 22680 out of 22680 | elapsed: 22.8min finished\n"
     ]
    },
    {
     "name": "stdout",
     "output_type": "stream",
     "text": [
      "[LightGBM] [Warning] Unknown parameter: 0.1\n",
      "[LightGBM] [Warning] feature_fraction is set=0.6, colsample_bytree=1.0 will be ignored. Current value: feature_fraction=0.6\n",
      "[LightGBM] [Warning] bagging_fraction is set=, subsample=1.0 will be ignored. Current value: bagging_fraction=\n"
     ]
    },
    {
     "data": {
      "text/plain": [
       "GridSearchCV(estimator=LGBMRegressor(), n_jobs=-1,\n",
       "             param_grid={'bagging_fraction ': [0.1, 0.4, 0.7, 1.0],\n",
       "                         'feature_fraction': [0.6, 0.8, 1.0],\n",
       "                         'learning_rate': [0.03, 0.1, 0.3],\n",
       "                         'max_bin': [63, 127, 255], 'max_depth': [3, 5, 7],\n",
       "                         'n_estimators': [200, 500],\n",
       "                         'num_leaves': [3, 7, 15, 31, 63, 127, 256]},\n",
       "             verbose=3)"
      ]
     },
     "execution_count": 12,
     "metadata": {},
     "output_type": "execute_result"
    }
   ],
   "source": [
    "gsearch = GridSearchCV(revenue_y_regressor, param_grid=param_grid,verbose=3, n_jobs=-1)\n",
    "gsearch.fit(revenue_X_train_scaled, revenue_y_train)"
   ]
  },
  {
   "cell_type": "code",
   "execution_count": 13,
   "metadata": {
    "id": "VOx8XqN28RKD",
    "scrolled": true
   },
   "outputs": [
    {
     "name": "stdout",
     "output_type": "stream",
     "text": [
      "{'bagging_fraction ': 0.1, 'feature_fraction': 0.6, 'learning_rate': 0.1, 'max_bin': 127, 'max_depth': 5, 'n_estimators': 500, 'num_leaves': 7}\n",
      "0.775764480016108\n"
     ]
    }
   ],
   "source": [
    "print(gsearch.best_params_)\n",
    "print(gsearch.best_score_)"
   ]
  },
  {
   "cell_type": "code",
   "execution_count": 14,
   "metadata": {},
   "outputs": [
    {
     "data": {
      "text/plain": [
       "LGBMRegressor(bagging_fraction=0.1, feature_fraction=0.6, max_bin=127,\n",
       "              max_depth=5, n_estimators=500, num_leaves=7)"
      ]
     },
     "execution_count": 14,
     "metadata": {},
     "output_type": "execute_result"
    }
   ],
   "source": [
    "# Use hypertuned parameters to train model\n",
    "revenue_y_gscv_regressor = LGBMRegressor(bagging_fraction = 0.1, \n",
    "                                         feature_fraction= 0.6, \n",
    "                                         learning_rate= 0.1, \n",
    "                                         max_bin= 127, \n",
    "                                         max_depth= 5, \n",
    "                                         n_estimators= 500, \n",
    "                                         num_leaves= 7)\n",
    "\n",
    "revenue_y_gscv_regressor.fit(revenue_X_train_scaled,revenue_y_train)"
   ]
  },
  {
   "cell_type": "code",
   "execution_count": 15,
   "metadata": {},
   "outputs": [
    {
     "name": "stdout",
     "output_type": "stream",
     "text": [
      "R-squared Score: 0.7663601677784938\n"
     ]
    }
   ],
   "source": [
    "# Make prediction using test data on hypertuned model\n",
    "revenue_y_pred = revenue_y_gscv_regressor.predict(revenue_X_test_scaled)\n",
    "\n",
    "# Calculate R-squared score\n",
    "revenue_gscv_score = r2_score(revenue_y_test, revenue_y_pred)\n",
    "print(f\"R-squared Score: {revenue_gscv_score}\")"
   ]
  },
  {
   "cell_type": "code",
   "execution_count": 16,
   "metadata": {},
   "outputs": [
    {
     "data": {
      "text/plain": [
       "['revenue_lgbm_model.sav']"
      ]
     },
     "execution_count": 16,
     "metadata": {},
     "output_type": "execute_result"
    }
   ],
   "source": [
    "filename = 'revenue_lgbm_model.sav'\n",
    "joblib.dump(revenue_y_regressor, filename)"
   ]
  },
  {
   "cell_type": "markdown",
   "metadata": {
    "id": "hPzXjobd8RMh"
   },
   "source": [
    "## Review Score Predictor\n",
    "<hr>\n",
    "Light GBM Regression Model for Review Score Prediction"
   ]
  },
  {
   "cell_type": "code",
   "execution_count": 18,
   "metadata": {},
   "outputs": [
    {
     "name": "stdout",
     "output_type": "stream",
     "text": [
      "X_train dimensions:  (7096, 473) y_train:  (7096, 1)\n",
      "X_test dimensions: (1774, 473) y_test:  (1774, 1)\n"
     ]
    },
    {
     "name": "stderr",
     "output_type": "stream",
     "text": [
      "<ipython-input-5-f13bb0f374a7>:21: SettingWithCopyWarning: \n",
      "A value is trying to be set on a copy of a slice from a DataFrame.\n",
      "Try using .loc[row_indexer,col_indexer] = value instead\n",
      "\n",
      "See the caveats in the documentation: https://pandas.pydata.org/pandas-docs/stable/user_guide/indexing.html#returning-a-view-versus-a-copy\n",
      "  X_train_scaled[\"duration\"] = duration_scaler.transform(X_train_scaled[[\"duration\"]])\n",
      "<ipython-input-5-f13bb0f374a7>:22: SettingWithCopyWarning: \n",
      "A value is trying to be set on a copy of a slice from a DataFrame.\n",
      "Try using .loc[row_indexer,col_indexer] = value instead\n",
      "\n",
      "See the caveats in the documentation: https://pandas.pydata.org/pandas-docs/stable/user_guide/indexing.html#returning-a-view-versus-a-copy\n",
      "  X_train_scaled[\"day\"] = day_scaler.transform(X_train_scaled[[\"day\"]])\n",
      "<ipython-input-5-f13bb0f374a7>:24: SettingWithCopyWarning: \n",
      "A value is trying to be set on a copy of a slice from a DataFrame.\n",
      "Try using .loc[row_indexer,col_indexer] = value instead\n",
      "\n",
      "See the caveats in the documentation: https://pandas.pydata.org/pandas-docs/stable/user_guide/indexing.html#returning-a-view-versus-a-copy\n",
      "  X_test_scaled[\"duration\"] = duration_scaler.transform(X_test_scaled[[\"duration\"]])\n",
      "<ipython-input-5-f13bb0f374a7>:25: SettingWithCopyWarning: \n",
      "A value is trying to be set on a copy of a slice from a DataFrame.\n",
      "Try using .loc[row_indexer,col_indexer] = value instead\n",
      "\n",
      "See the caveats in the documentation: https://pandas.pydata.org/pandas-docs/stable/user_guide/indexing.html#returning-a-view-versus-a-copy\n",
      "  X_test_scaled[\"day\"] = day_scaler.transform(X_test_scaled[[\"day\"]])\n"
     ]
    },
    {
     "data": {
      "text/plain": [
       "LGBMRegressor()"
      ]
     },
     "execution_count": 18,
     "metadata": {},
     "output_type": "execute_result"
    }
   ],
   "source": [
    "# Create and train a LightGBM model for revenue prediction\n",
    "rate_X_train_scaled, rate_X_test_scaled, rate_y_train, rate_y_test = \\\n",
    "data_scaling(X_rat, rate_y, rand_state=42)\n",
    "\n",
    "# Set up LightGBM regressor model using default settings\n",
    "rate_y_regressor = LGBMRegressor()\n",
    "\n",
    "# Train model using training data\n",
    "rate_y_regressor.fit(rate_X_train_scaled,rate_y_train)"
   ]
  },
  {
   "cell_type": "code",
   "execution_count": 19,
   "metadata": {},
   "outputs": [
    {
     "name": "stdout",
     "output_type": "stream",
     "text": [
      "R-squared Score: 0.572287839432083\n"
     ]
    }
   ],
   "source": [
    "# Make prediction using test data\n",
    "rate_y_pred = rate_y_regressor.predict(rate_X_test_scaled)\n",
    "\n",
    "# Calculate R-squared score\n",
    "rate_score = r2_score(rate_y_test, rate_y_pred)\n",
    "print(f\"R-squared Score: {rate_score}\")"
   ]
  },
  {
   "cell_type": "code",
   "execution_count": 20,
   "metadata": {},
   "outputs": [],
   "source": [
    "# Parameters for GridsearchCV\n",
    "param_grid = {\n",
    "    'max_depth': [3, 5, 7],\n",
    "    'num_leaves': [3,7,15,31,63,127],\n",
    "    'learning_rate': [0.03,0.1,0.3],\n",
    "    'n_estimators': [200, 500],\n",
    "    'bagging_fraction ': [0.1, 0.4, 0.7, 1.0],\n",
    "    'feature_fraction': [0.6, 0.8, 1.0],\n",
    "    'max_bin':[63,127,255]\n",
    "}"
   ]
  },
  {
   "cell_type": "code",
   "execution_count": 21,
   "metadata": {},
   "outputs": [
    {
     "name": "stdout",
     "output_type": "stream",
     "text": [
      "Fitting 5 folds for each of 3888 candidates, totalling 19440 fits\n"
     ]
    },
    {
     "name": "stderr",
     "output_type": "stream",
     "text": [
      "[Parallel(n_jobs=-1)]: Using backend LokyBackend with 8 concurrent workers.\n",
      "[Parallel(n_jobs=-1)]: Done  16 tasks      | elapsed:    7.0s\n",
      "[Parallel(n_jobs=-1)]: Done 112 tasks      | elapsed:   14.6s\n",
      "[Parallel(n_jobs=-1)]: Done 272 tasks      | elapsed:   27.5s\n",
      "[Parallel(n_jobs=-1)]: Done 496 tasks      | elapsed:   45.8s\n",
      "[Parallel(n_jobs=-1)]: Done 784 tasks      | elapsed:  1.1min\n",
      "[Parallel(n_jobs=-1)]: Done 1136 tasks      | elapsed:  1.6min\n",
      "[Parallel(n_jobs=-1)]: Done 1552 tasks      | elapsed:  2.1min\n",
      "[Parallel(n_jobs=-1)]: Done 2032 tasks      | elapsed:  2.7min\n",
      "[Parallel(n_jobs=-1)]: Done 2576 tasks      | elapsed:  3.3min\n",
      "[Parallel(n_jobs=-1)]: Done 3184 tasks      | elapsed:  3.9min\n",
      "[Parallel(n_jobs=-1)]: Done 3856 tasks      | elapsed:  4.7min\n",
      "[Parallel(n_jobs=-1)]: Done 4592 tasks      | elapsed:  5.5min\n",
      "[Parallel(n_jobs=-1)]: Done 5392 tasks      | elapsed:  6.5min\n",
      "[Parallel(n_jobs=-1)]: Done 6256 tasks      | elapsed:  7.6min\n",
      "[Parallel(n_jobs=-1)]: Done 7184 tasks      | elapsed:  8.7min\n",
      "[Parallel(n_jobs=-1)]: Done 8176 tasks      | elapsed:  9.7min\n",
      "[Parallel(n_jobs=-1)]: Done 9232 tasks      | elapsed: 10.8min\n",
      "[Parallel(n_jobs=-1)]: Done 10352 tasks      | elapsed: 12.2min\n",
      "[Parallel(n_jobs=-1)]: Done 11536 tasks      | elapsed: 13.7min\n",
      "[Parallel(n_jobs=-1)]: Done 12784 tasks      | elapsed: 15.0min\n",
      "[Parallel(n_jobs=-1)]: Done 14096 tasks      | elapsed: 16.4min\n",
      "[Parallel(n_jobs=-1)]: Done 15472 tasks      | elapsed: 18.1min\n",
      "[Parallel(n_jobs=-1)]: Done 16912 tasks      | elapsed: 19.8min\n",
      "[Parallel(n_jobs=-1)]: Done 18416 tasks      | elapsed: 21.4min\n",
      "[Parallel(n_jobs=-1)]: Done 19440 out of 19440 | elapsed: 22.5min finished\n"
     ]
    },
    {
     "name": "stdout",
     "output_type": "stream",
     "text": [
      "[LightGBM] [Warning] Unknown parameter: 0.1\n",
      "[LightGBM] [Warning] feature_fraction is set=0.6, colsample_bytree=1.0 will be ignored. Current value: feature_fraction=0.6\n",
      "[LightGBM] [Warning] bagging_fraction is set=, subsample=1.0 will be ignored. Current value: bagging_fraction=\n"
     ]
    },
    {
     "data": {
      "text/plain": [
       "GridSearchCV(estimator=LGBMRegressor(), n_jobs=-1,\n",
       "             param_grid={'bagging_fraction ': [0.1, 0.4, 0.7, 1.0],\n",
       "                         'feature_fraction': [0.6, 0.8, 1.0],\n",
       "                         'learning_rate': [0.03, 0.1, 0.3],\n",
       "                         'max_bin': [63, 127, 255], 'max_depth': [3, 5, 7],\n",
       "                         'n_estimators': [200, 500],\n",
       "                         'num_leaves': [3, 7, 15, 31, 63, 127]},\n",
       "             verbose=3)"
      ]
     },
     "execution_count": 21,
     "metadata": {},
     "output_type": "execute_result"
    }
   ],
   "source": [
    "gsearch = GridSearchCV(rate_y_regressor, param_grid=param_grid,verbose=3, n_jobs=-1)\n",
    "gsearch.fit(rate_X_train_scaled, rate_y_train)"
   ]
  },
  {
   "cell_type": "code",
   "execution_count": 22,
   "metadata": {},
   "outputs": [
    {
     "name": "stdout",
     "output_type": "stream",
     "text": [
      "{'bagging_fraction ': 0.1, 'feature_fraction': 0.6, 'learning_rate': 0.03, 'max_bin': 63, 'max_depth': 7, 'n_estimators': 500, 'num_leaves': 31}\n",
      "0.6053397710804465\n"
     ]
    }
   ],
   "source": [
    "print(gsearch.best_params_)\n",
    "print(gsearch.best_score_)"
   ]
  },
  {
   "cell_type": "code",
   "execution_count": 23,
   "metadata": {},
   "outputs": [
    {
     "data": {
      "text/plain": [
       "LGBMRegressor(bagging_fraction=0.1, feature_fraction=0.6, learning_rate=0.03,\n",
       "              max_bin=63, max_depth=7, n_estimators=500)"
      ]
     },
     "execution_count": 23,
     "metadata": {},
     "output_type": "execute_result"
    }
   ],
   "source": [
    "# Use hypertuned parameters to train model\n",
    "rate_y_gscv_regressor = LGBMRegressor(bagging_fraction = 0.1, \n",
    "                                         feature_fraction= 0.6, \n",
    "                                         learning_rate= 0.03, \n",
    "                                         max_bin= 63, \n",
    "                                         max_depth= 7, \n",
    "                                         n_estimators= 500, \n",
    "                                         num_leaves= 31)\n",
    "\n",
    "rate_y_gscv_regressor.fit(rate_X_train_scaled,rate_y_train)"
   ]
  },
  {
   "cell_type": "code",
   "execution_count": 24,
   "metadata": {},
   "outputs": [
    {
     "name": "stdout",
     "output_type": "stream",
     "text": [
      "R-squared Score: 0.5767690619823476\n"
     ]
    }
   ],
   "source": [
    "# Make prediction using test data on hypertuned model\n",
    "rate_y_pred = rate_y_gscv_regressor.predict(rate_X_test_scaled)\n",
    "\n",
    "# Calculate R-squared score\n",
    "rate_gscv_score = r2_score(rate_y_test, rate_y_pred)\n",
    "print(f\"R-squared Score: {rate_gscv_score}\")"
   ]
  },
  {
   "cell_type": "code",
   "execution_count": 25,
   "metadata": {},
   "outputs": [
    {
     "data": {
      "text/plain": [
       "['rate_lgbm_model.sav']"
      ]
     },
     "execution_count": 25,
     "metadata": {},
     "output_type": "execute_result"
    }
   ],
   "source": [
    "filename = 'rate_lgbm_model.sav'\n",
    "joblib.dump(rate_y_gscv_regressor, filename)"
   ]
  }
 ],
 "metadata": {
  "accelerator": "GPU",
  "colab": {
   "collapsed_sections": [],
   "name": "01_Data_Processing_LightGBM_CPU.ipynb",
   "provenance": []
  },
  "kernelspec": {
   "display_name": "Python 3",
   "language": "python",
   "name": "python3"
  },
  "language_info": {
   "codemirror_mode": {
    "name": "ipython",
    "version": 3
   },
   "file_extension": ".py",
   "mimetype": "text/x-python",
   "name": "python",
   "nbconvert_exporter": "python",
   "pygments_lexer": "ipython3",
   "version": "3.8.5"
  }
 },
 "nbformat": 4,
 "nbformat_minor": 1
}
