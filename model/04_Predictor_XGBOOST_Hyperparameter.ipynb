{
 "cells": [
  {
   "cell_type": "markdown",
   "metadata": {
    "id": "ojyeVJUwzTsd"
   },
   "source": [
    "# **Environment Setup**"
   ]
  },
  {
   "cell_type": "code",
   "execution_count": 1,
   "metadata": {},
   "outputs": [],
   "source": [
    "import xgboost as xgb\n",
    "import numpy as np\n",
    "from sklearn.metrics import accuracy_score\n",
    "import pandas as pd\n",
    "from datetime import datetime\n",
    "from collections import Counter"
   ]
  },
  {
   "cell_type": "code",
   "execution_count": 2,
   "metadata": {},
   "outputs": [],
   "source": [
    "from sklearn.preprocessing import MinMaxScaler\n",
    "from xgboost import XGBRegressor\n",
    "from sklearn.metrics import r2_score\n",
    "from sklearn.model_selection import GridSearchCV"
   ]
  },
  {
   "cell_type": "markdown",
   "metadata": {
    "id": "oIehffhMzSVL"
   },
   "source": [
    "# Sample Data Loading"
   ]
  },
  {
   "cell_type": "code",
   "execution_count": 3,
   "metadata": {
    "colab": {
     "base_uri": "https://localhost:8080/",
     "height": 700
    },
    "id": "_K6t2mq12SQw",
    "outputId": "d7b5bc31-f359-4feb-c31f-b678d47b7930"
   },
   "outputs": [],
   "source": [
    "rev_select_sample_df = pd.read_csv(\"encoded_data/select_sample_data_rev_xgb.csv\")\n",
    "revenue_y = pd.read_csv(\"encoded_data/revenue_xgb.csv\")\n",
    "rat_select_sample_df = pd.read_csv(\"encoded_data/select_sample_data_rate_xgb.csv\")\n",
    "rate_y = pd.read_csv(\"encoded_data/rating_xgb.csv\")"
   ]
  },
  {
   "cell_type": "code",
   "execution_count": 4,
   "metadata": {},
   "outputs": [],
   "source": [
    "X_rev = rev_select_sample_df\n",
    "X_rat = rat_select_sample_df"
   ]
  },
  {
   "cell_type": "markdown",
   "metadata": {
    "id": "72YrFt7qIuW6"
   },
   "source": [
    "# Data Scaling"
   ]
  },
  {
   "cell_type": "code",
   "execution_count": 5,
   "metadata": {
    "id": "cngJrtibLqe_"
   },
   "outputs": [],
   "source": [
    "from sklearn.model_selection import train_test_split\n",
    "X_rev_train, X_rev_test, revenue_y_train, revenue_y_test = train_test_split(X_rev, revenue_y, test_size=0.2)\n",
    "X_rat_train, X_rat_test, rate_y_train, rate_y_test = train_test_split(X_rat, rate_y, test_size=0.2)"
   ]
  },
  {
   "cell_type": "code",
   "execution_count": 6,
   "metadata": {},
   "outputs": [],
   "source": [
    "duration_scaler=MinMaxScaler().fit(X_rev[[\"duration\"]])\n",
    "day_scaler=MinMaxScaler().fit(X_rev[[\"day\"]])"
   ]
  },
  {
   "cell_type": "code",
   "execution_count": 7,
   "metadata": {},
   "outputs": [],
   "source": [
    "X_rev_train_scaled=X_rev_train\n",
    "X_rev_test_scaled=X_rev_test\n",
    "\n",
    "X_rat_train_scaled=X_rat_train\n",
    "X_rat_test_scaled=X_rat_test"
   ]
  },
  {
   "cell_type": "code",
   "execution_count": 8,
   "metadata": {},
   "outputs": [
    {
     "name": "stderr",
     "output_type": "stream",
     "text": [
      "<ipython-input-8-7dd68096839a>:1: SettingWithCopyWarning: \n",
      "A value is trying to be set on a copy of a slice from a DataFrame.\n",
      "Try using .loc[row_indexer,col_indexer] = value instead\n",
      "\n",
      "See the caveats in the documentation: https://pandas.pydata.org/pandas-docs/stable/user_guide/indexing.html#returning-a-view-versus-a-copy\n",
      "  X_rev_train_scaled[\"duration\"]=duration_scaler.transform(X_rev_train_scaled[[\"duration\"]])\n",
      "<ipython-input-8-7dd68096839a>:2: SettingWithCopyWarning: \n",
      "A value is trying to be set on a copy of a slice from a DataFrame.\n",
      "Try using .loc[row_indexer,col_indexer] = value instead\n",
      "\n",
      "See the caveats in the documentation: https://pandas.pydata.org/pandas-docs/stable/user_guide/indexing.html#returning-a-view-versus-a-copy\n",
      "  X_rev_train_scaled[\"day\"]=day_scaler.transform(X_rev_train_scaled[[\"day\"]])\n",
      "<ipython-input-8-7dd68096839a>:3: SettingWithCopyWarning: \n",
      "A value is trying to be set on a copy of a slice from a DataFrame.\n",
      "Try using .loc[row_indexer,col_indexer] = value instead\n",
      "\n",
      "See the caveats in the documentation: https://pandas.pydata.org/pandas-docs/stable/user_guide/indexing.html#returning-a-view-versus-a-copy\n",
      "  X_rev_test_scaled[\"duration\"]=duration_scaler.transform(X_rev_test_scaled[[\"duration\"]])\n",
      "<ipython-input-8-7dd68096839a>:4: SettingWithCopyWarning: \n",
      "A value is trying to be set on a copy of a slice from a DataFrame.\n",
      "Try using .loc[row_indexer,col_indexer] = value instead\n",
      "\n",
      "See the caveats in the documentation: https://pandas.pydata.org/pandas-docs/stable/user_guide/indexing.html#returning-a-view-versus-a-copy\n",
      "  X_rev_test_scaled[\"day\"]=day_scaler.transform(X_rev_test_scaled[[\"day\"]])\n",
      "<ipython-input-8-7dd68096839a>:6: SettingWithCopyWarning: \n",
      "A value is trying to be set on a copy of a slice from a DataFrame.\n",
      "Try using .loc[row_indexer,col_indexer] = value instead\n",
      "\n",
      "See the caveats in the documentation: https://pandas.pydata.org/pandas-docs/stable/user_guide/indexing.html#returning-a-view-versus-a-copy\n",
      "  X_rat_train_scaled[\"duration\"]=duration_scaler.transform(X_rat_train_scaled[[\"duration\"]])\n",
      "<ipython-input-8-7dd68096839a>:7: SettingWithCopyWarning: \n",
      "A value is trying to be set on a copy of a slice from a DataFrame.\n",
      "Try using .loc[row_indexer,col_indexer] = value instead\n",
      "\n",
      "See the caveats in the documentation: https://pandas.pydata.org/pandas-docs/stable/user_guide/indexing.html#returning-a-view-versus-a-copy\n",
      "  X_rat_train_scaled[\"day\"]=day_scaler.transform(X_rat_train_scaled[[\"day\"]])\n",
      "<ipython-input-8-7dd68096839a>:8: SettingWithCopyWarning: \n",
      "A value is trying to be set on a copy of a slice from a DataFrame.\n",
      "Try using .loc[row_indexer,col_indexer] = value instead\n",
      "\n",
      "See the caveats in the documentation: https://pandas.pydata.org/pandas-docs/stable/user_guide/indexing.html#returning-a-view-versus-a-copy\n",
      "  X_rat_test_scaled[\"duration\"]=duration_scaler.transform(X_rat_test_scaled[[\"duration\"]])\n",
      "<ipython-input-8-7dd68096839a>:9: SettingWithCopyWarning: \n",
      "A value is trying to be set on a copy of a slice from a DataFrame.\n",
      "Try using .loc[row_indexer,col_indexer] = value instead\n",
      "\n",
      "See the caveats in the documentation: https://pandas.pydata.org/pandas-docs/stable/user_guide/indexing.html#returning-a-view-versus-a-copy\n",
      "  X_rat_test_scaled[\"day\"]=day_scaler.transform(X_rat_test_scaled[[\"day\"]])\n"
     ]
    }
   ],
   "source": [
    "X_rev_train_scaled[\"duration\"]=duration_scaler.transform(X_rev_train_scaled[[\"duration\"]])\n",
    "X_rev_train_scaled[\"day\"]=day_scaler.transform(X_rev_train_scaled[[\"day\"]])\n",
    "X_rev_test_scaled[\"duration\"]=duration_scaler.transform(X_rev_test_scaled[[\"duration\"]])\n",
    "X_rev_test_scaled[\"day\"]=day_scaler.transform(X_rev_test_scaled[[\"day\"]])\n",
    "\n",
    "X_rat_train_scaled[\"duration\"]=duration_scaler.transform(X_rat_train_scaled[[\"duration\"]])\n",
    "X_rat_train_scaled[\"day\"]=day_scaler.transform(X_rat_train_scaled[[\"day\"]])\n",
    "X_rat_test_scaled[\"duration\"]=duration_scaler.transform(X_rat_test_scaled[[\"duration\"]])\n",
    "X_rat_test_scaled[\"day\"]=day_scaler.transform(X_rat_test_scaled[[\"day\"]])"
   ]
  },
  {
   "cell_type": "markdown",
   "metadata": {},
   "source": [
    "# Revenue Predictor Training"
   ]
  },
  {
   "cell_type": "code",
   "execution_count": 9,
   "metadata": {},
   "outputs": [
    {
     "data": {
      "text/plain": [
       "XGBRegressor(base_score=0.5, booster='gbtree', colsample_bylevel=1,\n",
       "             colsample_bynode=1, colsample_bytree=1, gamma=0, gpu_id=-1,\n",
       "             importance_type='gain', interaction_constraints='',\n",
       "             learning_rate=0.300000012, max_delta_step=0, max_depth=6,\n",
       "             min_child_weight=1, missing=nan, monotone_constraints='()',\n",
       "             n_estimators=100, n_jobs=8, num_parallel_tree=1, random_state=0,\n",
       "             reg_alpha=0, reg_lambda=1, scale_pos_weight=1, subsample=1,\n",
       "             tree_method='exact', validate_parameters=1, verbosity=None)"
      ]
     },
     "execution_count": 9,
     "metadata": {},
     "output_type": "execute_result"
    }
   ],
   "source": [
    "regressor = XGBRegressor()\n",
    "regressor.fit(X_rev_train_scaled, revenue_y_train)"
   ]
  },
  {
   "cell_type": "code",
   "execution_count": 10,
   "metadata": {},
   "outputs": [
    {
     "name": "stdout",
     "output_type": "stream",
     "text": [
      "0.8030875858205271\n"
     ]
    }
   ],
   "source": [
    "revenue_y_pred = regressor.predict(X_rev_test_scaled)\n",
    "score = r2_score(revenue_y_test, revenue_y_pred)\n",
    "print(score)"
   ]
  },
  {
   "cell_type": "code",
   "execution_count": 11,
   "metadata": {},
   "outputs": [],
   "source": [
    "regressor = XGBRegressor()"
   ]
  },
  {
   "cell_type": "code",
   "execution_count": 15,
   "metadata": {},
   "outputs": [],
   "source": [
    "gridparas = {\n",
    "    'max_depth': [5, 7],\n",
    "    'learning_rate': [0.06,0.1,0.3],\n",
    "    'n_estimators': [100,200],\n",
    "    'min_child_weight': [1, 2, 3],\n",
    "    'subsample': [0.7,1.0],\n",
    "    'colsample_bytree': [0.9,1.0]\n",
    "}"
   ]
  },
  {
   "cell_type": "code",
   "execution_count": 16,
   "metadata": {},
   "outputs": [
    {
     "name": "stdout",
     "output_type": "stream",
     "text": [
      "Fitting 5 folds for each of 144 candidates, totalling 720 fits\n"
     ]
    },
    {
     "name": "stderr",
     "output_type": "stream",
     "text": [
      "[Parallel(n_jobs=-1)]: Using backend LokyBackend with 8 concurrent workers.\n",
      "[Parallel(n_jobs=-1)]: Done  16 tasks      | elapsed:   37.3s\n",
      "[Parallel(n_jobs=-1)]: Done 112 tasks      | elapsed:  4.6min\n",
      "[Parallel(n_jobs=-1)]: Done 272 tasks      | elapsed: 10.5min\n",
      "[Parallel(n_jobs=-1)]: Done 496 tasks      | elapsed: 19.3min\n",
      "[Parallel(n_jobs=-1)]: Done 720 out of 720 | elapsed: 28.3min finished\n"
     ]
    },
    {
     "data": {
      "text/plain": [
       "GridSearchCV(estimator=XGBRegressor(base_score=0.5, booster='gbtree',\n",
       "                                    colsample_bylevel=1, colsample_bynode=1,\n",
       "                                    colsample_bytree=1, gamma=0, gpu_id=-1,\n",
       "                                    importance_type='gain',\n",
       "                                    interaction_constraints='',\n",
       "                                    learning_rate=0.300000012, max_delta_step=0,\n",
       "                                    max_depth=6, min_child_weight=1,\n",
       "                                    missing=nan, monotone_constraints='()',\n",
       "                                    n_estimators=100, n_jobs=8,\n",
       "                                    num_parallel_tree=1, random_state=0,\n",
       "                                    reg_alpha=0, reg_lambda=1,\n",
       "                                    scale_pos_weight=1, subsample=1,\n",
       "                                    tree_method='exact', validate_parameters=1,\n",
       "                                    verbosity=None),\n",
       "             n_jobs=-1,\n",
       "             param_grid={'colsample_bytree': [0.9, 1.0],\n",
       "                         'learning_rate': [0.06, 0.1, 0.3], 'max_depth': [5, 7],\n",
       "                         'min_child_weight': [1, 2, 3],\n",
       "                         'n_estimators': [100, 200], 'subsample': [0.7, 1.0]},\n",
       "             verbose=3)"
      ]
     },
     "execution_count": 16,
     "metadata": {},
     "output_type": "execute_result"
    }
   ],
   "source": [
    "gsearch = GridSearchCV(regressor, param_grid=gridparas,verbose=3, n_jobs=-1)\n",
    "gsearch.fit(X_rev_train_scaled,revenue_y_train)"
   ]
  },
  {
   "cell_type": "code",
   "execution_count": 17,
   "metadata": {},
   "outputs": [
    {
     "name": "stdout",
     "output_type": "stream",
     "text": [
      "{'colsample_bytree': 1.0, 'learning_rate': 0.3, 'max_depth': 5, 'min_child_weight': 3, 'n_estimators': 200, 'subsample': 1.0}\n",
      "0.781930910327875\n"
     ]
    }
   ],
   "source": [
    "print(gsearch.best_params_)\n",
    "print(gsearch.best_score_)"
   ]
  },
  {
   "cell_type": "code",
   "execution_count": 18,
   "metadata": {},
   "outputs": [
    {
     "data": {
      "text/plain": [
       "XGBRegressor(base_score=0.5, booster='gbtree', colsample_bylevel=1,\n",
       "             colsample_bynode=1, colsample_bytree=1.0, gamma=0, gpu_id=-1,\n",
       "             importance_type='gain', interaction_constraints='',\n",
       "             learning_rate=0.3, max_delta_step=0, max_depth=5,\n",
       "             min_child_weight=3, missing=nan, monotone_constraints='()',\n",
       "             n_estimators=200, n_jobs=8, num_parallel_tree=1, random_state=0,\n",
       "             reg_alpha=0, reg_lambda=1, scale_pos_weight=1, subsample=1.0,\n",
       "             tree_method='exact', validate_parameters=1, verbosity=None)"
      ]
     },
     "execution_count": 18,
     "metadata": {},
     "output_type": "execute_result"
    }
   ],
   "source": [
    "regressor = XGBRegressor(max_depth= 5, min_child_weight= 3, learning_rate=0.3,\n",
    "                         n_estimators=200, colsample_bytree= 1.0, subsample = 1.0)\n",
    "regressor.fit(X_rev_train_scaled, revenue_y_train)"
   ]
  },
  {
   "cell_type": "code",
   "execution_count": 19,
   "metadata": {},
   "outputs": [
    {
     "name": "stdout",
     "output_type": "stream",
     "text": [
      "0.7920106808090885\n"
     ]
    }
   ],
   "source": [
    "revenue_y_pred = regressor.predict(X_rev_test_scaled)\n",
    "score = r2_score(revenue_y_test, revenue_y_pred)\n",
    "print(score)"
   ]
  },
  {
   "cell_type": "code",
   "execution_count": 20,
   "metadata": {},
   "outputs": [
    {
     "data": {
      "text/plain": [
       "['revenue_xgboost_model.sav']"
      ]
     },
     "execution_count": 20,
     "metadata": {},
     "output_type": "execute_result"
    }
   ],
   "source": [
    "import joblib\n",
    "filename = 'revenue_xgboost_model.sav'\n",
    "joblib.dump(regressor, filename)"
   ]
  },
  {
   "cell_type": "markdown",
   "metadata": {},
   "source": [
    "# Rating Predictor Training"
   ]
  },
  {
   "cell_type": "code",
   "execution_count": 21,
   "metadata": {},
   "outputs": [
    {
     "data": {
      "text/plain": [
       "XGBRegressor(base_score=0.5, booster='gbtree', colsample_bylevel=1,\n",
       "             colsample_bynode=1, colsample_bytree=1, gamma=0, gpu_id=-1,\n",
       "             importance_type='gain', interaction_constraints='',\n",
       "             learning_rate=0.300000012, max_delta_step=0, max_depth=6,\n",
       "             min_child_weight=1, missing=nan, monotone_constraints='()',\n",
       "             n_estimators=100, n_jobs=8, num_parallel_tree=1, random_state=0,\n",
       "             reg_alpha=0, reg_lambda=1, scale_pos_weight=1, subsample=1,\n",
       "             tree_method='exact', validate_parameters=1, verbosity=None)"
      ]
     },
     "execution_count": 21,
     "metadata": {},
     "output_type": "execute_result"
    }
   ],
   "source": [
    "rate_regressor = XGBRegressor()\n",
    "rate_regressor.fit(X_rat_train_scaled, rate_y_train)"
   ]
  },
  {
   "cell_type": "code",
   "execution_count": 22,
   "metadata": {},
   "outputs": [
    {
     "name": "stdout",
     "output_type": "stream",
     "text": [
      "0.5833734513465703\n"
     ]
    }
   ],
   "source": [
    "rate_y_pred = rate_regressor.predict(X_rat_test_scaled)\n",
    "score = r2_score(rate_y_test, rate_y_pred)\n",
    "print(score)"
   ]
  },
  {
   "cell_type": "code",
   "execution_count": 23,
   "metadata": {},
   "outputs": [],
   "source": [
    "rate_regressor = XGBRegressor(max_depth= 6, min_child_weight= 2, learning_rate=0.3,\n",
    "                         n_estimators=200, colsample_bytree= 1.0, subsample = 1.0)"
   ]
  },
  {
   "cell_type": "code",
   "execution_count": 24,
   "metadata": {},
   "outputs": [],
   "source": [
    "gridparas = {\n",
    "    'max_depth': [5, 7],\n",
    "    'learning_rate': [0.06,0.1,0.3],\n",
    "    'n_estimators': [100,200],\n",
    "    'min_child_weight': [2, 3],\n",
    "    'subsample': [0.5, 0.7,1.0],\n",
    "    'colsample_bytree': [0.9,1.0]\n",
    "}"
   ]
  },
  {
   "cell_type": "code",
   "execution_count": 25,
   "metadata": {},
   "outputs": [
    {
     "name": "stdout",
     "output_type": "stream",
     "text": [
      "Fitting 5 folds for each of 144 candidates, totalling 720 fits\n"
     ]
    },
    {
     "name": "stderr",
     "output_type": "stream",
     "text": [
      "[Parallel(n_jobs=-1)]: Using backend LokyBackend with 8 concurrent workers.\n",
      "[Parallel(n_jobs=-1)]: Done  16 tasks      | elapsed:   35.7s\n",
      "[Parallel(n_jobs=-1)]: Done 112 tasks      | elapsed:  4.8min\n",
      "[Parallel(n_jobs=-1)]: Done 272 tasks      | elapsed: 11.5min\n",
      "[Parallel(n_jobs=-1)]: Done 496 tasks      | elapsed: 21.7min\n",
      "[Parallel(n_jobs=-1)]: Done 720 out of 720 | elapsed: 32.0min finished\n"
     ]
    },
    {
     "data": {
      "text/plain": [
       "GridSearchCV(estimator=XGBRegressor(base_score=None, booster=None,\n",
       "                                    colsample_bylevel=None,\n",
       "                                    colsample_bynode=None, colsample_bytree=1.0,\n",
       "                                    gamma=None, gpu_id=None,\n",
       "                                    importance_type='gain',\n",
       "                                    interaction_constraints=None,\n",
       "                                    learning_rate=0.3, max_delta_step=None,\n",
       "                                    max_depth=6, min_child_weight=2,\n",
       "                                    missing=nan, monotone_constraints=None,\n",
       "                                    n_estimators=200, n_jobs=None,\n",
       "                                    num_parallel_tree=None, random_state=None,\n",
       "                                    reg_alpha=None, reg_lambda=None,\n",
       "                                    scale_pos_weight=None, subsample=1.0,\n",
       "                                    tree_method=None, validate_parameters=None,\n",
       "                                    verbosity=None),\n",
       "             n_jobs=-1,\n",
       "             param_grid={'colsample_bytree': [0.9, 1.0],\n",
       "                         'learning_rate': [0.06, 0.1, 0.3], 'max_depth': [5, 7],\n",
       "                         'min_child_weight': [2, 3], 'n_estimators': [100, 200],\n",
       "                         'subsample': [0.5, 0.7, 1.0]},\n",
       "             verbose=3)"
      ]
     },
     "execution_count": 25,
     "metadata": {},
     "output_type": "execute_result"
    }
   ],
   "source": [
    "gsearch = GridSearchCV(rate_regressor, param_grid=gridparas,verbose=3, n_jobs=-1)\n",
    "gsearch.fit(X_rat_train_scaled,rate_y_train)"
   ]
  },
  {
   "cell_type": "code",
   "execution_count": 26,
   "metadata": {},
   "outputs": [
    {
     "name": "stdout",
     "output_type": "stream",
     "text": [
      "{'colsample_bytree': 0.9, 'learning_rate': 0.1, 'max_depth': 7, 'min_child_weight': 2, 'n_estimators': 200, 'subsample': 1.0}\n",
      "0.6093377578749076\n"
     ]
    }
   ],
   "source": [
    "print(gsearch.best_params_)\n",
    "print(gsearch.best_score_)"
   ]
  },
  {
   "cell_type": "code",
   "execution_count": 28,
   "metadata": {},
   "outputs": [
    {
     "data": {
      "text/plain": [
       "XGBRegressor(base_score=0.5, booster='gbtree', colsample_bylevel=1,\n",
       "             colsample_bynode=1, colsample_bytree=0.9, gamma=0, gpu_id=-1,\n",
       "             importance_type='gain', interaction_constraints='',\n",
       "             learning_rate=0.1, max_delta_step=0, max_depth=7,\n",
       "             min_child_weight=2, missing=nan, monotone_constraints='()',\n",
       "             n_estimators=200, n_jobs=8, num_parallel_tree=1, random_state=0,\n",
       "             reg_alpha=0, reg_lambda=1, scale_pos_weight=1, subsample=1.0,\n",
       "             tree_method='exact', validate_parameters=1, verbosity=None)"
      ]
     },
     "execution_count": 28,
     "metadata": {},
     "output_type": "execute_result"
    }
   ],
   "source": [
    "rate_regressor = XGBRegressor(max_depth= 7, min_child_weight= 2, learning_rate=0.1,\n",
    "                         n_estimators=200, colsample_bytree= 0.9, subsample = 1.0)\n",
    "rate_regressor.fit(X_rat_train_scaled, rate_y_train)"
   ]
  },
  {
   "cell_type": "code",
   "execution_count": 29,
   "metadata": {},
   "outputs": [
    {
     "name": "stdout",
     "output_type": "stream",
     "text": [
      "0.6112028378040094\n"
     ]
    }
   ],
   "source": [
    "rate_y_pred = rate_regressor.predict(X_rat_test_scaled)\n",
    "score = r2_score(rate_y_test, rate_y_pred)\n",
    "print(score)"
   ]
  },
  {
   "cell_type": "code",
   "execution_count": 30,
   "metadata": {},
   "outputs": [
    {
     "data": {
      "text/plain": [
       "['rating_xgboost_model.sav']"
      ]
     },
     "execution_count": 30,
     "metadata": {},
     "output_type": "execute_result"
    }
   ],
   "source": [
    "import joblib\n",
    "filename = 'rating_xgboost_model.sav'\n",
    "joblib.dump(rate_regressor, filename)"
   ]
  },
  {
   "cell_type": "code",
   "execution_count": null,
   "metadata": {},
   "outputs": [],
   "source": []
  }
 ],
 "metadata": {
  "colab": {
   "collapsed_sections": [],
   "name": "01-Data-Processing-CPU",
   "provenance": []
  },
  "kernelspec": {
   "display_name": "Python 3",
   "language": "python",
   "name": "python3"
  },
  "language_info": {
   "codemirror_mode": {
    "name": "ipython",
    "version": 3
   },
   "file_extension": ".py",
   "mimetype": "text/x-python",
   "name": "python",
   "nbconvert_exporter": "python",
   "pygments_lexer": "ipython3",
   "version": "3.8.5"
  }
 },
 "nbformat": 4,
 "nbformat_minor": 1
}
