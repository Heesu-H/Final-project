{
 "cells": [
  {
   "cell_type": "markdown",
   "metadata": {
    "id": "ojyeVJUwzTsd"
   },
   "source": [
    "# **Environment Setup**"
   ]
  },
  {
   "cell_type": "code",
   "execution_count": 1,
   "metadata": {
    "colab": {
     "base_uri": "https://localhost:8080/"
    },
    "id": "WpsT7vX5zfWZ",
    "outputId": "716f2636-3b15-4924-f84c-e65f0b7309bd"
   },
   "outputs": [
    {
     "name": "stdout",
     "output_type": "stream",
     "text": [
      "Requirement already satisfied: wordcloud in c:\\users\\qizheng\\anaconda3\\envs\\pythondata\\lib\\site-packages (1.8.1)\n",
      "Requirement already satisfied: pillow in c:\\users\\qizheng\\anaconda3\\envs\\pythondata\\lib\\site-packages (from wordcloud) (8.0.1)\n",
      "Requirement already satisfied: numpy>=1.6.1 in c:\\users\\qizheng\\anaconda3\\envs\\pythondata\\lib\\site-packages (from wordcloud) (1.19.2)\n",
      "Requirement already satisfied: matplotlib in c:\\users\\qizheng\\anaconda3\\envs\\pythondata\\lib\\site-packages (from wordcloud) (3.3.2)\n",
      "Requirement already satisfied: cycler>=0.10 in c:\\users\\qizheng\\anaconda3\\envs\\pythondata\\lib\\site-packages (from matplotlib->wordcloud) (0.10.0)\n",
      "Requirement already satisfied: kiwisolver>=1.0.1 in c:\\users\\qizheng\\anaconda3\\envs\\pythondata\\lib\\site-packages (from matplotlib->wordcloud) (1.3.0)\n",
      "Requirement already satisfied: python-dateutil>=2.1 in c:\\users\\qizheng\\anaconda3\\envs\\pythondata\\lib\\site-packages (from matplotlib->wordcloud) (2.8.1)\n",
      "Requirement already satisfied: certifi>=2020.06.20 in c:\\users\\qizheng\\anaconda3\\envs\\pythondata\\lib\\site-packages (from matplotlib->wordcloud) (2020.6.20)\n",
      "Requirement already satisfied: pyparsing!=2.0.4,!=2.1.2,!=2.1.6,>=2.0.3 in c:\\users\\qizheng\\anaconda3\\envs\\pythondata\\lib\\site-packages (from matplotlib->wordcloud) (2.4.7)\n",
      "Requirement already satisfied: six in c:\\users\\qizheng\\anaconda3\\envs\\pythondata\\lib\\site-packages (from cycler>=0.10->matplotlib->wordcloud) (1.15.0)\n"
     ]
    }
   ],
   "source": [
    "!pip install wordcloud"
   ]
  },
  {
   "cell_type": "code",
   "execution_count": 2,
   "metadata": {},
   "outputs": [],
   "source": [
    "import xgboost as xgb\n",
    "import numpy as np\n",
    "from sklearn.metrics import accuracy_score\n",
    "import pandas as pd\n",
    "from datetime import datetime\n",
    "from collections import Counter"
   ]
  },
  {
   "cell_type": "code",
   "execution_count": 3,
   "metadata": {},
   "outputs": [],
   "source": [
    "import matplotlib.pyplot as plt\n",
    "from wordcloud import WordCloud"
   ]
  },
  {
   "cell_type": "markdown",
   "metadata": {
    "id": "oIehffhMzSVL"
   },
   "source": [
    "# Data Pre-processing"
   ]
  },
  {
   "cell_type": "code",
   "execution_count": 4,
   "metadata": {
    "colab": {
     "base_uri": "https://localhost:8080/",
     "height": 700
    },
    "id": "_K6t2mq12SQw",
    "outputId": "d7b5bc31-f359-4feb-c31f-b678d47b7930"
   },
   "outputs": [
    {
     "name": "stderr",
     "output_type": "stream",
     "text": [
      "C:\\Users\\QiZheng\\anaconda3\\envs\\PythonData\\lib\\site-packages\\IPython\\core\\interactiveshell.py:3146: DtypeWarning: Columns (3) have mixed types.Specify dtype option on import or set low_memory=False.\n",
      "  has_raised = await self.run_ast_nodes(code_ast.body, cell_name,\n"
     ]
    },
    {
     "data": {
      "text/html": [
       "<div>\n",
       "<style scoped>\n",
       "    .dataframe tbody tr th:only-of-type {\n",
       "        vertical-align: middle;\n",
       "    }\n",
       "\n",
       "    .dataframe tbody tr th {\n",
       "        vertical-align: top;\n",
       "    }\n",
       "\n",
       "    .dataframe thead th {\n",
       "        text-align: right;\n",
       "    }\n",
       "</style>\n",
       "<table border=\"1\" class=\"dataframe\">\n",
       "  <thead>\n",
       "    <tr style=\"text-align: right;\">\n",
       "      <th></th>\n",
       "      <th>imdb_title_id</th>\n",
       "      <th>title</th>\n",
       "      <th>original_title</th>\n",
       "      <th>year</th>\n",
       "      <th>date_published</th>\n",
       "      <th>genre</th>\n",
       "      <th>duration</th>\n",
       "      <th>country</th>\n",
       "      <th>language</th>\n",
       "      <th>director</th>\n",
       "      <th>...</th>\n",
       "      <th>actors</th>\n",
       "      <th>description</th>\n",
       "      <th>avg_vote</th>\n",
       "      <th>votes</th>\n",
       "      <th>budget</th>\n",
       "      <th>usa_gross_income</th>\n",
       "      <th>worlwide_gross_income</th>\n",
       "      <th>metascore</th>\n",
       "      <th>reviews_from_users</th>\n",
       "      <th>reviews_from_critics</th>\n",
       "    </tr>\n",
       "  </thead>\n",
       "  <tbody>\n",
       "    <tr>\n",
       "      <th>0</th>\n",
       "      <td>tt0000009</td>\n",
       "      <td>Miss Jerry</td>\n",
       "      <td>Miss Jerry</td>\n",
       "      <td>1894</td>\n",
       "      <td>1894-10-09</td>\n",
       "      <td>Romance</td>\n",
       "      <td>45</td>\n",
       "      <td>USA</td>\n",
       "      <td>None</td>\n",
       "      <td>Alexander Black</td>\n",
       "      <td>...</td>\n",
       "      <td>Blanche Bayliss, William Courtenay, Chauncey D...</td>\n",
       "      <td>The adventures of a female reporter in the 1890s.</td>\n",
       "      <td>5.9</td>\n",
       "      <td>154</td>\n",
       "      <td>NaN</td>\n",
       "      <td>NaN</td>\n",
       "      <td>NaN</td>\n",
       "      <td>NaN</td>\n",
       "      <td>1.0</td>\n",
       "      <td>2.0</td>\n",
       "    </tr>\n",
       "    <tr>\n",
       "      <th>1</th>\n",
       "      <td>tt0000574</td>\n",
       "      <td>The Story of the Kelly Gang</td>\n",
       "      <td>The Story of the Kelly Gang</td>\n",
       "      <td>1906</td>\n",
       "      <td>1906-12-26</td>\n",
       "      <td>Biography, Crime, Drama</td>\n",
       "      <td>70</td>\n",
       "      <td>Australia</td>\n",
       "      <td>None</td>\n",
       "      <td>Charles Tait</td>\n",
       "      <td>...</td>\n",
       "      <td>Elizabeth Tait, John Tait, Norman Campbell, Be...</td>\n",
       "      <td>True story of notorious Australian outlaw Ned ...</td>\n",
       "      <td>6.1</td>\n",
       "      <td>589</td>\n",
       "      <td>$ 2250</td>\n",
       "      <td>NaN</td>\n",
       "      <td>NaN</td>\n",
       "      <td>NaN</td>\n",
       "      <td>7.0</td>\n",
       "      <td>7.0</td>\n",
       "    </tr>\n",
       "    <tr>\n",
       "      <th>2</th>\n",
       "      <td>tt0001892</td>\n",
       "      <td>Den sorte drøm</td>\n",
       "      <td>Den sorte drøm</td>\n",
       "      <td>1911</td>\n",
       "      <td>1911-08-19</td>\n",
       "      <td>Drama</td>\n",
       "      <td>53</td>\n",
       "      <td>Germany, Denmark</td>\n",
       "      <td>NaN</td>\n",
       "      <td>Urban Gad</td>\n",
       "      <td>...</td>\n",
       "      <td>Asta Nielsen, Valdemar Psilander, Gunnar Helse...</td>\n",
       "      <td>Two men of high rank are both wooing the beaut...</td>\n",
       "      <td>5.8</td>\n",
       "      <td>188</td>\n",
       "      <td>NaN</td>\n",
       "      <td>NaN</td>\n",
       "      <td>NaN</td>\n",
       "      <td>NaN</td>\n",
       "      <td>5.0</td>\n",
       "      <td>2.0</td>\n",
       "    </tr>\n",
       "    <tr>\n",
       "      <th>3</th>\n",
       "      <td>tt0002101</td>\n",
       "      <td>Cleopatra</td>\n",
       "      <td>Cleopatra</td>\n",
       "      <td>1912</td>\n",
       "      <td>1912-11-13</td>\n",
       "      <td>Drama, History</td>\n",
       "      <td>100</td>\n",
       "      <td>USA</td>\n",
       "      <td>English</td>\n",
       "      <td>Charles L. Gaskill</td>\n",
       "      <td>...</td>\n",
       "      <td>Helen Gardner, Pearl Sindelar, Miss Fielding, ...</td>\n",
       "      <td>The fabled queen of Egypt's affair with Roman ...</td>\n",
       "      <td>5.2</td>\n",
       "      <td>446</td>\n",
       "      <td>$ 45000</td>\n",
       "      <td>NaN</td>\n",
       "      <td>NaN</td>\n",
       "      <td>NaN</td>\n",
       "      <td>25.0</td>\n",
       "      <td>3.0</td>\n",
       "    </tr>\n",
       "    <tr>\n",
       "      <th>4</th>\n",
       "      <td>tt0002130</td>\n",
       "      <td>L'Inferno</td>\n",
       "      <td>L'Inferno</td>\n",
       "      <td>1911</td>\n",
       "      <td>1911-03-06</td>\n",
       "      <td>Adventure, Drama, Fantasy</td>\n",
       "      <td>68</td>\n",
       "      <td>Italy</td>\n",
       "      <td>Italian</td>\n",
       "      <td>Francesco Bertolini, Adolfo Padovan</td>\n",
       "      <td>...</td>\n",
       "      <td>Salvatore Papa, Arturo Pirovano, Giuseppe de L...</td>\n",
       "      <td>Loosely adapted from Dante's Divine Comedy and...</td>\n",
       "      <td>7.0</td>\n",
       "      <td>2237</td>\n",
       "      <td>NaN</td>\n",
       "      <td>NaN</td>\n",
       "      <td>NaN</td>\n",
       "      <td>NaN</td>\n",
       "      <td>31.0</td>\n",
       "      <td>14.0</td>\n",
       "    </tr>\n",
       "  </tbody>\n",
       "</table>\n",
       "<p>5 rows × 22 columns</p>\n",
       "</div>"
      ],
      "text/plain": [
       "  imdb_title_id                        title               original_title  \\\n",
       "0     tt0000009                   Miss Jerry                   Miss Jerry   \n",
       "1     tt0000574  The Story of the Kelly Gang  The Story of the Kelly Gang   \n",
       "2     tt0001892               Den sorte drøm               Den sorte drøm   \n",
       "3     tt0002101                    Cleopatra                    Cleopatra   \n",
       "4     tt0002130                    L'Inferno                    L'Inferno   \n",
       "\n",
       "   year date_published                      genre  duration           country  \\\n",
       "0  1894     1894-10-09                    Romance        45               USA   \n",
       "1  1906     1906-12-26    Biography, Crime, Drama        70         Australia   \n",
       "2  1911     1911-08-19                      Drama        53  Germany, Denmark   \n",
       "3  1912     1912-11-13             Drama, History       100               USA   \n",
       "4  1911     1911-03-06  Adventure, Drama, Fantasy        68             Italy   \n",
       "\n",
       "  language                             director  ...  \\\n",
       "0     None                      Alexander Black  ...   \n",
       "1     None                         Charles Tait  ...   \n",
       "2      NaN                            Urban Gad  ...   \n",
       "3  English                   Charles L. Gaskill  ...   \n",
       "4  Italian  Francesco Bertolini, Adolfo Padovan  ...   \n",
       "\n",
       "                                              actors  \\\n",
       "0  Blanche Bayliss, William Courtenay, Chauncey D...   \n",
       "1  Elizabeth Tait, John Tait, Norman Campbell, Be...   \n",
       "2  Asta Nielsen, Valdemar Psilander, Gunnar Helse...   \n",
       "3  Helen Gardner, Pearl Sindelar, Miss Fielding, ...   \n",
       "4  Salvatore Papa, Arturo Pirovano, Giuseppe de L...   \n",
       "\n",
       "                                         description avg_vote votes   budget  \\\n",
       "0  The adventures of a female reporter in the 1890s.      5.9   154      NaN   \n",
       "1  True story of notorious Australian outlaw Ned ...      6.1   589   $ 2250   \n",
       "2  Two men of high rank are both wooing the beaut...      5.8   188      NaN   \n",
       "3  The fabled queen of Egypt's affair with Roman ...      5.2   446  $ 45000   \n",
       "4  Loosely adapted from Dante's Divine Comedy and...      7.0  2237      NaN   \n",
       "\n",
       "   usa_gross_income worlwide_gross_income metascore reviews_from_users  \\\n",
       "0               NaN                   NaN       NaN                1.0   \n",
       "1               NaN                   NaN       NaN                7.0   \n",
       "2               NaN                   NaN       NaN                5.0   \n",
       "3               NaN                   NaN       NaN               25.0   \n",
       "4               NaN                   NaN       NaN               31.0   \n",
       "\n",
       "   reviews_from_critics  \n",
       "0                   2.0  \n",
       "1                   7.0  \n",
       "2                   2.0  \n",
       "3                   3.0  \n",
       "4                  14.0  \n",
       "\n",
       "[5 rows x 22 columns]"
      ]
     },
     "execution_count": 4,
     "metadata": {},
     "output_type": "execute_result"
    }
   ],
   "source": [
    "movie_df = pd.read_csv('../data/IMDb movies.csv') \n",
    "#movie_df_cudf_pd=movie_df_cudf.to_pandas()\n",
    "movie_df.head()"
   ]
  },
  {
   "cell_type": "code",
   "execution_count": 5,
   "metadata": {
    "colab": {
     "base_uri": "https://localhost:8080/"
    },
    "id": "KVXejAvU2k5d",
    "outputId": "27e5c439-4577-4ae3-f8c2-3131e8b7c52f"
   },
   "outputs": [
    {
     "data": {
      "text/plain": [
       "imdb_title_id             object\n",
       "title                     object\n",
       "original_title            object\n",
       "year                      object\n",
       "date_published            object\n",
       "genre                     object\n",
       "duration                   int64\n",
       "country                   object\n",
       "language                  object\n",
       "director                  object\n",
       "writer                    object\n",
       "production_company        object\n",
       "actors                    object\n",
       "description               object\n",
       "avg_vote                 float64\n",
       "votes                      int64\n",
       "budget                    object\n",
       "usa_gross_income          object\n",
       "worlwide_gross_income     object\n",
       "metascore                float64\n",
       "reviews_from_users       float64\n",
       "reviews_from_critics     float64\n",
       "dtype: object"
      ]
     },
     "execution_count": 5,
     "metadata": {},
     "output_type": "execute_result"
    }
   ],
   "source": [
    "movie_df.dtypes"
   ]
  },
  {
   "cell_type": "code",
   "execution_count": 6,
   "metadata": {
    "colab": {
     "base_uri": "https://localhost:8080/",
     "height": 589
    },
    "id": "IeZNwtEx3S9N",
    "outputId": "80d26e1a-7dec-4dd1-cb45-6fed3c2c354e"
   },
   "outputs": [
    {
     "data": {
      "text/html": [
       "<div>\n",
       "<style scoped>\n",
       "    .dataframe tbody tr th:only-of-type {\n",
       "        vertical-align: middle;\n",
       "    }\n",
       "\n",
       "    .dataframe tbody tr th {\n",
       "        vertical-align: top;\n",
       "    }\n",
       "\n",
       "    .dataframe thead th {\n",
       "        text-align: right;\n",
       "    }\n",
       "</style>\n",
       "<table border=\"1\" class=\"dataframe\">\n",
       "  <thead>\n",
       "    <tr style=\"text-align: right;\">\n",
       "      <th></th>\n",
       "      <th>original_title</th>\n",
       "      <th>year</th>\n",
       "      <th>date_published</th>\n",
       "      <th>language</th>\n",
       "      <th>genre</th>\n",
       "      <th>duration</th>\n",
       "      <th>country</th>\n",
       "      <th>director</th>\n",
       "      <th>writer</th>\n",
       "      <th>production_company</th>\n",
       "      <th>actors</th>\n",
       "      <th>avg_vote</th>\n",
       "      <th>votes</th>\n",
       "      <th>budget</th>\n",
       "      <th>worlwide_gross_income</th>\n",
       "    </tr>\n",
       "  </thead>\n",
       "  <tbody>\n",
       "    <tr>\n",
       "      <th>0</th>\n",
       "      <td>Miss Jerry</td>\n",
       "      <td>1894</td>\n",
       "      <td>1894-10-09</td>\n",
       "      <td>None</td>\n",
       "      <td>Romance</td>\n",
       "      <td>45</td>\n",
       "      <td>USA</td>\n",
       "      <td>Alexander Black</td>\n",
       "      <td>Alexander Black</td>\n",
       "      <td>Alexander Black Photoplays</td>\n",
       "      <td>Blanche Bayliss, William Courtenay, Chauncey D...</td>\n",
       "      <td>5.9</td>\n",
       "      <td>154</td>\n",
       "      <td>NaN</td>\n",
       "      <td>NaN</td>\n",
       "    </tr>\n",
       "    <tr>\n",
       "      <th>1</th>\n",
       "      <td>The Story of the Kelly Gang</td>\n",
       "      <td>1906</td>\n",
       "      <td>1906-12-26</td>\n",
       "      <td>None</td>\n",
       "      <td>Biography, Crime, Drama</td>\n",
       "      <td>70</td>\n",
       "      <td>Australia</td>\n",
       "      <td>Charles Tait</td>\n",
       "      <td>Charles Tait</td>\n",
       "      <td>J. and N. Tait</td>\n",
       "      <td>Elizabeth Tait, John Tait, Norman Campbell, Be...</td>\n",
       "      <td>6.1</td>\n",
       "      <td>589</td>\n",
       "      <td>$ 2250</td>\n",
       "      <td>NaN</td>\n",
       "    </tr>\n",
       "    <tr>\n",
       "      <th>2</th>\n",
       "      <td>Den sorte drøm</td>\n",
       "      <td>1911</td>\n",
       "      <td>1911-08-19</td>\n",
       "      <td>NaN</td>\n",
       "      <td>Drama</td>\n",
       "      <td>53</td>\n",
       "      <td>Germany, Denmark</td>\n",
       "      <td>Urban Gad</td>\n",
       "      <td>Urban Gad, Gebhard Schätzler-Perasini</td>\n",
       "      <td>Fotorama</td>\n",
       "      <td>Asta Nielsen, Valdemar Psilander, Gunnar Helse...</td>\n",
       "      <td>5.8</td>\n",
       "      <td>188</td>\n",
       "      <td>NaN</td>\n",
       "      <td>NaN</td>\n",
       "    </tr>\n",
       "    <tr>\n",
       "      <th>3</th>\n",
       "      <td>Cleopatra</td>\n",
       "      <td>1912</td>\n",
       "      <td>1912-11-13</td>\n",
       "      <td>English</td>\n",
       "      <td>Drama, History</td>\n",
       "      <td>100</td>\n",
       "      <td>USA</td>\n",
       "      <td>Charles L. Gaskill</td>\n",
       "      <td>Victorien Sardou</td>\n",
       "      <td>Helen Gardner Picture Players</td>\n",
       "      <td>Helen Gardner, Pearl Sindelar, Miss Fielding, ...</td>\n",
       "      <td>5.2</td>\n",
       "      <td>446</td>\n",
       "      <td>$ 45000</td>\n",
       "      <td>NaN</td>\n",
       "    </tr>\n",
       "    <tr>\n",
       "      <th>4</th>\n",
       "      <td>L'Inferno</td>\n",
       "      <td>1911</td>\n",
       "      <td>1911-03-06</td>\n",
       "      <td>Italian</td>\n",
       "      <td>Adventure, Drama, Fantasy</td>\n",
       "      <td>68</td>\n",
       "      <td>Italy</td>\n",
       "      <td>Francesco Bertolini, Adolfo Padovan</td>\n",
       "      <td>Dante Alighieri</td>\n",
       "      <td>Milano Film</td>\n",
       "      <td>Salvatore Papa, Arturo Pirovano, Giuseppe de L...</td>\n",
       "      <td>7.0</td>\n",
       "      <td>2237</td>\n",
       "      <td>NaN</td>\n",
       "      <td>NaN</td>\n",
       "    </tr>\n",
       "    <tr>\n",
       "      <th>...</th>\n",
       "      <td>...</td>\n",
       "      <td>...</td>\n",
       "      <td>...</td>\n",
       "      <td>...</td>\n",
       "      <td>...</td>\n",
       "      <td>...</td>\n",
       "      <td>...</td>\n",
       "      <td>...</td>\n",
       "      <td>...</td>\n",
       "      <td>...</td>\n",
       "      <td>...</td>\n",
       "      <td>...</td>\n",
       "      <td>...</td>\n",
       "      <td>...</td>\n",
       "      <td>...</td>\n",
       "    </tr>\n",
       "    <tr>\n",
       "      <th>85850</th>\n",
       "      <td>Le lion</td>\n",
       "      <td>2020</td>\n",
       "      <td>2020-01-29</td>\n",
       "      <td>French</td>\n",
       "      <td>Comedy</td>\n",
       "      <td>95</td>\n",
       "      <td>France, Belgium</td>\n",
       "      <td>Ludovic Colbeau-Justin</td>\n",
       "      <td>Alexandre Coquelle, Matthieu Le Naour</td>\n",
       "      <td>Monkey Pack Films</td>\n",
       "      <td>Dany Boon, Philippe Katerine, Anne Serra, Samu...</td>\n",
       "      <td>5.3</td>\n",
       "      <td>398</td>\n",
       "      <td>NaN</td>\n",
       "      <td>$ 3507171</td>\n",
       "    </tr>\n",
       "    <tr>\n",
       "      <th>85851</th>\n",
       "      <td>De Beentjes van Sint-Hildegard</td>\n",
       "      <td>2020</td>\n",
       "      <td>2020-02-13</td>\n",
       "      <td>German, Dutch</td>\n",
       "      <td>Comedy, Drama</td>\n",
       "      <td>103</td>\n",
       "      <td>Netherlands</td>\n",
       "      <td>Johan Nijenhuis</td>\n",
       "      <td>Radek Bajgar, Herman Finkers</td>\n",
       "      <td>Johan Nijenhuis &amp; Co</td>\n",
       "      <td>Herman Finkers, Johanna ter Steege, Leonie ter...</td>\n",
       "      <td>7.7</td>\n",
       "      <td>724</td>\n",
       "      <td>NaN</td>\n",
       "      <td>$ 7299062</td>\n",
       "    </tr>\n",
       "    <tr>\n",
       "      <th>85852</th>\n",
       "      <td>Padmavyuhathile Abhimanyu</td>\n",
       "      <td>2019</td>\n",
       "      <td>2019-03-08</td>\n",
       "      <td>Malayalam</td>\n",
       "      <td>Drama</td>\n",
       "      <td>130</td>\n",
       "      <td>India</td>\n",
       "      <td>Vineesh Aaradya</td>\n",
       "      <td>Vineesh Aaradya, Vineesh Aaradya</td>\n",
       "      <td>RMCC Productions</td>\n",
       "      <td>Anoop Chandran, Indrans, Sona Nair, Simon Brit...</td>\n",
       "      <td>7.9</td>\n",
       "      <td>265</td>\n",
       "      <td>NaN</td>\n",
       "      <td>NaN</td>\n",
       "    </tr>\n",
       "    <tr>\n",
       "      <th>85853</th>\n",
       "      <td>Sokagin Çocuklari</td>\n",
       "      <td>2019</td>\n",
       "      <td>2019-03-15</td>\n",
       "      <td>Turkish</td>\n",
       "      <td>Drama, Family</td>\n",
       "      <td>98</td>\n",
       "      <td>Turkey</td>\n",
       "      <td>Ahmet Faik Akinci</td>\n",
       "      <td>Ahmet Faik Akinci, Kasim Uçkan</td>\n",
       "      <td>Gizem Ajans</td>\n",
       "      <td>Ahmet Faik Akinci, Belma Mamati, Metin Keçeci,...</td>\n",
       "      <td>6.4</td>\n",
       "      <td>194</td>\n",
       "      <td>NaN</td>\n",
       "      <td>$ 2833</td>\n",
       "    </tr>\n",
       "    <tr>\n",
       "      <th>85854</th>\n",
       "      <td>La vida sense la Sara Amat</td>\n",
       "      <td>2019</td>\n",
       "      <td>2020-02-05</td>\n",
       "      <td>Catalan</td>\n",
       "      <td>Drama</td>\n",
       "      <td>74</td>\n",
       "      <td>Spain</td>\n",
       "      <td>Laura Jou</td>\n",
       "      <td>Coral Cruz, Pep Puig</td>\n",
       "      <td>La Xarxa de Comunicació Local</td>\n",
       "      <td>Maria Morera Colomer, Biel Rossell Pelfort, Is...</td>\n",
       "      <td>6.7</td>\n",
       "      <td>102</td>\n",
       "      <td>NaN</td>\n",
       "      <td>$ 59794</td>\n",
       "    </tr>\n",
       "  </tbody>\n",
       "</table>\n",
       "<p>85855 rows × 15 columns</p>\n",
       "</div>"
      ],
      "text/plain": [
       "                       original_title  year date_published       language  \\\n",
       "0                          Miss Jerry  1894     1894-10-09           None   \n",
       "1         The Story of the Kelly Gang  1906     1906-12-26           None   \n",
       "2                      Den sorte drøm  1911     1911-08-19            NaN   \n",
       "3                           Cleopatra  1912     1912-11-13        English   \n",
       "4                           L'Inferno  1911     1911-03-06        Italian   \n",
       "...                               ...   ...            ...            ...   \n",
       "85850                         Le lion  2020     2020-01-29         French   \n",
       "85851  De Beentjes van Sint-Hildegard  2020     2020-02-13  German, Dutch   \n",
       "85852       Padmavyuhathile Abhimanyu  2019     2019-03-08      Malayalam   \n",
       "85853               Sokagin Çocuklari  2019     2019-03-15        Turkish   \n",
       "85854      La vida sense la Sara Amat  2019     2020-02-05        Catalan   \n",
       "\n",
       "                           genre  duration           country  \\\n",
       "0                        Romance        45               USA   \n",
       "1        Biography, Crime, Drama        70         Australia   \n",
       "2                          Drama        53  Germany, Denmark   \n",
       "3                 Drama, History       100               USA   \n",
       "4      Adventure, Drama, Fantasy        68             Italy   \n",
       "...                          ...       ...               ...   \n",
       "85850                     Comedy        95   France, Belgium   \n",
       "85851              Comedy, Drama       103       Netherlands   \n",
       "85852                      Drama       130             India   \n",
       "85853              Drama, Family        98            Turkey   \n",
       "85854                      Drama        74             Spain   \n",
       "\n",
       "                                  director  \\\n",
       "0                          Alexander Black   \n",
       "1                             Charles Tait   \n",
       "2                                Urban Gad   \n",
       "3                       Charles L. Gaskill   \n",
       "4      Francesco Bertolini, Adolfo Padovan   \n",
       "...                                    ...   \n",
       "85850               Ludovic Colbeau-Justin   \n",
       "85851                      Johan Nijenhuis   \n",
       "85852                      Vineesh Aaradya   \n",
       "85853                    Ahmet Faik Akinci   \n",
       "85854                            Laura Jou   \n",
       "\n",
       "                                      writer             production_company  \\\n",
       "0                            Alexander Black     Alexander Black Photoplays   \n",
       "1                               Charles Tait                 J. and N. Tait   \n",
       "2      Urban Gad, Gebhard Schätzler-Perasini                       Fotorama   \n",
       "3                           Victorien Sardou  Helen Gardner Picture Players   \n",
       "4                            Dante Alighieri                    Milano Film   \n",
       "...                                      ...                            ...   \n",
       "85850  Alexandre Coquelle, Matthieu Le Naour              Monkey Pack Films   \n",
       "85851           Radek Bajgar, Herman Finkers           Johan Nijenhuis & Co   \n",
       "85852       Vineesh Aaradya, Vineesh Aaradya               RMCC Productions   \n",
       "85853         Ahmet Faik Akinci, Kasim Uçkan                    Gizem Ajans   \n",
       "85854                   Coral Cruz, Pep Puig  La Xarxa de Comunicació Local   \n",
       "\n",
       "                                                  actors  avg_vote  votes  \\\n",
       "0      Blanche Bayliss, William Courtenay, Chauncey D...       5.9    154   \n",
       "1      Elizabeth Tait, John Tait, Norman Campbell, Be...       6.1    589   \n",
       "2      Asta Nielsen, Valdemar Psilander, Gunnar Helse...       5.8    188   \n",
       "3      Helen Gardner, Pearl Sindelar, Miss Fielding, ...       5.2    446   \n",
       "4      Salvatore Papa, Arturo Pirovano, Giuseppe de L...       7.0   2237   \n",
       "...                                                  ...       ...    ...   \n",
       "85850  Dany Boon, Philippe Katerine, Anne Serra, Samu...       5.3    398   \n",
       "85851  Herman Finkers, Johanna ter Steege, Leonie ter...       7.7    724   \n",
       "85852  Anoop Chandran, Indrans, Sona Nair, Simon Brit...       7.9    265   \n",
       "85853  Ahmet Faik Akinci, Belma Mamati, Metin Keçeci,...       6.4    194   \n",
       "85854  Maria Morera Colomer, Biel Rossell Pelfort, Is...       6.7    102   \n",
       "\n",
       "        budget worlwide_gross_income  \n",
       "0          NaN                   NaN  \n",
       "1       $ 2250                   NaN  \n",
       "2          NaN                   NaN  \n",
       "3      $ 45000                   NaN  \n",
       "4          NaN                   NaN  \n",
       "...        ...                   ...  \n",
       "85850      NaN             $ 3507171  \n",
       "85851      NaN             $ 7299062  \n",
       "85852      NaN                   NaN  \n",
       "85853      NaN                $ 2833  \n",
       "85854      NaN               $ 59794  \n",
       "\n",
       "[85855 rows x 15 columns]"
      ]
     },
     "execution_count": 6,
     "metadata": {},
     "output_type": "execute_result"
    }
   ],
   "source": [
    "reduced_df = movie_df[['original_title', 'year', 'date_published','language',\n",
    "       'genre', 'duration', 'country', 'director', 'writer',\n",
    "       'production_company', 'actors', 'avg_vote', 'votes',\n",
    "       'budget', 'worlwide_gross_income']]\n",
    "reduced_df"
   ]
  },
  {
   "cell_type": "code",
   "execution_count": 7,
   "metadata": {
    "colab": {
     "base_uri": "https://localhost:8080/"
    },
    "id": "jbeXi1Fe653P",
    "outputId": "feb15e7a-bf41-43d7-ec14-1ba119a8d2f6"
   },
   "outputs": [
    {
     "data": {
      "text/plain": [
       "85855"
      ]
     },
     "execution_count": 7,
     "metadata": {},
     "output_type": "execute_result"
    }
   ],
   "source": [
    "len(reduced_df)"
   ]
  },
  {
   "cell_type": "code",
   "execution_count": 8,
   "metadata": {
    "id": "ZIc4a5lv67Jg"
   },
   "outputs": [],
   "source": [
    "clean_movie_df = reduced_df.dropna()"
   ]
  },
  {
   "cell_type": "code",
   "execution_count": 9,
   "metadata": {
    "colab": {
     "base_uri": "https://localhost:8080/",
     "height": 623
    },
    "id": "YY5HGEcA9V65",
    "outputId": "e030319c-02bb-4097-8ddc-9412c13b92e1"
   },
   "outputs": [
    {
     "name": "stderr",
     "output_type": "stream",
     "text": [
      "<ipython-input-9-7ac5aebce545>:2: UserWarning: Boolean Series key will be reindexed to match DataFrame index.\n",
      "  sample_df=sample_df[clean_movie_df[\"worlwide_gross_income\"].str.startswith(\"$\")]\n"
     ]
    },
    {
     "data": {
      "text/html": [
       "<div>\n",
       "<style scoped>\n",
       "    .dataframe tbody tr th:only-of-type {\n",
       "        vertical-align: middle;\n",
       "    }\n",
       "\n",
       "    .dataframe tbody tr th {\n",
       "        vertical-align: top;\n",
       "    }\n",
       "\n",
       "    .dataframe thead th {\n",
       "        text-align: right;\n",
       "    }\n",
       "</style>\n",
       "<table border=\"1\" class=\"dataframe\">\n",
       "  <thead>\n",
       "    <tr style=\"text-align: right;\">\n",
       "      <th></th>\n",
       "      <th>original_title</th>\n",
       "      <th>year</th>\n",
       "      <th>date_published</th>\n",
       "      <th>language</th>\n",
       "      <th>genre</th>\n",
       "      <th>duration</th>\n",
       "      <th>country</th>\n",
       "      <th>director</th>\n",
       "      <th>writer</th>\n",
       "      <th>production_company</th>\n",
       "      <th>actors</th>\n",
       "      <th>avg_vote</th>\n",
       "      <th>votes</th>\n",
       "      <th>budget</th>\n",
       "      <th>worlwide_gross_income</th>\n",
       "    </tr>\n",
       "  </thead>\n",
       "  <tbody>\n",
       "    <tr>\n",
       "      <th>165</th>\n",
       "      <td>Das Cabinet des Dr. Caligari</td>\n",
       "      <td>1920</td>\n",
       "      <td>1920-02-27</td>\n",
       "      <td>German</td>\n",
       "      <td>Fantasy, Horror, Mystery</td>\n",
       "      <td>76</td>\n",
       "      <td>Germany</td>\n",
       "      <td>Robert Wiene</td>\n",
       "      <td>Carl Mayer, Hans Janowitz</td>\n",
       "      <td>Decla-Bioscop AG</td>\n",
       "      <td>Werner Krauss, Conrad Veidt, Friedrich Feher, ...</td>\n",
       "      <td>8.1</td>\n",
       "      <td>55601</td>\n",
       "      <td>18000</td>\n",
       "      <td>8811</td>\n",
       "    </tr>\n",
       "    <tr>\n",
       "      <th>245</th>\n",
       "      <td>The Four Horsemen of the Apocalypse</td>\n",
       "      <td>1921</td>\n",
       "      <td>1923-04-16</td>\n",
       "      <td>None</td>\n",
       "      <td>Drama, Romance, War</td>\n",
       "      <td>150</td>\n",
       "      <td>USA</td>\n",
       "      <td>Rex Ingram</td>\n",
       "      <td>Vicente Blasco Ibáñez, June Mathis</td>\n",
       "      <td>Metro Pictures Corporation</td>\n",
       "      <td>Pomeroy Cannon, Josef Swickard, Bridgetta Clar...</td>\n",
       "      <td>7.2</td>\n",
       "      <td>3058</td>\n",
       "      <td>800000</td>\n",
       "      <td>9183673</td>\n",
       "    </tr>\n",
       "    <tr>\n",
       "      <th>251</th>\n",
       "      <td>The Kid</td>\n",
       "      <td>1921</td>\n",
       "      <td>1923-11-26</td>\n",
       "      <td>English, None</td>\n",
       "      <td>Comedy, Drama, Family</td>\n",
       "      <td>68</td>\n",
       "      <td>USA</td>\n",
       "      <td>Charles Chaplin</td>\n",
       "      <td>Charles Chaplin</td>\n",
       "      <td>Charles Chaplin Productions</td>\n",
       "      <td>Carl Miller, Edna Purviance, Jackie Coogan, Ch...</td>\n",
       "      <td>8.3</td>\n",
       "      <td>109038</td>\n",
       "      <td>250000</td>\n",
       "      <td>26916</td>\n",
       "    </tr>\n",
       "    <tr>\n",
       "      <th>348</th>\n",
       "      <td>A Woman of Paris: A Drama of Fate</td>\n",
       "      <td>1923</td>\n",
       "      <td>1927-06-06</td>\n",
       "      <td>None, English</td>\n",
       "      <td>Drama, Romance</td>\n",
       "      <td>82</td>\n",
       "      <td>USA</td>\n",
       "      <td>Charles Chaplin</td>\n",
       "      <td>Charles Chaplin</td>\n",
       "      <td>Charles Chaplin Productions</td>\n",
       "      <td>Edna Purviance, Clarence Geldart, Carl Miller,...</td>\n",
       "      <td>7.0</td>\n",
       "      <td>4735</td>\n",
       "      <td>351000</td>\n",
       "      <td>11233</td>\n",
       "    </tr>\n",
       "    <tr>\n",
       "      <th>415</th>\n",
       "      <td>The Gold Rush</td>\n",
       "      <td>1925</td>\n",
       "      <td>1925-10-23</td>\n",
       "      <td>English, None</td>\n",
       "      <td>Adventure, Comedy, Drama</td>\n",
       "      <td>95</td>\n",
       "      <td>USA</td>\n",
       "      <td>Charles Chaplin</td>\n",
       "      <td>Charles Chaplin</td>\n",
       "      <td>Charles Chaplin Productions</td>\n",
       "      <td>Charles Chaplin, Mack Swain, Tom Murray, Henry...</td>\n",
       "      <td>8.2</td>\n",
       "      <td>97480</td>\n",
       "      <td>923000</td>\n",
       "      <td>26916</td>\n",
       "    </tr>\n",
       "    <tr>\n",
       "      <th>...</th>\n",
       "      <td>...</td>\n",
       "      <td>...</td>\n",
       "      <td>...</td>\n",
       "      <td>...</td>\n",
       "      <td>...</td>\n",
       "      <td>...</td>\n",
       "      <td>...</td>\n",
       "      <td>...</td>\n",
       "      <td>...</td>\n",
       "      <td>...</td>\n",
       "      <td>...</td>\n",
       "      <td>...</td>\n",
       "      <td>...</td>\n",
       "      <td>...</td>\n",
       "      <td>...</td>\n",
       "    </tr>\n",
       "    <tr>\n",
       "      <th>85477</th>\n",
       "      <td>Plane Tree</td>\n",
       "      <td>2018</td>\n",
       "      <td>2019-04-12</td>\n",
       "      <td>Turkish</td>\n",
       "      <td>Drama</td>\n",
       "      <td>99</td>\n",
       "      <td>Turkey</td>\n",
       "      <td>Mustafa Karadeniz</td>\n",
       "      <td>Necip Güleçer, Mustafa Karadeniz</td>\n",
       "      <td>Cinar Film Yapim</td>\n",
       "      <td>Sezgin Cengiz, Silan Düzdaban, Yunus Emre Çeli...</td>\n",
       "      <td>6.8</td>\n",
       "      <td>168</td>\n",
       "      <td>200000</td>\n",
       "      <td>4183</td>\n",
       "    </tr>\n",
       "    <tr>\n",
       "      <th>85530</th>\n",
       "      <td>Doblemente Embarazada</td>\n",
       "      <td>2019</td>\n",
       "      <td>2019-12-20</td>\n",
       "      <td>Spanish</td>\n",
       "      <td>Comedy</td>\n",
       "      <td>98</td>\n",
       "      <td>Mexico</td>\n",
       "      <td>Koko Stambuk</td>\n",
       "      <td>Diego Ayala, Koko Stambuk</td>\n",
       "      <td>SDB Films</td>\n",
       "      <td>Roberta Burns, Gustavo Egelhaaf, Luis Felipe C...</td>\n",
       "      <td>4.4</td>\n",
       "      <td>197</td>\n",
       "      <td>950000</td>\n",
       "      <td>965558</td>\n",
       "    </tr>\n",
       "    <tr>\n",
       "      <th>85592</th>\n",
       "      <td>Quezon's Game</td>\n",
       "      <td>2018</td>\n",
       "      <td>2019-05-29</td>\n",
       "      <td>English</td>\n",
       "      <td>Drama, History</td>\n",
       "      <td>127</td>\n",
       "      <td>Philippines</td>\n",
       "      <td>Matthew E. Rosen</td>\n",
       "      <td>Janice Y. Perez, Dean Rosen</td>\n",
       "      <td>Star Cinema</td>\n",
       "      <td>Raymond Bagatsing, Rachel Alejandro, Kate Alej...</td>\n",
       "      <td>7.5</td>\n",
       "      <td>117</td>\n",
       "      <td>500000</td>\n",
       "      <td>5986</td>\n",
       "    </tr>\n",
       "    <tr>\n",
       "      <th>85740</th>\n",
       "      <td>I Still Believe</td>\n",
       "      <td>2020</td>\n",
       "      <td>2020-03-19</td>\n",
       "      <td>English</td>\n",
       "      <td>Biography, Drama, Music</td>\n",
       "      <td>116</td>\n",
       "      <td>USA</td>\n",
       "      <td>Andrew Erwin, Jon Erwin</td>\n",
       "      <td>Jeremy Camp, Jon Erwin</td>\n",
       "      <td>Kevin Downes Productions</td>\n",
       "      <td>K.J. Apa, Britt Robertson, Nathan Parsons, Gar...</td>\n",
       "      <td>6.5</td>\n",
       "      <td>6196</td>\n",
       "      <td>12000000</td>\n",
       "      <td>13681524</td>\n",
       "    </tr>\n",
       "    <tr>\n",
       "      <th>85756</th>\n",
       "      <td>Sang Krasue</td>\n",
       "      <td>2019</td>\n",
       "      <td>2019-03-14</td>\n",
       "      <td>Thai</td>\n",
       "      <td>Drama, Horror, Romance</td>\n",
       "      <td>122</td>\n",
       "      <td>Thailand</td>\n",
       "      <td>Sitisiri Mongkolsiri</td>\n",
       "      <td>Sitisiri Mongkolsiri, Chookiat Sakveerakul</td>\n",
       "      <td>Nakid</td>\n",
       "      <td>Phantira Pipityakorn, Oabnithi Wiwattanawarang...</td>\n",
       "      <td>6.5</td>\n",
       "      <td>1206</td>\n",
       "      <td>1200000</td>\n",
       "      <td>171229</td>\n",
       "    </tr>\n",
       "  </tbody>\n",
       "</table>\n",
       "<p>8911 rows × 15 columns</p>\n",
       "</div>"
      ],
      "text/plain": [
       "                            original_title  year date_published  \\\n",
       "165           Das Cabinet des Dr. Caligari  1920     1920-02-27   \n",
       "245    The Four Horsemen of the Apocalypse  1921     1923-04-16   \n",
       "251                                The Kid  1921     1923-11-26   \n",
       "348      A Woman of Paris: A Drama of Fate  1923     1927-06-06   \n",
       "415                          The Gold Rush  1925     1925-10-23   \n",
       "...                                    ...   ...            ...   \n",
       "85477                           Plane Tree  2018     2019-04-12   \n",
       "85530                Doblemente Embarazada  2019     2019-12-20   \n",
       "85592                        Quezon's Game  2018     2019-05-29   \n",
       "85740                      I Still Believe  2020     2020-03-19   \n",
       "85756                          Sang Krasue  2019     2019-03-14   \n",
       "\n",
       "            language                     genre  duration      country  \\\n",
       "165           German  Fantasy, Horror, Mystery        76      Germany   \n",
       "245             None       Drama, Romance, War       150          USA   \n",
       "251    English, None     Comedy, Drama, Family        68          USA   \n",
       "348    None, English            Drama, Romance        82          USA   \n",
       "415    English, None  Adventure, Comedy, Drama        95          USA   \n",
       "...              ...                       ...       ...          ...   \n",
       "85477        Turkish                     Drama        99       Turkey   \n",
       "85530        Spanish                    Comedy        98       Mexico   \n",
       "85592        English            Drama, History       127  Philippines   \n",
       "85740        English   Biography, Drama, Music       116          USA   \n",
       "85756           Thai    Drama, Horror, Romance       122     Thailand   \n",
       "\n",
       "                      director                                      writer  \\\n",
       "165               Robert Wiene                   Carl Mayer, Hans Janowitz   \n",
       "245                 Rex Ingram          Vicente Blasco Ibáñez, June Mathis   \n",
       "251            Charles Chaplin                             Charles Chaplin   \n",
       "348            Charles Chaplin                             Charles Chaplin   \n",
       "415            Charles Chaplin                             Charles Chaplin   \n",
       "...                        ...                                         ...   \n",
       "85477        Mustafa Karadeniz            Necip Güleçer, Mustafa Karadeniz   \n",
       "85530             Koko Stambuk                   Diego Ayala, Koko Stambuk   \n",
       "85592         Matthew E. Rosen                 Janice Y. Perez, Dean Rosen   \n",
       "85740  Andrew Erwin, Jon Erwin                      Jeremy Camp, Jon Erwin   \n",
       "85756     Sitisiri Mongkolsiri  Sitisiri Mongkolsiri, Chookiat Sakveerakul   \n",
       "\n",
       "                production_company  \\\n",
       "165               Decla-Bioscop AG   \n",
       "245     Metro Pictures Corporation   \n",
       "251    Charles Chaplin Productions   \n",
       "348    Charles Chaplin Productions   \n",
       "415    Charles Chaplin Productions   \n",
       "...                            ...   \n",
       "85477             Cinar Film Yapim   \n",
       "85530                    SDB Films   \n",
       "85592                  Star Cinema   \n",
       "85740     Kevin Downes Productions   \n",
       "85756                        Nakid   \n",
       "\n",
       "                                                  actors  avg_vote   votes  \\\n",
       "165    Werner Krauss, Conrad Veidt, Friedrich Feher, ...       8.1   55601   \n",
       "245    Pomeroy Cannon, Josef Swickard, Bridgetta Clar...       7.2    3058   \n",
       "251    Carl Miller, Edna Purviance, Jackie Coogan, Ch...       8.3  109038   \n",
       "348    Edna Purviance, Clarence Geldart, Carl Miller,...       7.0    4735   \n",
       "415    Charles Chaplin, Mack Swain, Tom Murray, Henry...       8.2   97480   \n",
       "...                                                  ...       ...     ...   \n",
       "85477  Sezgin Cengiz, Silan Düzdaban, Yunus Emre Çeli...       6.8     168   \n",
       "85530  Roberta Burns, Gustavo Egelhaaf, Luis Felipe C...       4.4     197   \n",
       "85592  Raymond Bagatsing, Rachel Alejandro, Kate Alej...       7.5     117   \n",
       "85740  K.J. Apa, Britt Robertson, Nathan Parsons, Gar...       6.5    6196   \n",
       "85756  Phantira Pipityakorn, Oabnithi Wiwattanawarang...       6.5    1206   \n",
       "\n",
       "         budget  worlwide_gross_income  \n",
       "165       18000                   8811  \n",
       "245      800000                9183673  \n",
       "251      250000                  26916  \n",
       "348      351000                  11233  \n",
       "415      923000                  26916  \n",
       "...         ...                    ...  \n",
       "85477    200000                   4183  \n",
       "85530    950000                 965558  \n",
       "85592    500000                   5986  \n",
       "85740  12000000               13681524  \n",
       "85756   1200000                 171229  \n",
       "\n",
       "[8911 rows x 15 columns]"
      ]
     },
     "execution_count": 9,
     "metadata": {},
     "output_type": "execute_result"
    }
   ],
   "source": [
    "sample_df=clean_movie_df[clean_movie_df[\"budget\"].str.startswith(\"$\")]\n",
    "sample_df=sample_df[clean_movie_df[\"worlwide_gross_income\"].str.startswith(\"$\")]\n",
    "sample_df['budget'] = sample_df['budget'].str.replace('$','')\n",
    "sample_df['worlwide_gross_income'] = sample_df['worlwide_gross_income'].str.replace('$','')\n",
    "sample_df['budget'] = sample_df['budget'].astype(np.int64)\n",
    "sample_df['worlwide_gross_income'] = sample_df['worlwide_gross_income'].astype(np.int64)\n",
    "sample_df['year'] = sample_df['year'].astype(np.int64)\n",
    "sample_df"
   ]
  },
  {
   "cell_type": "code",
   "execution_count": 10,
   "metadata": {
    "colab": {
     "base_uri": "https://localhost:8080/"
    },
    "id": "D_l9Fhhs-Eyg",
    "outputId": "5dd205bf-7946-4cca-befb-e14a4fb9294b"
   },
   "outputs": [
    {
     "data": {
      "text/plain": [
       "original_title            object\n",
       "year                       int64\n",
       "date_published            object\n",
       "language                  object\n",
       "genre                     object\n",
       "duration                   int64\n",
       "country                   object\n",
       "director                  object\n",
       "writer                    object\n",
       "production_company        object\n",
       "actors                    object\n",
       "avg_vote                 float64\n",
       "votes                      int64\n",
       "budget                     int64\n",
       "worlwide_gross_income      int64\n",
       "dtype: object"
      ]
     },
     "execution_count": 10,
     "metadata": {},
     "output_type": "execute_result"
    }
   ],
   "source": [
    "sample_df.dtypes"
   ]
  },
  {
   "cell_type": "code",
   "execution_count": 11,
   "metadata": {
    "colab": {
     "base_uri": "https://localhost:8080/",
     "height": 589
    },
    "id": "IpFLg-2Wvf4F",
    "outputId": "61014c1c-491f-4786-8bc1-e2bedc422b60"
   },
   "outputs": [],
   "source": [
    "def extract_day(film_date):\n",
    "    try:\n",
    "        datetime_object = datetime.strptime(film_date, '%Y-%m-%d')\n",
    "        film_day = datetime_object.timetuple().tm_yday\n",
    "        return film_day\n",
    "    except:\n",
    "        return 0"
   ]
  },
  {
   "cell_type": "code",
   "execution_count": 12,
   "metadata": {},
   "outputs": [
    {
     "data": {
      "text/html": [
       "<div>\n",
       "<style scoped>\n",
       "    .dataframe tbody tr th:only-of-type {\n",
       "        vertical-align: middle;\n",
       "    }\n",
       "\n",
       "    .dataframe tbody tr th {\n",
       "        vertical-align: top;\n",
       "    }\n",
       "\n",
       "    .dataframe thead th {\n",
       "        text-align: right;\n",
       "    }\n",
       "</style>\n",
       "<table border=\"1\" class=\"dataframe\">\n",
       "  <thead>\n",
       "    <tr style=\"text-align: right;\">\n",
       "      <th></th>\n",
       "      <th>original_title</th>\n",
       "      <th>year</th>\n",
       "      <th>date_published</th>\n",
       "      <th>language</th>\n",
       "      <th>genre</th>\n",
       "      <th>duration</th>\n",
       "      <th>country</th>\n",
       "      <th>director</th>\n",
       "      <th>writer</th>\n",
       "      <th>production_company</th>\n",
       "      <th>actors</th>\n",
       "      <th>avg_vote</th>\n",
       "      <th>votes</th>\n",
       "      <th>budget</th>\n",
       "      <th>worlwide_gross_income</th>\n",
       "      <th>day</th>\n",
       "    </tr>\n",
       "  </thead>\n",
       "  <tbody>\n",
       "    <tr>\n",
       "      <th>165</th>\n",
       "      <td>Das Cabinet des Dr. Caligari</td>\n",
       "      <td>1920</td>\n",
       "      <td>1920-02-27</td>\n",
       "      <td>German</td>\n",
       "      <td>Fantasy, Horror, Mystery</td>\n",
       "      <td>76</td>\n",
       "      <td>Germany</td>\n",
       "      <td>Robert Wiene</td>\n",
       "      <td>Carl Mayer, Hans Janowitz</td>\n",
       "      <td>Decla-Bioscop AG</td>\n",
       "      <td>Werner Krauss, Conrad Veidt, Friedrich Feher, ...</td>\n",
       "      <td>8.1</td>\n",
       "      <td>55601</td>\n",
       "      <td>18000</td>\n",
       "      <td>8811</td>\n",
       "      <td>58</td>\n",
       "    </tr>\n",
       "    <tr>\n",
       "      <th>245</th>\n",
       "      <td>The Four Horsemen of the Apocalypse</td>\n",
       "      <td>1921</td>\n",
       "      <td>1923-04-16</td>\n",
       "      <td>None</td>\n",
       "      <td>Drama, Romance, War</td>\n",
       "      <td>150</td>\n",
       "      <td>USA</td>\n",
       "      <td>Rex Ingram</td>\n",
       "      <td>Vicente Blasco Ibáñez, June Mathis</td>\n",
       "      <td>Metro Pictures Corporation</td>\n",
       "      <td>Pomeroy Cannon, Josef Swickard, Bridgetta Clar...</td>\n",
       "      <td>7.2</td>\n",
       "      <td>3058</td>\n",
       "      <td>800000</td>\n",
       "      <td>9183673</td>\n",
       "      <td>106</td>\n",
       "    </tr>\n",
       "    <tr>\n",
       "      <th>251</th>\n",
       "      <td>The Kid</td>\n",
       "      <td>1921</td>\n",
       "      <td>1923-11-26</td>\n",
       "      <td>English, None</td>\n",
       "      <td>Comedy, Drama, Family</td>\n",
       "      <td>68</td>\n",
       "      <td>USA</td>\n",
       "      <td>Charles Chaplin</td>\n",
       "      <td>Charles Chaplin</td>\n",
       "      <td>Charles Chaplin Productions</td>\n",
       "      <td>Carl Miller, Edna Purviance, Jackie Coogan, Ch...</td>\n",
       "      <td>8.3</td>\n",
       "      <td>109038</td>\n",
       "      <td>250000</td>\n",
       "      <td>26916</td>\n",
       "      <td>330</td>\n",
       "    </tr>\n",
       "    <tr>\n",
       "      <th>348</th>\n",
       "      <td>A Woman of Paris: A Drama of Fate</td>\n",
       "      <td>1923</td>\n",
       "      <td>1927-06-06</td>\n",
       "      <td>None, English</td>\n",
       "      <td>Drama, Romance</td>\n",
       "      <td>82</td>\n",
       "      <td>USA</td>\n",
       "      <td>Charles Chaplin</td>\n",
       "      <td>Charles Chaplin</td>\n",
       "      <td>Charles Chaplin Productions</td>\n",
       "      <td>Edna Purviance, Clarence Geldart, Carl Miller,...</td>\n",
       "      <td>7.0</td>\n",
       "      <td>4735</td>\n",
       "      <td>351000</td>\n",
       "      <td>11233</td>\n",
       "      <td>157</td>\n",
       "    </tr>\n",
       "    <tr>\n",
       "      <th>415</th>\n",
       "      <td>The Gold Rush</td>\n",
       "      <td>1925</td>\n",
       "      <td>1925-10-23</td>\n",
       "      <td>English, None</td>\n",
       "      <td>Adventure, Comedy, Drama</td>\n",
       "      <td>95</td>\n",
       "      <td>USA</td>\n",
       "      <td>Charles Chaplin</td>\n",
       "      <td>Charles Chaplin</td>\n",
       "      <td>Charles Chaplin Productions</td>\n",
       "      <td>Charles Chaplin, Mack Swain, Tom Murray, Henry...</td>\n",
       "      <td>8.2</td>\n",
       "      <td>97480</td>\n",
       "      <td>923000</td>\n",
       "      <td>26916</td>\n",
       "      <td>296</td>\n",
       "    </tr>\n",
       "    <tr>\n",
       "      <th>...</th>\n",
       "      <td>...</td>\n",
       "      <td>...</td>\n",
       "      <td>...</td>\n",
       "      <td>...</td>\n",
       "      <td>...</td>\n",
       "      <td>...</td>\n",
       "      <td>...</td>\n",
       "      <td>...</td>\n",
       "      <td>...</td>\n",
       "      <td>...</td>\n",
       "      <td>...</td>\n",
       "      <td>...</td>\n",
       "      <td>...</td>\n",
       "      <td>...</td>\n",
       "      <td>...</td>\n",
       "      <td>...</td>\n",
       "    </tr>\n",
       "    <tr>\n",
       "      <th>85477</th>\n",
       "      <td>Plane Tree</td>\n",
       "      <td>2018</td>\n",
       "      <td>2019-04-12</td>\n",
       "      <td>Turkish</td>\n",
       "      <td>Drama</td>\n",
       "      <td>99</td>\n",
       "      <td>Turkey</td>\n",
       "      <td>Mustafa Karadeniz</td>\n",
       "      <td>Necip Güleçer, Mustafa Karadeniz</td>\n",
       "      <td>Cinar Film Yapim</td>\n",
       "      <td>Sezgin Cengiz, Silan Düzdaban, Yunus Emre Çeli...</td>\n",
       "      <td>6.8</td>\n",
       "      <td>168</td>\n",
       "      <td>200000</td>\n",
       "      <td>4183</td>\n",
       "      <td>102</td>\n",
       "    </tr>\n",
       "    <tr>\n",
       "      <th>85530</th>\n",
       "      <td>Doblemente Embarazada</td>\n",
       "      <td>2019</td>\n",
       "      <td>2019-12-20</td>\n",
       "      <td>Spanish</td>\n",
       "      <td>Comedy</td>\n",
       "      <td>98</td>\n",
       "      <td>Mexico</td>\n",
       "      <td>Koko Stambuk</td>\n",
       "      <td>Diego Ayala, Koko Stambuk</td>\n",
       "      <td>SDB Films</td>\n",
       "      <td>Roberta Burns, Gustavo Egelhaaf, Luis Felipe C...</td>\n",
       "      <td>4.4</td>\n",
       "      <td>197</td>\n",
       "      <td>950000</td>\n",
       "      <td>965558</td>\n",
       "      <td>354</td>\n",
       "    </tr>\n",
       "    <tr>\n",
       "      <th>85592</th>\n",
       "      <td>Quezon's Game</td>\n",
       "      <td>2018</td>\n",
       "      <td>2019-05-29</td>\n",
       "      <td>English</td>\n",
       "      <td>Drama, History</td>\n",
       "      <td>127</td>\n",
       "      <td>Philippines</td>\n",
       "      <td>Matthew E. Rosen</td>\n",
       "      <td>Janice Y. Perez, Dean Rosen</td>\n",
       "      <td>Star Cinema</td>\n",
       "      <td>Raymond Bagatsing, Rachel Alejandro, Kate Alej...</td>\n",
       "      <td>7.5</td>\n",
       "      <td>117</td>\n",
       "      <td>500000</td>\n",
       "      <td>5986</td>\n",
       "      <td>149</td>\n",
       "    </tr>\n",
       "    <tr>\n",
       "      <th>85740</th>\n",
       "      <td>I Still Believe</td>\n",
       "      <td>2020</td>\n",
       "      <td>2020-03-19</td>\n",
       "      <td>English</td>\n",
       "      <td>Biography, Drama, Music</td>\n",
       "      <td>116</td>\n",
       "      <td>USA</td>\n",
       "      <td>Andrew Erwin, Jon Erwin</td>\n",
       "      <td>Jeremy Camp, Jon Erwin</td>\n",
       "      <td>Kevin Downes Productions</td>\n",
       "      <td>K.J. Apa, Britt Robertson, Nathan Parsons, Gar...</td>\n",
       "      <td>6.5</td>\n",
       "      <td>6196</td>\n",
       "      <td>12000000</td>\n",
       "      <td>13681524</td>\n",
       "      <td>79</td>\n",
       "    </tr>\n",
       "    <tr>\n",
       "      <th>85756</th>\n",
       "      <td>Sang Krasue</td>\n",
       "      <td>2019</td>\n",
       "      <td>2019-03-14</td>\n",
       "      <td>Thai</td>\n",
       "      <td>Drama, Horror, Romance</td>\n",
       "      <td>122</td>\n",
       "      <td>Thailand</td>\n",
       "      <td>Sitisiri Mongkolsiri</td>\n",
       "      <td>Sitisiri Mongkolsiri, Chookiat Sakveerakul</td>\n",
       "      <td>Nakid</td>\n",
       "      <td>Phantira Pipityakorn, Oabnithi Wiwattanawarang...</td>\n",
       "      <td>6.5</td>\n",
       "      <td>1206</td>\n",
       "      <td>1200000</td>\n",
       "      <td>171229</td>\n",
       "      <td>73</td>\n",
       "    </tr>\n",
       "  </tbody>\n",
       "</table>\n",
       "<p>8870 rows × 16 columns</p>\n",
       "</div>"
      ],
      "text/plain": [
       "                            original_title  year date_published  \\\n",
       "165           Das Cabinet des Dr. Caligari  1920     1920-02-27   \n",
       "245    The Four Horsemen of the Apocalypse  1921     1923-04-16   \n",
       "251                                The Kid  1921     1923-11-26   \n",
       "348      A Woman of Paris: A Drama of Fate  1923     1927-06-06   \n",
       "415                          The Gold Rush  1925     1925-10-23   \n",
       "...                                    ...   ...            ...   \n",
       "85477                           Plane Tree  2018     2019-04-12   \n",
       "85530                Doblemente Embarazada  2019     2019-12-20   \n",
       "85592                        Quezon's Game  2018     2019-05-29   \n",
       "85740                      I Still Believe  2020     2020-03-19   \n",
       "85756                          Sang Krasue  2019     2019-03-14   \n",
       "\n",
       "            language                     genre  duration      country  \\\n",
       "165           German  Fantasy, Horror, Mystery        76      Germany   \n",
       "245             None       Drama, Romance, War       150          USA   \n",
       "251    English, None     Comedy, Drama, Family        68          USA   \n",
       "348    None, English            Drama, Romance        82          USA   \n",
       "415    English, None  Adventure, Comedy, Drama        95          USA   \n",
       "...              ...                       ...       ...          ...   \n",
       "85477        Turkish                     Drama        99       Turkey   \n",
       "85530        Spanish                    Comedy        98       Mexico   \n",
       "85592        English            Drama, History       127  Philippines   \n",
       "85740        English   Biography, Drama, Music       116          USA   \n",
       "85756           Thai    Drama, Horror, Romance       122     Thailand   \n",
       "\n",
       "                      director                                      writer  \\\n",
       "165               Robert Wiene                   Carl Mayer, Hans Janowitz   \n",
       "245                 Rex Ingram          Vicente Blasco Ibáñez, June Mathis   \n",
       "251            Charles Chaplin                             Charles Chaplin   \n",
       "348            Charles Chaplin                             Charles Chaplin   \n",
       "415            Charles Chaplin                             Charles Chaplin   \n",
       "...                        ...                                         ...   \n",
       "85477        Mustafa Karadeniz            Necip Güleçer, Mustafa Karadeniz   \n",
       "85530             Koko Stambuk                   Diego Ayala, Koko Stambuk   \n",
       "85592         Matthew E. Rosen                 Janice Y. Perez, Dean Rosen   \n",
       "85740  Andrew Erwin, Jon Erwin                      Jeremy Camp, Jon Erwin   \n",
       "85756     Sitisiri Mongkolsiri  Sitisiri Mongkolsiri, Chookiat Sakveerakul   \n",
       "\n",
       "                production_company  \\\n",
       "165               Decla-Bioscop AG   \n",
       "245     Metro Pictures Corporation   \n",
       "251    Charles Chaplin Productions   \n",
       "348    Charles Chaplin Productions   \n",
       "415    Charles Chaplin Productions   \n",
       "...                            ...   \n",
       "85477             Cinar Film Yapim   \n",
       "85530                    SDB Films   \n",
       "85592                  Star Cinema   \n",
       "85740     Kevin Downes Productions   \n",
       "85756                        Nakid   \n",
       "\n",
       "                                                  actors  avg_vote   votes  \\\n",
       "165    Werner Krauss, Conrad Veidt, Friedrich Feher, ...       8.1   55601   \n",
       "245    Pomeroy Cannon, Josef Swickard, Bridgetta Clar...       7.2    3058   \n",
       "251    Carl Miller, Edna Purviance, Jackie Coogan, Ch...       8.3  109038   \n",
       "348    Edna Purviance, Clarence Geldart, Carl Miller,...       7.0    4735   \n",
       "415    Charles Chaplin, Mack Swain, Tom Murray, Henry...       8.2   97480   \n",
       "...                                                  ...       ...     ...   \n",
       "85477  Sezgin Cengiz, Silan Düzdaban, Yunus Emre Çeli...       6.8     168   \n",
       "85530  Roberta Burns, Gustavo Egelhaaf, Luis Felipe C...       4.4     197   \n",
       "85592  Raymond Bagatsing, Rachel Alejandro, Kate Alej...       7.5     117   \n",
       "85740  K.J. Apa, Britt Robertson, Nathan Parsons, Gar...       6.5    6196   \n",
       "85756  Phantira Pipityakorn, Oabnithi Wiwattanawarang...       6.5    1206   \n",
       "\n",
       "         budget  worlwide_gross_income  day  \n",
       "165       18000                   8811   58  \n",
       "245      800000                9183673  106  \n",
       "251      250000                  26916  330  \n",
       "348      351000                  11233  157  \n",
       "415      923000                  26916  296  \n",
       "...         ...                    ...  ...  \n",
       "85477    200000                   4183  102  \n",
       "85530    950000                 965558  354  \n",
       "85592    500000                   5986  149  \n",
       "85740  12000000               13681524   79  \n",
       "85756   1200000                 171229   73  \n",
       "\n",
       "[8870 rows x 16 columns]"
      ]
     },
     "execution_count": 12,
     "metadata": {},
     "output_type": "execute_result"
    }
   ],
   "source": [
    "sample_df['day']=sample_df['date_published'].apply(lambda x: extract_day(x))\n",
    "sample_df=sample_df[sample_df['day']>0]\n",
    "sample_df"
   ]
  },
  {
   "cell_type": "code",
   "execution_count": 13,
   "metadata": {
    "id": "O830KnNTBaxF"
   },
   "outputs": [],
   "source": [
    "sample_df=sample_df.drop(['date_published'],axis=1)"
   ]
  },
  {
   "cell_type": "code",
   "execution_count": 14,
   "metadata": {
    "id": "m5hHKSukvt9a"
   },
   "outputs": [],
   "source": [
    "list_of_languages = list(sample_df['language'].apply(lambda x:  [i for i in x.split(', ')]).values)\n",
    "top_languages = [x[0] for x in Counter([i for j in list_of_languages for i in j]).most_common()[:30]]"
   ]
  },
  {
   "cell_type": "code",
   "execution_count": 15,
   "metadata": {
    "id": "4PX_TRsbcSEy"
   },
   "outputs": [],
   "source": [
    "list_of_genres = list(sample_df['genre'].apply(lambda x:  [i for i in x.split(', ')]).values)\n",
    "all_genres = [x[0] for x in Counter([i for j in list_of_genres for i in j]).most_common()]"
   ]
  },
  {
   "cell_type": "code",
   "execution_count": 16,
   "metadata": {
    "id": "2nrrHQ6GwLRj"
   },
   "outputs": [],
   "source": [
    "list_of_countries = list(sample_df['country'].apply(lambda x:  [i for i in x.split(', ')]).values)\n",
    "top_countries = [x[0] for x in Counter([i for j in list_of_countries for i in j]).most_common()[:30]]"
   ]
  },
  {
   "cell_type": "code",
   "execution_count": 17,
   "metadata": {
    "id": "gtq67jDPwURw"
   },
   "outputs": [],
   "source": [
    "list_of_actors = list(sample_df['actors'].apply(lambda x:  [i for i in x.split(', ')]).values)\n",
    "rd_list_of_actors=[x[0:5] for x in list_of_actors]\n",
    "all_actors = Counter([i for j in rd_list_of_actors for i in j]).most_common()\n",
    "top_actors = [x[0] for x in all_actors if x[1]>10]"
   ]
  },
  {
   "cell_type": "code",
   "execution_count": 18,
   "metadata": {
    "id": "hOJvHZaBwe9l"
   },
   "outputs": [],
   "source": [
    "list_of_directors = list(sample_df['director'].apply(lambda x:  [i for i in x.split(', ')]).values)\n",
    "all_directors = Counter([i for j in list_of_directors for i in j]).most_common()\n",
    "top_directors = [x[0] for x in all_directors if x[1]>=5]"
   ]
  },
  {
   "cell_type": "code",
   "execution_count": 19,
   "metadata": {
    "id": "0bK1GZYDwpAI"
   },
   "outputs": [],
   "source": [
    "list_of_writers = list(sample_df['writer'].apply(lambda x:  [i for i in x.split(', ')]).values)\n",
    "all_writers = Counter([i for j in list_of_writers for i in j]).most_common()\n",
    "top_writers = [x[0] for x in all_writers if x[1]>=5]"
   ]
  },
  {
   "cell_type": "code",
   "execution_count": 20,
   "metadata": {
    "id": "5hXoJg96ws4w"
   },
   "outputs": [],
   "source": [
    "list_of_companies = list(sample_df['production_company'].apply(lambda x:  [i for i in x.split(', ')]).values)\n",
    "all_companies = Counter([i for j in list_of_companies for i in j]).most_common()\n",
    "top_companies = [x[0] for x in all_companies if x[1]>=5]"
   ]
  },
  {
   "cell_type": "code",
   "execution_count": 21,
   "metadata": {
    "id": "8yi8zEynw7uE"
   },
   "outputs": [],
   "source": [
    "for language in top_languages:\n",
    "  sample_df['language_' + language] = sample_df['language'].apply(lambda x: 1 if language in x.split(', ') else 0)"
   ]
  },
  {
   "cell_type": "code",
   "execution_count": 22,
   "metadata": {
    "id": "ehn6yUv6w7wj"
   },
   "outputs": [],
   "source": [
    "for genre in all_genres:\n",
    "  sample_df['genre_' + genre] = sample_df['genre'].apply(lambda x: 1 if genre in x.split(', ') else 0)"
   ]
  },
  {
   "cell_type": "code",
   "execution_count": 23,
   "metadata": {
    "id": "ccmyicsjw7zV"
   },
   "outputs": [],
   "source": [
    "for country in top_countries:\n",
    "  sample_df['country_' + country] = sample_df['country'].apply(lambda x: 1 if country in x.split(', ') else 0)"
   ]
  },
  {
   "cell_type": "code",
   "execution_count": 24,
   "metadata": {
    "id": "MCEuENTYw72h"
   },
   "outputs": [],
   "source": [
    "for director in top_directors:\n",
    "  sample_df['director_' + director] = sample_df['director'].apply(lambda x: 1 if director in x.split(', ') else 0)"
   ]
  },
  {
   "cell_type": "code",
   "execution_count": 25,
   "metadata": {
    "id": "2DdKOZE6w75D"
   },
   "outputs": [],
   "source": [
    "for writer in top_writers:\n",
    "  sample_df['writer_' + writer] = sample_df['writer'].apply(lambda x: 1 if writer in x.split(', ') else 0)"
   ]
  },
  {
   "cell_type": "code",
   "execution_count": 26,
   "metadata": {
    "id": "BS0ttjjjxOks"
   },
   "outputs": [],
   "source": [
    "for company in top_companies:\n",
    "  sample_df['company_' + company] = sample_df['production_company'].apply(lambda x: 1 if company in x.split(', ') else 0)"
   ]
  },
  {
   "cell_type": "code",
   "execution_count": 27,
   "metadata": {
    "id": "hHGimjiJxOns"
   },
   "outputs": [],
   "source": [
    "for actor in top_actors:\n",
    "  sample_df['actor_' + actor] = sample_df['actors'].apply(lambda x: 1 if actor in x.split(', ')[0:5] else 0)"
   ]
  },
  {
   "cell_type": "code",
   "execution_count": 28,
   "metadata": {
    "id": "jp10MuWcxOqF"
   },
   "outputs": [],
   "source": [
    "sample_df=sample_df.reset_index(drop=True)"
   ]
  },
  {
   "cell_type": "code",
   "execution_count": 29,
   "metadata": {
    "id": "32mk8CarxOuF"
   },
   "outputs": [],
   "source": [
    "sample_df=sample_df.select_dtypes(include=['int64','float64'])"
   ]
  },
  {
   "cell_type": "code",
   "execution_count": 30,
   "metadata": {
    "colab": {
     "base_uri": "https://localhost:8080/"
    },
    "id": "qtDvOIL8w79T",
    "outputId": "97b0659a-d820-4ec9-af52-4f3e9885a4a9"
   },
   "outputs": [
    {
     "data": {
      "text/plain": [
       "(8870, 1872)"
      ]
     },
     "execution_count": 30,
     "metadata": {},
     "output_type": "execute_result"
    }
   ],
   "source": [
    "sample_df.shape"
   ]
  },
  {
   "cell_type": "code",
   "execution_count": 31,
   "metadata": {
    "colab": {
     "base_uri": "https://localhost:8080/",
     "height": 270
    },
    "id": "_l01HqN7xbgf",
    "outputId": "9d220108-fc31-4ea9-8b3e-69d7740e2530"
   },
   "outputs": [
    {
     "data": {
      "text/html": [
       "<div>\n",
       "<style scoped>\n",
       "    .dataframe tbody tr th:only-of-type {\n",
       "        vertical-align: middle;\n",
       "    }\n",
       "\n",
       "    .dataframe tbody tr th {\n",
       "        vertical-align: top;\n",
       "    }\n",
       "\n",
       "    .dataframe thead th {\n",
       "        text-align: right;\n",
       "    }\n",
       "</style>\n",
       "<table border=\"1\" class=\"dataframe\">\n",
       "  <thead>\n",
       "    <tr style=\"text-align: right;\">\n",
       "      <th></th>\n",
       "      <th>year</th>\n",
       "      <th>duration</th>\n",
       "      <th>avg_vote</th>\n",
       "      <th>votes</th>\n",
       "      <th>budget</th>\n",
       "      <th>worlwide_gross_income</th>\n",
       "      <th>day</th>\n",
       "      <th>language_English</th>\n",
       "      <th>language_Spanish</th>\n",
       "      <th>language_French</th>\n",
       "      <th>...</th>\n",
       "      <th>actor_Matthew Goode</th>\n",
       "      <th>actor_Edgar Ramírez</th>\n",
       "      <th>actor_Tyler Perry</th>\n",
       "      <th>actor_Sebastian Stan</th>\n",
       "      <th>actor_Rebecca Hall</th>\n",
       "      <th>actor_Cam Gigandet</th>\n",
       "      <th>actor_Miles Teller</th>\n",
       "      <th>actor_Scott Adkins</th>\n",
       "      <th>actor_Octavia Spencer</th>\n",
       "      <th>actor_Dave Bautista</th>\n",
       "    </tr>\n",
       "  </thead>\n",
       "  <tbody>\n",
       "    <tr>\n",
       "      <th>0</th>\n",
       "      <td>1920</td>\n",
       "      <td>76</td>\n",
       "      <td>8.1</td>\n",
       "      <td>55601</td>\n",
       "      <td>18000</td>\n",
       "      <td>8811</td>\n",
       "      <td>58</td>\n",
       "      <td>0</td>\n",
       "      <td>0</td>\n",
       "      <td>0</td>\n",
       "      <td>...</td>\n",
       "      <td>0</td>\n",
       "      <td>0</td>\n",
       "      <td>0</td>\n",
       "      <td>0</td>\n",
       "      <td>0</td>\n",
       "      <td>0</td>\n",
       "      <td>0</td>\n",
       "      <td>0</td>\n",
       "      <td>0</td>\n",
       "      <td>0</td>\n",
       "    </tr>\n",
       "    <tr>\n",
       "      <th>1</th>\n",
       "      <td>1921</td>\n",
       "      <td>150</td>\n",
       "      <td>7.2</td>\n",
       "      <td>3058</td>\n",
       "      <td>800000</td>\n",
       "      <td>9183673</td>\n",
       "      <td>106</td>\n",
       "      <td>0</td>\n",
       "      <td>0</td>\n",
       "      <td>0</td>\n",
       "      <td>...</td>\n",
       "      <td>0</td>\n",
       "      <td>0</td>\n",
       "      <td>0</td>\n",
       "      <td>0</td>\n",
       "      <td>0</td>\n",
       "      <td>0</td>\n",
       "      <td>0</td>\n",
       "      <td>0</td>\n",
       "      <td>0</td>\n",
       "      <td>0</td>\n",
       "    </tr>\n",
       "    <tr>\n",
       "      <th>2</th>\n",
       "      <td>1921</td>\n",
       "      <td>68</td>\n",
       "      <td>8.3</td>\n",
       "      <td>109038</td>\n",
       "      <td>250000</td>\n",
       "      <td>26916</td>\n",
       "      <td>330</td>\n",
       "      <td>1</td>\n",
       "      <td>0</td>\n",
       "      <td>0</td>\n",
       "      <td>...</td>\n",
       "      <td>0</td>\n",
       "      <td>0</td>\n",
       "      <td>0</td>\n",
       "      <td>0</td>\n",
       "      <td>0</td>\n",
       "      <td>0</td>\n",
       "      <td>0</td>\n",
       "      <td>0</td>\n",
       "      <td>0</td>\n",
       "      <td>0</td>\n",
       "    </tr>\n",
       "    <tr>\n",
       "      <th>3</th>\n",
       "      <td>1923</td>\n",
       "      <td>82</td>\n",
       "      <td>7.0</td>\n",
       "      <td>4735</td>\n",
       "      <td>351000</td>\n",
       "      <td>11233</td>\n",
       "      <td>157</td>\n",
       "      <td>1</td>\n",
       "      <td>0</td>\n",
       "      <td>0</td>\n",
       "      <td>...</td>\n",
       "      <td>0</td>\n",
       "      <td>0</td>\n",
       "      <td>0</td>\n",
       "      <td>0</td>\n",
       "      <td>0</td>\n",
       "      <td>0</td>\n",
       "      <td>0</td>\n",
       "      <td>0</td>\n",
       "      <td>0</td>\n",
       "      <td>0</td>\n",
       "    </tr>\n",
       "    <tr>\n",
       "      <th>4</th>\n",
       "      <td>1925</td>\n",
       "      <td>95</td>\n",
       "      <td>8.2</td>\n",
       "      <td>97480</td>\n",
       "      <td>923000</td>\n",
       "      <td>26916</td>\n",
       "      <td>296</td>\n",
       "      <td>1</td>\n",
       "      <td>0</td>\n",
       "      <td>0</td>\n",
       "      <td>...</td>\n",
       "      <td>0</td>\n",
       "      <td>0</td>\n",
       "      <td>0</td>\n",
       "      <td>0</td>\n",
       "      <td>0</td>\n",
       "      <td>0</td>\n",
       "      <td>0</td>\n",
       "      <td>0</td>\n",
       "      <td>0</td>\n",
       "      <td>0</td>\n",
       "    </tr>\n",
       "  </tbody>\n",
       "</table>\n",
       "<p>5 rows × 1872 columns</p>\n",
       "</div>"
      ],
      "text/plain": [
       "   year  duration  avg_vote   votes  budget  worlwide_gross_income  day  \\\n",
       "0  1920        76       8.1   55601   18000                   8811   58   \n",
       "1  1921       150       7.2    3058  800000                9183673  106   \n",
       "2  1921        68       8.3  109038  250000                  26916  330   \n",
       "3  1923        82       7.0    4735  351000                  11233  157   \n",
       "4  1925        95       8.2   97480  923000                  26916  296   \n",
       "\n",
       "   language_English  language_Spanish  language_French  ...  \\\n",
       "0                 0                 0                0  ...   \n",
       "1                 0                 0                0  ...   \n",
       "2                 1                 0                0  ...   \n",
       "3                 1                 0                0  ...   \n",
       "4                 1                 0                0  ...   \n",
       "\n",
       "   actor_Matthew Goode  actor_Edgar Ramírez  actor_Tyler Perry  \\\n",
       "0                    0                    0                  0   \n",
       "1                    0                    0                  0   \n",
       "2                    0                    0                  0   \n",
       "3                    0                    0                  0   \n",
       "4                    0                    0                  0   \n",
       "\n",
       "   actor_Sebastian Stan  actor_Rebecca Hall  actor_Cam Gigandet  \\\n",
       "0                     0                   0                   0   \n",
       "1                     0                   0                   0   \n",
       "2                     0                   0                   0   \n",
       "3                     0                   0                   0   \n",
       "4                     0                   0                   0   \n",
       "\n",
       "   actor_Miles Teller  actor_Scott Adkins  actor_Octavia Spencer  \\\n",
       "0                   0                   0                      0   \n",
       "1                   0                   0                      0   \n",
       "2                   0                   0                      0   \n",
       "3                   0                   0                      0   \n",
       "4                   0                   0                      0   \n",
       "\n",
       "   actor_Dave Bautista  \n",
       "0                    0  \n",
       "1                    0  \n",
       "2                    0  \n",
       "3                    0  \n",
       "4                    0  \n",
       "\n",
       "[5 rows x 1872 columns]"
      ]
     },
     "execution_count": 31,
     "metadata": {},
     "output_type": "execute_result"
    }
   ],
   "source": [
    "sample_df.head()"
   ]
  },
  {
   "cell_type": "code",
   "execution_count": 32,
   "metadata": {},
   "outputs": [],
   "source": [
    "sample_df.to_csv(\"encoded_data/sample_data.csv\", index=False)"
   ]
  },
  {
   "cell_type": "code",
   "execution_count": null,
   "metadata": {
    "colab": {
     "base_uri": "https://localhost:8080/",
     "height": 482
    },
    "id": "ehZM9s8HcyyF",
    "outputId": "45f44dc4-4555-4662-d165-d284cb448dd7"
   },
   "outputs": [],
   "source": [
    "#plt.figure(figsize = (12, 8))\n",
    "#text = ' '.join([i for j in list_of_genres for i in j])\n",
    "#wordcloud = WordCloud(max_font_size=None, background_color='white', collocations=False,\n",
    "#                      width=1200, height=1000).generate(text)\n",
    "#plt.imshow(wordcloud)\n",
    "#plt.title('Top genres')\n",
    "#plt.axis(\"off\")\n",
    "#plt.show()"
   ]
  },
  {
   "cell_type": "markdown",
   "metadata": {
    "id": "72YrFt7qIuW6"
   },
   "source": [
    "# Model test"
   ]
  },
  {
   "cell_type": "code",
   "execution_count": null,
   "metadata": {
    "colab": {
     "base_uri": "https://localhost:8080/",
     "height": 270
    },
    "id": "S03XQmuBIyQD",
    "outputId": "0a5869a1-3430-4b99-aa9d-7d96916c63ee"
   },
   "outputs": [],
   "source": [
    "sample_df.head()"
   ]
  },
  {
   "cell_type": "code",
   "execution_count": null,
   "metadata": {
    "id": "XV2SWnHTJSCU"
   },
   "outputs": [],
   "source": [
    "X = sample_df.drop([\"avg_vote\",\"worlwide_gross_income\"], axis=1)"
   ]
  },
  {
   "cell_type": "code",
   "execution_count": null,
   "metadata": {
    "colab": {
     "base_uri": "https://localhost:8080/",
     "height": 270
    },
    "id": "DbBq0-tkLDn7",
    "outputId": "64235020-04c7-42ed-83c8-27a84391d04f"
   },
   "outputs": [],
   "source": [
    "X.head()"
   ]
  },
  {
   "cell_type": "code",
   "execution_count": null,
   "metadata": {
    "id": "poEs_0M6LP9O"
   },
   "outputs": [],
   "source": [
    "vote_y=sample_df[\"avg_vote\"]\n",
    "nvote_y=sample_df[\"votes\"]\n",
    "revenue_y=sample_df[\"worlwide_gross_income\"]"
   ]
  },
  {
   "cell_type": "code",
   "execution_count": null,
   "metadata": {
    "id": "cngJrtibLqe_"
   },
   "outputs": [],
   "source": [
    "from sklearn.model_selection import train_test_split\n",
    "X_train, X_test, revenue_y_train, revenue_y_test = train_test_split(X, revenue_y, test_size=0.2)"
   ]
  },
  {
   "cell_type": "code",
   "execution_count": null,
   "metadata": {},
   "outputs": [],
   "source": [
    "X_train.head()"
   ]
  },
  {
   "cell_type": "markdown",
   "metadata": {},
   "source": [
    "# Scale the duration and day columns"
   ]
  },
  {
   "cell_type": "code",
   "execution_count": null,
   "metadata": {},
   "outputs": [],
   "source": [
    "from sklearn.preprocessing import MinMaxScaler\n",
    "duration_scaler=MinMaxScaler().fit(X[[\"duration\"]])\n",
    "day_scaler=MinMaxScaler().fit(X[[\"day\"]])"
   ]
  },
  {
   "cell_type": "code",
   "execution_count": null,
   "metadata": {},
   "outputs": [],
   "source": [
    "X_train_scaled=X_train\n",
    "X_test_scaled=X_test\n",
    "revenue_y_train_scaled=revenue_y_train\n",
    "revenue_y_test_scaled=revenue_y_test"
   ]
  },
  {
   "cell_type": "code",
   "execution_count": null,
   "metadata": {},
   "outputs": [],
   "source": [
    "X_train_scaled[\"duration\"]=duration_scaler.transform(X_train_scaled[[\"duration\"]])\n",
    "X_train_scaled[\"day\"]=day_scaler.transform(X_train_scaled[[\"day\"]])\n",
    "\n",
    "X_test_scaled[\"duration\"]=duration_scaler.transform(X_test_scaled[[\"duration\"]])\n",
    "X_test_scaled[\"day\"]=day_scaler.transform(X_test_scaled[[\"day\"]])"
   ]
  },
  {
   "cell_type": "code",
   "execution_count": null,
   "metadata": {
    "colab": {
     "base_uri": "https://localhost:8080/"
    },
    "id": "mThRGjfuUArz",
    "outputId": "763c28d6-719e-4e78-e11a-0846cc6191b1"
   },
   "outputs": [],
   "source": [
    "print('X_train dimensions: ', X_train_scaled.shape, 'y_train: ', revenue_y_train_scaled.shape)\n",
    "print('X_test dimensions:', X_test_scaled.shape, 'y_validation: ', revenue_y_test_scaled.shape)"
   ]
  },
  {
   "cell_type": "code",
   "execution_count": null,
   "metadata": {
    "colab": {
     "base_uri": "https://localhost:8080/"
    },
    "id": "5JNpYWBaPyOE",
    "outputId": "b0133fce-a004-4971-ba4b-071a911a1b96"
   },
   "outputs": [],
   "source": [
    "from xgboost import XGBRegressor\n",
    "regressor = XGBRegressor(colsample_bytree= 0.6, gamma= 0.7, max_depth= 5, min_child_weight= 5,\n",
    "                         subsample = 0.8, objective='reg:squarederror')\n",
    "regressor.fit(X_train_scaled, revenue_y_train_scaled)"
   ]
  },
  {
   "cell_type": "code",
   "execution_count": null,
   "metadata": {
    "colab": {
     "base_uri": "https://localhost:8080/"
    },
    "id": "scZZQC5iP6Dx",
    "outputId": "984e7a77-aa46-49f9-f346-417980dad752"
   },
   "outputs": [],
   "source": [
    "revenue_y_pred = regressor.predict(X_test_scaled)\n",
    "from sklearn.metrics import r2_score\n",
    "score = r2_score(revenue_y_test_scaled, revenue_y_pred)\n",
    "print(score)"
   ]
  },
  {
   "cell_type": "code",
   "execution_count": null,
   "metadata": {
    "colab": {
     "base_uri": "https://localhost:8080/"
    },
    "id": "WefjZvGD32kx",
    "outputId": "792cde85-f08c-48c2-c1b1-0c88d949ad96",
    "scrolled": true
   },
   "outputs": [],
   "source": [
    "select_features=[]\n",
    "for col,score in zip(X_train.columns,regressor.feature_importances_):\n",
    "  if score >0.00001:\n",
    "    select_features.append(col)\n",
    "    print(col,score)"
   ]
  },
  {
   "cell_type": "code",
   "execution_count": null,
   "metadata": {
    "colab": {
     "base_uri": "https://localhost:8080/"
    },
    "id": "bvUcGaLQ32oY",
    "outputId": "06c35fac-f5c1-4a6d-e8a6-fd74d79fe30c"
   },
   "outputs": [],
   "source": [
    "len(select_features)"
   ]
  },
  {
   "cell_type": "code",
   "execution_count": null,
   "metadata": {
    "id": "zNIB1sfj7Qld"
   },
   "outputs": [],
   "source": [
    "select_sample_df=sample_df[select_features]"
   ]
  },
  {
   "cell_type": "code",
   "execution_count": null,
   "metadata": {
    "colab": {
     "base_uri": "https://localhost:8080/",
     "height": 473
    },
    "id": "buhHaS2a7QoY",
    "outputId": "bab05158-40e8-4662-a900-abf852036e8a"
   },
   "outputs": [],
   "source": [
    "select_sample_df"
   ]
  },
  {
   "cell_type": "code",
   "execution_count": null,
   "metadata": {
    "colab": {
     "base_uri": "https://localhost:8080/"
    },
    "id": "6XmTljIg7ftD",
    "outputId": "b77d29fe-248f-458c-ed06-fe74f7bdd0d9"
   },
   "outputs": [],
   "source": [
    "X_selected = select_sample_df\n",
    "X_selected_train, X_selected_test, revenue_y_train, revenue_y_test = train_test_split(X_selected, revenue_y, test_size = 0.2)\n",
    "\n",
    "X_selected_train_scaled=X_selected_train\n",
    "X_selected_test_scaled=X_selected_test\n",
    "revenue_y_train_scaled=revenue_y_train\n",
    "revenue_y_test_scaled=revenue_y_test\n",
    "\n",
    "X_selected_train_scaled[\"duration\"]=duration_scaler.transform(X_selected_train_scaled[[\"duration\"]])\n",
    "X_selected_train_scaled[\"day\"]=day_scaler.transform(X_selected_train_scaled[[\"day\"]])\n",
    "X_selected_test_scaled[\"duration\"]=duration_scaler.transform(X_selected_test_scaled[[\"duration\"]])\n",
    "X_selected_test_scaled[\"day\"]=day_scaler.transform(X_selected_test_scaled[[\"day\"]])\n",
    "\n",
    "print('X_train dimensions: ', X_selected_train_scaled.shape, 'y_train: ', revenue_y_train_scaled.shape)\n",
    "print('X_test dimensions:', X_selected_test_scaled.shape, 'y_validation: ', revenue_y_test_scaled.shape)"
   ]
  },
  {
   "cell_type": "code",
   "execution_count": null,
   "metadata": {
    "colab": {
     "base_uri": "https://localhost:8080/"
    },
    "id": "eJFA9fqF7f2c",
    "outputId": "a0669f4d-cdb9-4a9e-961a-31007d6e428e"
   },
   "outputs": [],
   "source": [
    "regressor = XGBRegressor(colsample_bytree= 0.6, gamma= 0.7, max_depth= 5, min_child_weight= 5,\n",
    "                         subsample = 0.8, objective='reg:squarederror')\n",
    "regressor.fit(X_selected_train_scaled, revenue_y_train_scaled)"
   ]
  },
  {
   "cell_type": "code",
   "execution_count": null,
   "metadata": {
    "colab": {
     "base_uri": "https://localhost:8080/"
    },
    "id": "37QutMiK7f6o",
    "outputId": "6f0453c6-ed95-45d4-b20d-ad3e8f5a2014"
   },
   "outputs": [],
   "source": [
    "revenue_y_pred = regressor.predict(X_selected_test_scaled)\n",
    "from sklearn.metrics import r2_score\n",
    "score = r2_score(revenue_y_test_scaled, revenue_y_pred)\n",
    "print(score)"
   ]
  },
  {
   "cell_type": "code",
   "execution_count": null,
   "metadata": {},
   "outputs": [],
   "source": [
    "regressor = XGBRegressor(max_depth= 7, min_child_weight= 4, learning_rate=0.1,\n",
    "                         n_estimators=500, colsample_bytree= 0.9, subsample = 0.7,\n",
    "                         gamma= 0.7, objective='reg:squarederror')"
   ]
  },
  {
   "cell_type": "code",
   "execution_count": null,
   "metadata": {
    "id": "SXx7IZSw7f91"
   },
   "outputs": [],
   "source": [
    "gridparas = {\n",
    "#    'max_depth': [3,5, 7],\n",
    "#    'learning_rate': [0.06,0.1,0.3],\n",
    "#    'n_estimators': [100,200, 500],\n",
    "#    'min_child_weight': [2, 3, 4],\n",
    "#    'max_delta_step': [0, 0.2, 0.6, 1, 2],\n",
    "#    'subsample': [0.5,0.6,0.7],\n",
    "#    'colsample_bytree': [0.8,0.9],\n",
    "#    'reg_alpha': [0, 0.25, 0.5, 0.75, 1],\n",
    "#    'reg_lambda': [0.2, 0.4, 0.6, 0.8, 1],\n",
    "#    'gamma': [0.1, 0.3],\n",
    "#    'scale_pos_weight': [0.2, 0.4, 0.6, 0.8, 1]\n",
    "}"
   ]
  },
  {
   "cell_type": "code",
   "execution_count": null,
   "metadata": {
    "colab": {
     "base_uri": "https://localhost:8080/"
    },
    "id": "Ik-1y0Zd8RHm",
    "outputId": "587376c7-29e2-431e-a9dc-3c3d38f7d8bc"
   },
   "outputs": [],
   "source": [
    "from sklearn.model_selection import GridSearchCV\n",
    "gsearch = GridSearchCV(regressor, param_grid=gridparas,verbose=3, n_jobs=-1)\n",
    "gsearch.fit(X_selected_train_scaled,revenue_y_train_scaled)"
   ]
  },
  {
   "cell_type": "code",
   "execution_count": null,
   "metadata": {
    "id": "VOx8XqN28RKD"
   },
   "outputs": [],
   "source": [
    "print(gsearch.best_params_)\n",
    "print(gsearch.best_score_)"
   ]
  },
  {
   "cell_type": "code",
   "execution_count": null,
   "metadata": {
    "id": "hPzXjobd8RMh"
   },
   "outputs": [],
   "source": [
    "regressor = XGBRegressor(max_depth= 7, min_child_weight= 4, learning_rate=0.1,\n",
    "                         n_estimators=500, colsample_bytree= 0.9, subsample = 0.7,\n",
    "                         gamma= 0.7, objective='reg:squarederror')\n",
    "regressor.fit(X_selected_train_scaled, revenue_y_train_scaled)"
   ]
  },
  {
   "cell_type": "code",
   "execution_count": null,
   "metadata": {
    "id": "XgvpsM6G8RUq"
   },
   "outputs": [],
   "source": [
    "revenue_y_pred = regressor.predict(X_selected_test_scaled)\n",
    "from sklearn.metrics import r2_score\n",
    "score = r2_score(revenue_y_test_scaled, revenue_y_pred)\n",
    "print(score)"
   ]
  },
  {
   "cell_type": "code",
   "execution_count": null,
   "metadata": {
    "id": "O6MmlPq6lVaX"
   },
   "outputs": [],
   "source": [
    "import joblib\n",
    "filename = 'Model/xgboost_model.sav'\n",
    "joblib.dump(regressor, filename)"
   ]
  },
  {
   "cell_type": "code",
   "execution_count": null,
   "metadata": {},
   "outputs": [],
   "source": [
    "filename = 'Model/xgboost_model.h5'\n",
    "joblib.dump(regressor, filename)"
   ]
  },
  {
   "cell_type": "code",
   "execution_count": null,
   "metadata": {},
   "outputs": [],
   "source": [
    "regressor.save_model(\"Model/xgboost_regressor.sav\")"
   ]
  },
  {
   "cell_type": "code",
   "execution_count": null,
   "metadata": {},
   "outputs": [],
   "source": [
    "select_sample_df.to_csv(\"Encoded_data/select_sample_df_xgb.csv\",index=False)"
   ]
  },
  {
   "cell_type": "code",
   "execution_count": null,
   "metadata": {},
   "outputs": [],
   "source": [
    "revenue_y.to_csv(\"Encoded_data/revenue_xgb.csv\",index=False)"
   ]
  },
  {
   "cell_type": "code",
   "execution_count": null,
   "metadata": {},
   "outputs": [],
   "source": []
  }
 ],
 "metadata": {
  "colab": {
   "collapsed_sections": [],
   "name": "01-Data-Processing-CPU",
   "provenance": []
  },
  "kernelspec": {
   "display_name": "Python 3",
   "language": "python",
   "name": "python3"
  },
  "language_info": {
   "codemirror_mode": {
    "name": "ipython",
    "version": 3
   },
   "file_extension": ".py",
   "mimetype": "text/x-python",
   "name": "python",
   "nbconvert_exporter": "python",
   "pygments_lexer": "ipython3",
   "version": "3.8.5"
  }
 },
 "nbformat": 4,
 "nbformat_minor": 1
}
