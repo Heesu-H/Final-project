{
 "cells": [
  {
   "cell_type": "code",
   "execution_count": 1,
   "metadata": {},
   "outputs": [],
   "source": [
    "# Dependencies\n",
    "import pandas as pd\n",
    "import numpy as np"
   ]
  },
  {
   "cell_type": "code",
   "execution_count": 2,
   "metadata": {},
   "outputs": [
    {
     "name": "stderr",
     "output_type": "stream",
     "text": [
      "C:\\Users\\WelanR_01\\anaconda3\\envs\\PythonData\\lib\\site-packages\\IPython\\core\\interactiveshell.py:3072: DtypeWarning: Columns (3) have mixed types.Specify dtype option on import or set low_memory=False.\n",
      "  interactivity=interactivity, compiler=compiler, result=result)\n"
     ]
    }
   ],
   "source": [
    "# Read CSV data and save as Pandas DataFrame\n",
    "data_movies = pd.read_csv(\"data/IMDb movies.csv\")\n",
    "data_names = pd.read_csv(\"data/IMDb names.csv\")\n",
    "data_ratings = pd.read_csv(\"data/IMDb ratings.csv\")\n",
    "data_title_principals = pd.read_csv(\"data/IMDb title_principals.csv\")\n",
    "\n",
    "df_movies = pd.DataFrame(data_movies)\n",
    "df_names = pd.DataFrame(data_names)\n",
    "df_ratings = pd.DataFrame(data_ratings)\n",
    "df_title = pd.DataFrame(data_title_principals)"
   ]
  },
  {
   "cell_type": "code",
   "execution_count": 10,
   "metadata": {},
   "outputs": [
    {
     "data": {
      "text/plain": [
       "imdb_title_id             object\n",
       "title                     object\n",
       "original_title            object\n",
       "year                      object\n",
       "date_published            object\n",
       "genre                     object\n",
       "duration                   int64\n",
       "country                   object\n",
       "language                  object\n",
       "director                  object\n",
       "writer                    object\n",
       "production_company        object\n",
       "actors                    object\n",
       "description               object\n",
       "avg_vote                 float64\n",
       "votes                      int64\n",
       "budget                    object\n",
       "usa_gross_income          object\n",
       "worlwide_gross_income     object\n",
       "metascore                float64\n",
       "reviews_from_users       float64\n",
       "reviews_from_critics     float64\n",
       "dtype: object"
      ]
     },
     "execution_count": 10,
     "metadata": {},
     "output_type": "execute_result"
    }
   ],
   "source": [
    "df_movies.dtypes"
   ]
  },
  {
   "cell_type": "code",
   "execution_count": 11,
   "metadata": {},
   "outputs": [
    {
     "data": {
      "text/plain": [
       "imdb_name_id              object\n",
       "name                      object\n",
       "birth_name                object\n",
       "height                   float64\n",
       "bio                       object\n",
       "birth_details             object\n",
       "date_of_birth             object\n",
       "place_of_birth            object\n",
       "death_details             object\n",
       "date_of_death             object\n",
       "place_of_death            object\n",
       "reason_of_death           object\n",
       "spouses_string            object\n",
       "spouses                    int64\n",
       "divorces                   int64\n",
       "spouses_with_children      int64\n",
       "children                   int64\n",
       "dtype: object"
      ]
     },
     "execution_count": 11,
     "metadata": {},
     "output_type": "execute_result"
    }
   ],
   "source": [
    "df_names.dtypes"
   ]
  },
  {
   "cell_type": "code",
   "execution_count": 12,
   "metadata": {},
   "outputs": [
    {
     "data": {
      "text/plain": [
       "imdb_title_id                 object\n",
       "weighted_average_vote        float64\n",
       "total_votes                    int64\n",
       "mean_vote                    float64\n",
       "median_vote                  float64\n",
       "votes_10                       int64\n",
       "votes_9                        int64\n",
       "votes_8                        int64\n",
       "votes_7                        int64\n",
       "votes_6                        int64\n",
       "votes_5                        int64\n",
       "votes_4                        int64\n",
       "votes_3                        int64\n",
       "votes_2                        int64\n",
       "votes_1                        int64\n",
       "allgenders_0age_avg_vote     float64\n",
       "allgenders_0age_votes        float64\n",
       "allgenders_18age_avg_vote    float64\n",
       "allgenders_18age_votes       float64\n",
       "allgenders_30age_avg_vote    float64\n",
       "allgenders_30age_votes       float64\n",
       "allgenders_45age_avg_vote    float64\n",
       "allgenders_45age_votes       float64\n",
       "males_allages_avg_vote       float64\n",
       "males_allages_votes          float64\n",
       "males_0age_avg_vote          float64\n",
       "males_0age_votes             float64\n",
       "males_18age_avg_vote         float64\n",
       "males_18age_votes            float64\n",
       "males_30age_avg_vote         float64\n",
       "males_30age_votes            float64\n",
       "males_45age_avg_vote         float64\n",
       "males_45age_votes            float64\n",
       "females_allages_avg_vote     float64\n",
       "females_allages_votes        float64\n",
       "females_0age_avg_vote        float64\n",
       "females_0age_votes           float64\n",
       "females_18age_avg_vote       float64\n",
       "females_18age_votes          float64\n",
       "females_30age_avg_vote       float64\n",
       "females_30age_votes          float64\n",
       "females_45age_avg_vote       float64\n",
       "females_45age_votes          float64\n",
       "top1000_voters_rating        float64\n",
       "top1000_voters_votes         float64\n",
       "us_voters_rating             float64\n",
       "us_voters_votes              float64\n",
       "non_us_voters_rating         float64\n",
       "non_us_voters_votes          float64\n",
       "dtype: object"
      ]
     },
     "execution_count": 12,
     "metadata": {},
     "output_type": "execute_result"
    }
   ],
   "source": [
    "df_ratings.dtypes"
   ]
  },
  {
   "cell_type": "code",
   "execution_count": 13,
   "metadata": {},
   "outputs": [
    {
     "data": {
      "text/plain": [
       "imdb_title_id    object\n",
       "ordering          int64\n",
       "imdb_name_id     object\n",
       "category         object\n",
       "job              object\n",
       "characters       object\n",
       "dtype: object"
      ]
     },
     "execution_count": 13,
     "metadata": {},
     "output_type": "execute_result"
    }
   ],
   "source": [
    "df_title.dtypes"
   ]
  },
  {
   "cell_type": "code",
   "execution_count": null,
   "metadata": {},
   "outputs": [],
   "source": []
  }
 ],
 "metadata": {
  "kernelspec": {
   "display_name": "Python [conda env:PythonData] *",
   "language": "python",
   "name": "conda-env-PythonData-py"
  },
  "language_info": {
   "codemirror_mode": {
    "name": "ipython",
    "version": 3
   },
   "file_extension": ".py",
   "mimetype": "text/x-python",
   "name": "python",
   "nbconvert_exporter": "python",
   "pygments_lexer": "ipython3",
   "version": "3.6.10"
  }
 },
 "nbformat": 4,
 "nbformat_minor": 4
}
